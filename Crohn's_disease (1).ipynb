{
 "cells": [
  {
   "cell_type": "markdown",
   "metadata": {
    "id": "OiGzLmVGWu0y"
   },
   "source": [
    "I will need the scripts as well as the model itself. Can you explain the steps using \"#\" while writing the script and creating the model? What parameters you used why you used and what the outcome tells us? How can we improve the model? If you could provide those explanations and your insights I would be very grateful. Thanks!"
   ]
  },
  {
   "cell_type": "markdown",
   "metadata": {
    "id": "lEYA7in4W6mo"
   },
   "source": [
    "## we will only use \"stool\" for sample_location column."
   ]
  },
  {
   "cell_type": "markdown",
   "metadata": {
    "id": "3LAlsxkxW-0X"
   },
   "source": [
    "I have obtained 16S rRNA sequence data from stool samples of patients, along with abundance values for different bacteria species and corresponding metadata such as sample ID, gender, and disease status (Crohn's disease or not). The abundance values and metadata are stored in separate files. The abundance values are numerical, and there may be missing values in the dataset.\n",
    "\n",
    "\n",
    "\n",
    "I need your expertise to develop a diagnosis model for Crohn's disease using a random forest machine learning approach in Python. The model should utilize the abundance values of bacteria as features and consider the metadata variables (sample ID, gender, and disease status) as additional inputs."
   ]
  },
  {
   "cell_type": "code",
   "execution_count": 83,
   "metadata": {
    "id": "tQveIpw4WtBl"
   },
   "outputs": [],
   "source": [
    "import pandas as pd\n",
    "import seaborn as sns\n",
    "import matplotlib.pyplot as plt"
   ]
  },
  {
   "cell_type": "code",
   "execution_count": 84,
   "metadata": {
    "colab": {
     "base_uri": "https://localhost:8080/",
     "height": 357
    },
    "id": "9P7W5znbXOJf",
    "outputId": "cdd296a3-8f08-44c8-a74d-cfcb986dc2dc"
   },
   "outputs": [
    {
     "data": {
      "text/html": [
       "\n",
       "  <div id=\"df-b1076093-a8be-4a34-be92-c6a711aa75bc\">\n",
       "    <div class=\"colab-df-container\">\n",
       "      <div>\n",
       "<style scoped>\n",
       "    .dataframe tbody tr th:only-of-type {\n",
       "        vertical-align: middle;\n",
       "    }\n",
       "\n",
       "    .dataframe tbody tr th {\n",
       "        vertical-align: top;\n",
       "    }\n",
       "\n",
       "    .dataframe thead th {\n",
       "        text-align: right;\n",
       "    }\n",
       "</style>\n",
       "<table border=\"1\" class=\"dataframe\">\n",
       "  <thead>\n",
       "    <tr style=\"text-align: right;\">\n",
       "      <th></th>\n",
       "      <th>sample</th>\n",
       "      <th>subject</th>\n",
       "      <th>AB_exposure</th>\n",
       "      <th>Diagnosis</th>\n",
       "      <th>PCDAI</th>\n",
       "      <th>race</th>\n",
       "      <th>sample_location</th>\n",
       "      <th>Erysipelotrichaceae</th>\n",
       "      <th>Neisseriaceae</th>\n",
       "      <th>Clostridiales</th>\n",
       "      <th>Pasteurellaceae</th>\n",
       "      <th>Bifidobacteriaceae</th>\n",
       "      <th>Fusobacteriaceae</th>\n",
       "      <th>Veillonellaceae</th>\n",
       "      <th>Enterobacteriaceae</th>\n",
       "      <th>Micrococcaceae</th>\n",
       "      <th>Verrucomicrobiaceae</th>\n",
       "      <th>Gemellaceae</th>\n",
       "      <th>Coriobacteriaceae</th>\n",
       "      <th>Bacteroidales</th>\n",
       "    </tr>\n",
       "  </thead>\n",
       "  <tbody>\n",
       "    <tr>\n",
       "      <th>0</th>\n",
       "      <td>01-001.S</td>\n",
       "      <td>M1-0001</td>\n",
       "      <td>NoAB</td>\n",
       "      <td>CD</td>\n",
       "      <td>35.0</td>\n",
       "      <td>caucasian</td>\n",
       "      <td>stool</td>\n",
       "      <td>0.007525</td>\n",
       "      <td>0.000719</td>\n",
       "      <td>0.452681</td>\n",
       "      <td>0.016488</td>\n",
       "      <td>0.000518</td>\n",
       "      <td>0.001240</td>\n",
       "      <td>0.019947</td>\n",
       "      <td>0.008132</td>\n",
       "      <td>0.000056</td>\n",
       "      <td>0.000030</td>\n",
       "      <td>0.000097</td>\n",
       "      <td>0.001132</td>\n",
       "      <td>0.462303</td>\n",
       "    </tr>\n",
       "    <tr>\n",
       "      <th>1</th>\n",
       "      <td>01-005.S</td>\n",
       "      <td>M1-0002</td>\n",
       "      <td>YesAB</td>\n",
       "      <td>CD</td>\n",
       "      <td>27.5</td>\n",
       "      <td>african</td>\n",
       "      <td>stool</td>\n",
       "      <td>0.019892</td>\n",
       "      <td>0.000000</td>\n",
       "      <td>0.738201</td>\n",
       "      <td>0.004638</td>\n",
       "      <td>0.000015</td>\n",
       "      <td>0.000020</td>\n",
       "      <td>0.055190</td>\n",
       "      <td>0.001412</td>\n",
       "      <td>0.000070</td>\n",
       "      <td>0.000025</td>\n",
       "      <td>0.000136</td>\n",
       "      <td>0.001115</td>\n",
       "      <td>0.221703</td>\n",
       "    </tr>\n",
       "    <tr>\n",
       "      <th>2</th>\n",
       "      <td>01-006.S</td>\n",
       "      <td>M1-0003</td>\n",
       "      <td>NoAB</td>\n",
       "      <td>CD</td>\n",
       "      <td>25.0</td>\n",
       "      <td>african</td>\n",
       "      <td>stool</td>\n",
       "      <td>0.034836</td>\n",
       "      <td>0.001584</td>\n",
       "      <td>0.228197</td>\n",
       "      <td>0.174006</td>\n",
       "      <td>0.002362</td>\n",
       "      <td>0.026368</td>\n",
       "      <td>0.106653</td>\n",
       "      <td>0.183021</td>\n",
       "      <td>0.000720</td>\n",
       "      <td>0.000029</td>\n",
       "      <td>0.078024</td>\n",
       "      <td>0.006034</td>\n",
       "      <td>0.195925</td>\n",
       "    </tr>\n",
       "    <tr>\n",
       "      <th>3</th>\n",
       "      <td>04-102.S</td>\n",
       "      <td>M1-0892</td>\n",
       "      <td>NoAB</td>\n",
       "      <td>CD</td>\n",
       "      <td>57.5</td>\n",
       "      <td>other</td>\n",
       "      <td>stool</td>\n",
       "      <td>0.012066</td>\n",
       "      <td>0.000000</td>\n",
       "      <td>0.956640</td>\n",
       "      <td>0.000022</td>\n",
       "      <td>0.000022</td>\n",
       "      <td>0.000022</td>\n",
       "      <td>0.052672</td>\n",
       "      <td>0.008087</td>\n",
       "      <td>0.000043</td>\n",
       "      <td>0.001721</td>\n",
       "      <td>0.000129</td>\n",
       "      <td>0.000774</td>\n",
       "      <td>0.012345</td>\n",
       "    </tr>\n",
       "    <tr>\n",
       "      <th>4</th>\n",
       "      <td>SKSTL0001</td>\n",
       "      <td>M1-0873</td>\n",
       "      <td>NoAB</td>\n",
       "      <td>CD</td>\n",
       "      <td>35.0</td>\n",
       "      <td>caucasian</td>\n",
       "      <td>stool</td>\n",
       "      <td>0.051680</td>\n",
       "      <td>0.000000</td>\n",
       "      <td>0.469825</td>\n",
       "      <td>0.027256</td>\n",
       "      <td>0.058034</td>\n",
       "      <td>0.031984</td>\n",
       "      <td>0.090631</td>\n",
       "      <td>0.039372</td>\n",
       "      <td>0.000057</td>\n",
       "      <td>0.000000</td>\n",
       "      <td>0.000134</td>\n",
       "      <td>0.001857</td>\n",
       "      <td>0.259833</td>\n",
       "    </tr>\n",
       "  </tbody>\n",
       "</table>\n",
       "</div>\n",
       "      <button class=\"colab-df-convert\" onclick=\"convertToInteractive('df-b1076093-a8be-4a34-be92-c6a711aa75bc')\"\n",
       "              title=\"Convert this dataframe to an interactive table.\"\n",
       "              style=\"display:none;\">\n",
       "        \n",
       "  <svg xmlns=\"http://www.w3.org/2000/svg\" height=\"24px\"viewBox=\"0 0 24 24\"\n",
       "       width=\"24px\">\n",
       "    <path d=\"M0 0h24v24H0V0z\" fill=\"none\"/>\n",
       "    <path d=\"M18.56 5.44l.94 2.06.94-2.06 2.06-.94-2.06-.94-.94-2.06-.94 2.06-2.06.94zm-11 1L8.5 8.5l.94-2.06 2.06-.94-2.06-.94L8.5 2.5l-.94 2.06-2.06.94zm10 10l.94 2.06.94-2.06 2.06-.94-2.06-.94-.94-2.06-.94 2.06-2.06.94z\"/><path d=\"M17.41 7.96l-1.37-1.37c-.4-.4-.92-.59-1.43-.59-.52 0-1.04.2-1.43.59L10.3 9.45l-7.72 7.72c-.78.78-.78 2.05 0 2.83L4 21.41c.39.39.9.59 1.41.59.51 0 1.02-.2 1.41-.59l7.78-7.78 2.81-2.81c.8-.78.8-2.07 0-2.86zM5.41 20L4 18.59l7.72-7.72 1.47 1.35L5.41 20z\"/>\n",
       "  </svg>\n",
       "      </button>\n",
       "      \n",
       "  <style>\n",
       "    .colab-df-container {\n",
       "      display:flex;\n",
       "      flex-wrap:wrap;\n",
       "      gap: 12px;\n",
       "    }\n",
       "\n",
       "    .colab-df-convert {\n",
       "      background-color: #E8F0FE;\n",
       "      border: none;\n",
       "      border-radius: 50%;\n",
       "      cursor: pointer;\n",
       "      display: none;\n",
       "      fill: #1967D2;\n",
       "      height: 32px;\n",
       "      padding: 0 0 0 0;\n",
       "      width: 32px;\n",
       "    }\n",
       "\n",
       "    .colab-df-convert:hover {\n",
       "      background-color: #E2EBFA;\n",
       "      box-shadow: 0px 1px 2px rgba(60, 64, 67, 0.3), 0px 1px 3px 1px rgba(60, 64, 67, 0.15);\n",
       "      fill: #174EA6;\n",
       "    }\n",
       "\n",
       "    [theme=dark] .colab-df-convert {\n",
       "      background-color: #3B4455;\n",
       "      fill: #D2E3FC;\n",
       "    }\n",
       "\n",
       "    [theme=dark] .colab-df-convert:hover {\n",
       "      background-color: #434B5C;\n",
       "      box-shadow: 0px 1px 3px 1px rgba(0, 0, 0, 0.15);\n",
       "      filter: drop-shadow(0px 1px 2px rgba(0, 0, 0, 0.3));\n",
       "      fill: #FFFFFF;\n",
       "    }\n",
       "  </style>\n",
       "\n",
       "      <script>\n",
       "        const buttonEl =\n",
       "          document.querySelector('#df-b1076093-a8be-4a34-be92-c6a711aa75bc button.colab-df-convert');\n",
       "        buttonEl.style.display =\n",
       "          google.colab.kernel.accessAllowed ? 'block' : 'none';\n",
       "\n",
       "        async function convertToInteractive(key) {\n",
       "          const element = document.querySelector('#df-b1076093-a8be-4a34-be92-c6a711aa75bc');\n",
       "          const dataTable =\n",
       "            await google.colab.kernel.invokeFunction('convertToInteractive',\n",
       "                                                     [key], {});\n",
       "          if (!dataTable) return;\n",
       "\n",
       "          const docLinkHtml = 'Like what you see? Visit the ' +\n",
       "            '<a target=\"_blank\" href=https://colab.research.google.com/notebooks/data_table.ipynb>data table notebook</a>'\n",
       "            + ' to learn more about interactive tables.';\n",
       "          element.innerHTML = '';\n",
       "          dataTable['output_type'] = 'display_data';\n",
       "          await google.colab.output.renderOutput(dataTable, element);\n",
       "          const docLink = document.createElement('div');\n",
       "          docLink.innerHTML = docLinkHtml;\n",
       "          element.appendChild(docLink);\n",
       "        }\n",
       "      </script>\n",
       "    </div>\n",
       "  </div>\n",
       "  "
      ],
      "text/plain": [
       "      sample  subject AB_exposure Diagnosis  PCDAI       race sample_location  \\\n",
       "0   01-001.S  M1-0001        NoAB        CD   35.0  caucasian           stool   \n",
       "1   01-005.S  M1-0002       YesAB        CD   27.5    african           stool   \n",
       "2   01-006.S  M1-0003        NoAB        CD   25.0    african           stool   \n",
       "3   04-102.S  M1-0892        NoAB        CD   57.5      other           stool   \n",
       "4  SKSTL0001  M1-0873        NoAB        CD   35.0  caucasian           stool   \n",
       "\n",
       "   Erysipelotrichaceae  Neisseriaceae  Clostridiales  Pasteurellaceae  \\\n",
       "0             0.007525       0.000719       0.452681         0.016488   \n",
       "1             0.019892       0.000000       0.738201         0.004638   \n",
       "2             0.034836       0.001584       0.228197         0.174006   \n",
       "3             0.012066       0.000000       0.956640         0.000022   \n",
       "4             0.051680       0.000000       0.469825         0.027256   \n",
       "\n",
       "   Bifidobacteriaceae  Fusobacteriaceae  Veillonellaceae  Enterobacteriaceae  \\\n",
       "0            0.000518          0.001240         0.019947            0.008132   \n",
       "1            0.000015          0.000020         0.055190            0.001412   \n",
       "2            0.002362          0.026368         0.106653            0.183021   \n",
       "3            0.000022          0.000022         0.052672            0.008087   \n",
       "4            0.058034          0.031984         0.090631            0.039372   \n",
       "\n",
       "   Micrococcaceae  Verrucomicrobiaceae  Gemellaceae  Coriobacteriaceae  \\\n",
       "0        0.000056             0.000030     0.000097           0.001132   \n",
       "1        0.000070             0.000025     0.000136           0.001115   \n",
       "2        0.000720             0.000029     0.078024           0.006034   \n",
       "3        0.000043             0.001721     0.000129           0.000774   \n",
       "4        0.000057             0.000000     0.000134           0.001857   \n",
       "\n",
       "   Bacteroidales  \n",
       "0       0.462303  \n",
       "1       0.221703  \n",
       "2       0.195925  \n",
       "3       0.012345  \n",
       "4       0.259833  "
      ]
     },
     "execution_count": 84,
     "metadata": {},
     "output_type": "execute_result"
    }
   ],
   "source": [
    "df = pd.read_excel('metadata.xlsx' )\n",
    "df.head()"
   ]
  },
  {
   "cell_type": "markdown",
   "metadata": {
    "id": "f-q61VXqZluw"
   },
   "source": [
    "Let's filter the data on  \"stool\" for sample_location column."
   ]
  },
  {
   "cell_type": "code",
   "execution_count": 85,
   "metadata": {
    "id": "hVIY2gLkZjEi"
   },
   "outputs": [],
   "source": [
    "df = df.loc[df['sample_location']=='stool']"
   ]
  },
  {
   "cell_type": "code",
   "execution_count": 86,
   "metadata": {
    "colab": {
     "base_uri": "https://localhost:8080/"
    },
    "id": "YV0n8OnkYR00",
    "outputId": "38e7ce2d-d1cb-4828-d2ac-ac23b9ae7bcd"
   },
   "outputs": [
    {
     "data": {
      "text/plain": [
       "(255, 20)"
      ]
     },
     "execution_count": 86,
     "metadata": {},
     "output_type": "execute_result"
    }
   ],
   "source": [
    "df.shape"
   ]
  },
  {
   "cell_type": "code",
   "execution_count": 87,
   "metadata": {
    "colab": {
     "base_uri": "https://localhost:8080/",
     "height": 364
    },
    "id": "RewWesGvabjN",
    "outputId": "a0dfb2b5-d0eb-44d6-8832-0a1dd369faad"
   },
   "outputs": [
    {
     "data": {
      "text/html": [
       "\n",
       "  <div id=\"df-97428edc-d9dc-42d5-b6f7-2ecc1ea4ad8d\">\n",
       "    <div class=\"colab-df-container\">\n",
       "      <div>\n",
       "<style scoped>\n",
       "    .dataframe tbody tr th:only-of-type {\n",
       "        vertical-align: middle;\n",
       "    }\n",
       "\n",
       "    .dataframe tbody tr th {\n",
       "        vertical-align: top;\n",
       "    }\n",
       "\n",
       "    .dataframe thead th {\n",
       "        text-align: right;\n",
       "    }\n",
       "</style>\n",
       "<table border=\"1\" class=\"dataframe\">\n",
       "  <thead>\n",
       "    <tr style=\"text-align: right;\">\n",
       "      <th></th>\n",
       "      <th>PCDAI</th>\n",
       "      <th>Erysipelotrichaceae</th>\n",
       "      <th>Neisseriaceae</th>\n",
       "      <th>Clostridiales</th>\n",
       "      <th>Pasteurellaceae</th>\n",
       "      <th>Bifidobacteriaceae</th>\n",
       "      <th>Fusobacteriaceae</th>\n",
       "      <th>Veillonellaceae</th>\n",
       "      <th>Enterobacteriaceae</th>\n",
       "      <th>Micrococcaceae</th>\n",
       "      <th>Verrucomicrobiaceae</th>\n",
       "      <th>Gemellaceae</th>\n",
       "      <th>Coriobacteriaceae</th>\n",
       "      <th>Bacteroidales</th>\n",
       "    </tr>\n",
       "  </thead>\n",
       "  <tbody>\n",
       "    <tr>\n",
       "      <th>count</th>\n",
       "      <td>219.000000</td>\n",
       "      <td>255.000000</td>\n",
       "      <td>255.000000</td>\n",
       "      <td>255.000000</td>\n",
       "      <td>255.000000</td>\n",
       "      <td>255.000000</td>\n",
       "      <td>255.000000</td>\n",
       "      <td>255.000000</td>\n",
       "      <td>255.000000</td>\n",
       "      <td>255.000000</td>\n",
       "      <td>255.000000</td>\n",
       "      <td>255.000000</td>\n",
       "      <td>255.000000</td>\n",
       "      <td>255.000000</td>\n",
       "    </tr>\n",
       "    <tr>\n",
       "      <th>mean</th>\n",
       "      <td>31.997717</td>\n",
       "      <td>0.037495</td>\n",
       "      <td>0.000498</td>\n",
       "      <td>0.520968</td>\n",
       "      <td>0.019830</td>\n",
       "      <td>0.048553</td>\n",
       "      <td>0.009134</td>\n",
       "      <td>0.045818</td>\n",
       "      <td>0.055448</td>\n",
       "      <td>0.000144</td>\n",
       "      <td>0.007064</td>\n",
       "      <td>0.002074</td>\n",
       "      <td>0.013222</td>\n",
       "      <td>0.159825</td>\n",
       "    </tr>\n",
       "    <tr>\n",
       "      <th>std</th>\n",
       "      <td>15.149446</td>\n",
       "      <td>0.039019</td>\n",
       "      <td>0.002571</td>\n",
       "      <td>0.254155</td>\n",
       "      <td>0.064874</td>\n",
       "      <td>0.071636</td>\n",
       "      <td>0.037611</td>\n",
       "      <td>0.065884</td>\n",
       "      <td>0.121437</td>\n",
       "      <td>0.000651</td>\n",
       "      <td>0.028973</td>\n",
       "      <td>0.008295</td>\n",
       "      <td>0.019125</td>\n",
       "      <td>0.170116</td>\n",
       "    </tr>\n",
       "    <tr>\n",
       "      <th>min</th>\n",
       "      <td>0.000000</td>\n",
       "      <td>0.000000</td>\n",
       "      <td>0.000000</td>\n",
       "      <td>0.000354</td>\n",
       "      <td>0.000000</td>\n",
       "      <td>0.000000</td>\n",
       "      <td>0.000000</td>\n",
       "      <td>0.000000</td>\n",
       "      <td>0.000000</td>\n",
       "      <td>0.000000</td>\n",
       "      <td>0.000000</td>\n",
       "      <td>0.000000</td>\n",
       "      <td>0.000000</td>\n",
       "      <td>0.000082</td>\n",
       "    </tr>\n",
       "    <tr>\n",
       "      <th>25%</th>\n",
       "      <td>22.500000</td>\n",
       "      <td>0.010344</td>\n",
       "      <td>0.000000</td>\n",
       "      <td>0.393322</td>\n",
       "      <td>0.000049</td>\n",
       "      <td>0.000840</td>\n",
       "      <td>0.000000</td>\n",
       "      <td>0.003378</td>\n",
       "      <td>0.000646</td>\n",
       "      <td>0.000000</td>\n",
       "      <td>0.000000</td>\n",
       "      <td>0.000085</td>\n",
       "      <td>0.001385</td>\n",
       "      <td>0.013059</td>\n",
       "    </tr>\n",
       "    <tr>\n",
       "      <th>50%</th>\n",
       "      <td>32.500000</td>\n",
       "      <td>0.026253</td>\n",
       "      <td>0.000000</td>\n",
       "      <td>0.565764</td>\n",
       "      <td>0.000596</td>\n",
       "      <td>0.016891</td>\n",
       "      <td>0.000061</td>\n",
       "      <td>0.021672</td>\n",
       "      <td>0.007666</td>\n",
       "      <td>0.000012</td>\n",
       "      <td>0.000013</td>\n",
       "      <td>0.000251</td>\n",
       "      <td>0.005724</td>\n",
       "      <td>0.094019</td>\n",
       "    </tr>\n",
       "    <tr>\n",
       "      <th>75%</th>\n",
       "      <td>42.500000</td>\n",
       "      <td>0.052319</td>\n",
       "      <td>0.000064</td>\n",
       "      <td>0.710686</td>\n",
       "      <td>0.007558</td>\n",
       "      <td>0.063670</td>\n",
       "      <td>0.000643</td>\n",
       "      <td>0.057288</td>\n",
       "      <td>0.045033</td>\n",
       "      <td>0.000070</td>\n",
       "      <td>0.000100</td>\n",
       "      <td>0.000854</td>\n",
       "      <td>0.017074</td>\n",
       "      <td>0.283993</td>\n",
       "    </tr>\n",
       "    <tr>\n",
       "      <th>max</th>\n",
       "      <td>70.000000</td>\n",
       "      <td>0.249037</td>\n",
       "      <td>0.025667</td>\n",
       "      <td>0.965537</td>\n",
       "      <td>0.571583</td>\n",
       "      <td>0.395197</td>\n",
       "      <td>0.282495</td>\n",
       "      <td>0.554356</td>\n",
       "      <td>0.976884</td>\n",
       "      <td>0.008476</td>\n",
       "      <td>0.250594</td>\n",
       "      <td>0.078024</td>\n",
       "      <td>0.116350</td>\n",
       "      <td>0.660427</td>\n",
       "    </tr>\n",
       "  </tbody>\n",
       "</table>\n",
       "</div>\n",
       "      <button class=\"colab-df-convert\" onclick=\"convertToInteractive('df-97428edc-d9dc-42d5-b6f7-2ecc1ea4ad8d')\"\n",
       "              title=\"Convert this dataframe to an interactive table.\"\n",
       "              style=\"display:none;\">\n",
       "        \n",
       "  <svg xmlns=\"http://www.w3.org/2000/svg\" height=\"24px\"viewBox=\"0 0 24 24\"\n",
       "       width=\"24px\">\n",
       "    <path d=\"M0 0h24v24H0V0z\" fill=\"none\"/>\n",
       "    <path d=\"M18.56 5.44l.94 2.06.94-2.06 2.06-.94-2.06-.94-.94-2.06-.94 2.06-2.06.94zm-11 1L8.5 8.5l.94-2.06 2.06-.94-2.06-.94L8.5 2.5l-.94 2.06-2.06.94zm10 10l.94 2.06.94-2.06 2.06-.94-2.06-.94-.94-2.06-.94 2.06-2.06.94z\"/><path d=\"M17.41 7.96l-1.37-1.37c-.4-.4-.92-.59-1.43-.59-.52 0-1.04.2-1.43.59L10.3 9.45l-7.72 7.72c-.78.78-.78 2.05 0 2.83L4 21.41c.39.39.9.59 1.41.59.51 0 1.02-.2 1.41-.59l7.78-7.78 2.81-2.81c.8-.78.8-2.07 0-2.86zM5.41 20L4 18.59l7.72-7.72 1.47 1.35L5.41 20z\"/>\n",
       "  </svg>\n",
       "      </button>\n",
       "      \n",
       "  <style>\n",
       "    .colab-df-container {\n",
       "      display:flex;\n",
       "      flex-wrap:wrap;\n",
       "      gap: 12px;\n",
       "    }\n",
       "\n",
       "    .colab-df-convert {\n",
       "      background-color: #E8F0FE;\n",
       "      border: none;\n",
       "      border-radius: 50%;\n",
       "      cursor: pointer;\n",
       "      display: none;\n",
       "      fill: #1967D2;\n",
       "      height: 32px;\n",
       "      padding: 0 0 0 0;\n",
       "      width: 32px;\n",
       "    }\n",
       "\n",
       "    .colab-df-convert:hover {\n",
       "      background-color: #E2EBFA;\n",
       "      box-shadow: 0px 1px 2px rgba(60, 64, 67, 0.3), 0px 1px 3px 1px rgba(60, 64, 67, 0.15);\n",
       "      fill: #174EA6;\n",
       "    }\n",
       "\n",
       "    [theme=dark] .colab-df-convert {\n",
       "      background-color: #3B4455;\n",
       "      fill: #D2E3FC;\n",
       "    }\n",
       "\n",
       "    [theme=dark] .colab-df-convert:hover {\n",
       "      background-color: #434B5C;\n",
       "      box-shadow: 0px 1px 3px 1px rgba(0, 0, 0, 0.15);\n",
       "      filter: drop-shadow(0px 1px 2px rgba(0, 0, 0, 0.3));\n",
       "      fill: #FFFFFF;\n",
       "    }\n",
       "  </style>\n",
       "\n",
       "      <script>\n",
       "        const buttonEl =\n",
       "          document.querySelector('#df-97428edc-d9dc-42d5-b6f7-2ecc1ea4ad8d button.colab-df-convert');\n",
       "        buttonEl.style.display =\n",
       "          google.colab.kernel.accessAllowed ? 'block' : 'none';\n",
       "\n",
       "        async function convertToInteractive(key) {\n",
       "          const element = document.querySelector('#df-97428edc-d9dc-42d5-b6f7-2ecc1ea4ad8d');\n",
       "          const dataTable =\n",
       "            await google.colab.kernel.invokeFunction('convertToInteractive',\n",
       "                                                     [key], {});\n",
       "          if (!dataTable) return;\n",
       "\n",
       "          const docLinkHtml = 'Like what you see? Visit the ' +\n",
       "            '<a target=\"_blank\" href=https://colab.research.google.com/notebooks/data_table.ipynb>data table notebook</a>'\n",
       "            + ' to learn more about interactive tables.';\n",
       "          element.innerHTML = '';\n",
       "          dataTable['output_type'] = 'display_data';\n",
       "          await google.colab.output.renderOutput(dataTable, element);\n",
       "          const docLink = document.createElement('div');\n",
       "          docLink.innerHTML = docLinkHtml;\n",
       "          element.appendChild(docLink);\n",
       "        }\n",
       "      </script>\n",
       "    </div>\n",
       "  </div>\n",
       "  "
      ],
      "text/plain": [
       "            PCDAI  Erysipelotrichaceae  Neisseriaceae  Clostridiales  \\\n",
       "count  219.000000           255.000000     255.000000     255.000000   \n",
       "mean    31.997717             0.037495       0.000498       0.520968   \n",
       "std     15.149446             0.039019       0.002571       0.254155   \n",
       "min      0.000000             0.000000       0.000000       0.000354   \n",
       "25%     22.500000             0.010344       0.000000       0.393322   \n",
       "50%     32.500000             0.026253       0.000000       0.565764   \n",
       "75%     42.500000             0.052319       0.000064       0.710686   \n",
       "max     70.000000             0.249037       0.025667       0.965537   \n",
       "\n",
       "       Pasteurellaceae  Bifidobacteriaceae  Fusobacteriaceae  Veillonellaceae  \\\n",
       "count       255.000000          255.000000        255.000000       255.000000   \n",
       "mean          0.019830            0.048553          0.009134         0.045818   \n",
       "std           0.064874            0.071636          0.037611         0.065884   \n",
       "min           0.000000            0.000000          0.000000         0.000000   \n",
       "25%           0.000049            0.000840          0.000000         0.003378   \n",
       "50%           0.000596            0.016891          0.000061         0.021672   \n",
       "75%           0.007558            0.063670          0.000643         0.057288   \n",
       "max           0.571583            0.395197          0.282495         0.554356   \n",
       "\n",
       "       Enterobacteriaceae  Micrococcaceae  Verrucomicrobiaceae  Gemellaceae  \\\n",
       "count          255.000000      255.000000           255.000000   255.000000   \n",
       "mean             0.055448        0.000144             0.007064     0.002074   \n",
       "std              0.121437        0.000651             0.028973     0.008295   \n",
       "min              0.000000        0.000000             0.000000     0.000000   \n",
       "25%              0.000646        0.000000             0.000000     0.000085   \n",
       "50%              0.007666        0.000012             0.000013     0.000251   \n",
       "75%              0.045033        0.000070             0.000100     0.000854   \n",
       "max              0.976884        0.008476             0.250594     0.078024   \n",
       "\n",
       "       Coriobacteriaceae  Bacteroidales  \n",
       "count         255.000000     255.000000  \n",
       "mean            0.013222       0.159825  \n",
       "std             0.019125       0.170116  \n",
       "min             0.000000       0.000082  \n",
       "25%             0.001385       0.013059  \n",
       "50%             0.005724       0.094019  \n",
       "75%             0.017074       0.283993  \n",
       "max             0.116350       0.660427  "
      ]
     },
     "execution_count": 87,
     "metadata": {},
     "output_type": "execute_result"
    }
   ],
   "source": [
    "df.describe()"
   ]
  },
  {
   "cell_type": "code",
   "execution_count": 88,
   "metadata": {
    "colab": {
     "base_uri": "https://localhost:8080/"
    },
    "id": "TCY7gpekae5Y",
    "outputId": "6b991d72-ef5e-434c-d6f6-47adde3cfc60"
   },
   "outputs": [
    {
     "name": "stdout",
     "output_type": "stream",
     "text": [
      "+----+---------------------+-----------------+-------------------+---------+\n",
      "|    | Feature             |   Unique_values |   % MissingValues | type    |\n",
      "|----+---------------------+-----------------+-------------------+---------|\n",
      "|  4 | PCDAI               |              27 |           14.1176 | float64 |\n",
      "|  0 | sample              |             255 |            0      | object  |\n",
      "| 11 | Bifidobacteriaceae  |             249 |            0      | float64 |\n",
      "| 18 | Coriobacteriaceae   |             245 |            0      | float64 |\n",
      "| 17 | Gemellaceae         |             232 |            0      | float64 |\n",
      "| 16 | Verrucomicrobiaceae |             144 |            0      | float64 |\n",
      "| 15 | Micrococcaceae      |             135 |            0      | float64 |\n",
      "| 14 | Enterobacteriaceae  |             250 |            0      | float64 |\n",
      "| 13 | Veillonellaceae     |             254 |            0      | float64 |\n",
      "| 12 | Fusobacteriaceae    |             180 |            0      | float64 |\n",
      "| 10 | Pasteurellaceae     |             224 |            0      | float64 |\n",
      "|  1 | subject             |             233 |            0      | object  |\n",
      "|  9 | Clostridiales       |             255 |            0      | float64 |\n",
      "|  8 | Neisseriaceae       |              97 |            0      | float64 |\n",
      "|  7 | Erysipelotrichaceae |             255 |            0      | float64 |\n",
      "|  6 | sample_location     |               1 |            0      | object  |\n",
      "|  5 | race                |               3 |            0      | object  |\n",
      "|  3 | Diagnosis           |               2 |            0      | object  |\n",
      "|  2 | AB_exposure         |               2 |            0      | object  |\n",
      "| 19 | Bacteroidales       |             255 |            0      | float64 |\n",
      "+----+---------------------+-----------------+-------------------+---------+\n"
     ]
    }
   ],
   "source": [
    "# Let's take a look and visualize the percentage of nan values, unique values and the type of our features\n",
    "from tabulate import tabulate\n",
    "stats = []\n",
    "for col in df.columns:\n",
    "    stats.append((col, df[col].nunique(), df[col].isnull().sum() * 100 / df.shape[0], df[col].dtype))\n",
    "    stats_df = pd.DataFrame(stats, columns=['Feature', 'Unique_values', '% MissingValues', 'type'])\n",
    "    df_ = stats_df.sort_values('% MissingValues', ascending=False)\n",
    "print(tabulate(df_, headers = 'keys', tablefmt = 'psql'))"
   ]
  },
  {
   "cell_type": "markdown",
   "metadata": {
    "id": "2FnNpqvxcF4w"
   },
   "source": [
    "We can see that there are no nan values only in the column \"PCDAI\" which is Pediatric Crohn's Disease Activity Index. It was designed to allow patient stratification by disease severity and to create a score that could measure response to therapeutic interventions in pediatric patients with Crohns disease.</br>\n",
    "Two scenarios: </br>\n",
    "- Imputation: Since the column \"PCDAI\" contains an important measure for patient stratification and response to interventions in pediatric patients with Crohn's disease, it would be advisable to retain this information. We can use the mean to fill the missing values or we can use more sophisticated way like k-nearest neighbors imputation.\n",
    "- Column Deletion:"
   ]
  },
  {
   "cell_type": "code",
   "execution_count": 89,
   "metadata": {
    "id": "8sHs0GyEa4kF"
   },
   "outputs": [],
   "source": [
    "import numpy as np\n",
    "import pandas as pd\n",
    "from sklearn.impute import KNNImputer\n",
    "\n",
    "# Separate the columns into numerical and object types\n",
    "numerical_columns = df.select_dtypes(include=np.number).columns\n",
    "object_columns = df.select_dtypes(include=object).columns\n",
    "\n",
    "numerical_df = df[numerical_columns].copy()\n",
    "\n",
    "k = 5\n",
    "imputer = KNNImputer(n_neighbors=k)\n",
    "X_test_imputed = imputer.fit_transform(numerical_df)\n",
    "imputed = pd.DataFrame(X_test_imputed, columns=numerical_df.columns)"
   ]
  },
  {
   "cell_type": "code",
   "execution_count": 90,
   "metadata": {
    "colab": {
     "base_uri": "https://localhost:8080/"
    },
    "id": "hD1ubYwuiBS2",
    "outputId": "e9b98691-2cff-4336-e421-829e5f96e247"
   },
   "outputs": [
    {
     "data": {
      "text/plain": [
       "(255, 14)"
      ]
     },
     "execution_count": 90,
     "metadata": {},
     "output_type": "execute_result"
    }
   ],
   "source": [
    "imputed.shape"
   ]
  },
  {
   "cell_type": "code",
   "execution_count": 91,
   "metadata": {
    "id": "CgCmwFqgfozX"
   },
   "outputs": [],
   "source": [
    "df1 = pd.concat([df[object_columns], imputed], axis=1)"
   ]
  },
  {
   "cell_type": "code",
   "execution_count": 92,
   "metadata": {
    "colab": {
     "base_uri": "https://localhost:8080/"
    },
    "id": "rIVWTETthT35",
    "outputId": "c65413ab-3e22-4548-dd00-6366d3803ef8"
   },
   "outputs": [
    {
     "data": {
      "text/plain": [
       "sample                 0\n",
       "subject                0\n",
       "AB_exposure            0\n",
       "Diagnosis              0\n",
       "race                   0\n",
       "sample_location        0\n",
       "PCDAI                  0\n",
       "Erysipelotrichaceae    0\n",
       "Neisseriaceae          0\n",
       "Clostridiales          0\n",
       "Pasteurellaceae        0\n",
       "Bifidobacteriaceae     0\n",
       "Fusobacteriaceae       0\n",
       "Veillonellaceae        0\n",
       "Enterobacteriaceae     0\n",
       "Micrococcaceae         0\n",
       "Verrucomicrobiaceae    0\n",
       "Gemellaceae            0\n",
       "Coriobacteriaceae      0\n",
       "Bacteroidales          0\n",
       "dtype: int64"
      ]
     },
     "execution_count": 92,
     "metadata": {},
     "output_type": "execute_result"
    }
   ],
   "source": [
    "df1.isna().sum()"
   ]
  },
  {
   "cell_type": "code",
   "execution_count": 93,
   "metadata": {
    "colab": {
     "base_uri": "https://localhost:8080/",
     "height": 357
    },
    "id": "OD7twyMbh_1N",
    "outputId": "696c733a-9595-4257-e7de-d693eb482a80"
   },
   "outputs": [
    {
     "data": {
      "text/html": [
       "\n",
       "  <div id=\"df-f49336aa-cdf2-4678-bd7a-1877b13a4d65\">\n",
       "    <div class=\"colab-df-container\">\n",
       "      <div>\n",
       "<style scoped>\n",
       "    .dataframe tbody tr th:only-of-type {\n",
       "        vertical-align: middle;\n",
       "    }\n",
       "\n",
       "    .dataframe tbody tr th {\n",
       "        vertical-align: top;\n",
       "    }\n",
       "\n",
       "    .dataframe thead th {\n",
       "        text-align: right;\n",
       "    }\n",
       "</style>\n",
       "<table border=\"1\" class=\"dataframe\">\n",
       "  <thead>\n",
       "    <tr style=\"text-align: right;\">\n",
       "      <th></th>\n",
       "      <th>sample</th>\n",
       "      <th>subject</th>\n",
       "      <th>AB_exposure</th>\n",
       "      <th>Diagnosis</th>\n",
       "      <th>race</th>\n",
       "      <th>sample_location</th>\n",
       "      <th>PCDAI</th>\n",
       "      <th>Erysipelotrichaceae</th>\n",
       "      <th>Neisseriaceae</th>\n",
       "      <th>Clostridiales</th>\n",
       "      <th>Pasteurellaceae</th>\n",
       "      <th>Bifidobacteriaceae</th>\n",
       "      <th>Fusobacteriaceae</th>\n",
       "      <th>Veillonellaceae</th>\n",
       "      <th>Enterobacteriaceae</th>\n",
       "      <th>Micrococcaceae</th>\n",
       "      <th>Verrucomicrobiaceae</th>\n",
       "      <th>Gemellaceae</th>\n",
       "      <th>Coriobacteriaceae</th>\n",
       "      <th>Bacteroidales</th>\n",
       "    </tr>\n",
       "  </thead>\n",
       "  <tbody>\n",
       "    <tr>\n",
       "      <th>0</th>\n",
       "      <td>01-001.S</td>\n",
       "      <td>M1-0001</td>\n",
       "      <td>NoAB</td>\n",
       "      <td>CD</td>\n",
       "      <td>caucasian</td>\n",
       "      <td>stool</td>\n",
       "      <td>35.0</td>\n",
       "      <td>0.007525</td>\n",
       "      <td>0.000719</td>\n",
       "      <td>0.452681</td>\n",
       "      <td>0.016488</td>\n",
       "      <td>0.000518</td>\n",
       "      <td>0.001240</td>\n",
       "      <td>0.019947</td>\n",
       "      <td>0.008132</td>\n",
       "      <td>0.000056</td>\n",
       "      <td>0.000030</td>\n",
       "      <td>0.000097</td>\n",
       "      <td>0.001132</td>\n",
       "      <td>0.462303</td>\n",
       "    </tr>\n",
       "    <tr>\n",
       "      <th>1</th>\n",
       "      <td>01-005.S</td>\n",
       "      <td>M1-0002</td>\n",
       "      <td>YesAB</td>\n",
       "      <td>CD</td>\n",
       "      <td>african</td>\n",
       "      <td>stool</td>\n",
       "      <td>27.5</td>\n",
       "      <td>0.019892</td>\n",
       "      <td>0.000000</td>\n",
       "      <td>0.738201</td>\n",
       "      <td>0.004638</td>\n",
       "      <td>0.000015</td>\n",
       "      <td>0.000020</td>\n",
       "      <td>0.055190</td>\n",
       "      <td>0.001412</td>\n",
       "      <td>0.000070</td>\n",
       "      <td>0.000025</td>\n",
       "      <td>0.000136</td>\n",
       "      <td>0.001115</td>\n",
       "      <td>0.221703</td>\n",
       "    </tr>\n",
       "    <tr>\n",
       "      <th>2</th>\n",
       "      <td>01-006.S</td>\n",
       "      <td>M1-0003</td>\n",
       "      <td>NoAB</td>\n",
       "      <td>CD</td>\n",
       "      <td>african</td>\n",
       "      <td>stool</td>\n",
       "      <td>25.0</td>\n",
       "      <td>0.034836</td>\n",
       "      <td>0.001584</td>\n",
       "      <td>0.228197</td>\n",
       "      <td>0.174006</td>\n",
       "      <td>0.002362</td>\n",
       "      <td>0.026368</td>\n",
       "      <td>0.106653</td>\n",
       "      <td>0.183021</td>\n",
       "      <td>0.000720</td>\n",
       "      <td>0.000029</td>\n",
       "      <td>0.078024</td>\n",
       "      <td>0.006034</td>\n",
       "      <td>0.195925</td>\n",
       "    </tr>\n",
       "    <tr>\n",
       "      <th>3</th>\n",
       "      <td>04-102.S</td>\n",
       "      <td>M1-0892</td>\n",
       "      <td>NoAB</td>\n",
       "      <td>CD</td>\n",
       "      <td>other</td>\n",
       "      <td>stool</td>\n",
       "      <td>57.5</td>\n",
       "      <td>0.012066</td>\n",
       "      <td>0.000000</td>\n",
       "      <td>0.956640</td>\n",
       "      <td>0.000022</td>\n",
       "      <td>0.000022</td>\n",
       "      <td>0.000022</td>\n",
       "      <td>0.052672</td>\n",
       "      <td>0.008087</td>\n",
       "      <td>0.000043</td>\n",
       "      <td>0.001721</td>\n",
       "      <td>0.000129</td>\n",
       "      <td>0.000774</td>\n",
       "      <td>0.012345</td>\n",
       "    </tr>\n",
       "    <tr>\n",
       "      <th>4</th>\n",
       "      <td>SKSTL0001</td>\n",
       "      <td>M1-0873</td>\n",
       "      <td>NoAB</td>\n",
       "      <td>CD</td>\n",
       "      <td>caucasian</td>\n",
       "      <td>stool</td>\n",
       "      <td>35.0</td>\n",
       "      <td>0.051680</td>\n",
       "      <td>0.000000</td>\n",
       "      <td>0.469825</td>\n",
       "      <td>0.027256</td>\n",
       "      <td>0.058034</td>\n",
       "      <td>0.031984</td>\n",
       "      <td>0.090631</td>\n",
       "      <td>0.039372</td>\n",
       "      <td>0.000057</td>\n",
       "      <td>0.000000</td>\n",
       "      <td>0.000134</td>\n",
       "      <td>0.001857</td>\n",
       "      <td>0.259833</td>\n",
       "    </tr>\n",
       "  </tbody>\n",
       "</table>\n",
       "</div>\n",
       "      <button class=\"colab-df-convert\" onclick=\"convertToInteractive('df-f49336aa-cdf2-4678-bd7a-1877b13a4d65')\"\n",
       "              title=\"Convert this dataframe to an interactive table.\"\n",
       "              style=\"display:none;\">\n",
       "        \n",
       "  <svg xmlns=\"http://www.w3.org/2000/svg\" height=\"24px\"viewBox=\"0 0 24 24\"\n",
       "       width=\"24px\">\n",
       "    <path d=\"M0 0h24v24H0V0z\" fill=\"none\"/>\n",
       "    <path d=\"M18.56 5.44l.94 2.06.94-2.06 2.06-.94-2.06-.94-.94-2.06-.94 2.06-2.06.94zm-11 1L8.5 8.5l.94-2.06 2.06-.94-2.06-.94L8.5 2.5l-.94 2.06-2.06.94zm10 10l.94 2.06.94-2.06 2.06-.94-2.06-.94-.94-2.06-.94 2.06-2.06.94z\"/><path d=\"M17.41 7.96l-1.37-1.37c-.4-.4-.92-.59-1.43-.59-.52 0-1.04.2-1.43.59L10.3 9.45l-7.72 7.72c-.78.78-.78 2.05 0 2.83L4 21.41c.39.39.9.59 1.41.59.51 0 1.02-.2 1.41-.59l7.78-7.78 2.81-2.81c.8-.78.8-2.07 0-2.86zM5.41 20L4 18.59l7.72-7.72 1.47 1.35L5.41 20z\"/>\n",
       "  </svg>\n",
       "      </button>\n",
       "      \n",
       "  <style>\n",
       "    .colab-df-container {\n",
       "      display:flex;\n",
       "      flex-wrap:wrap;\n",
       "      gap: 12px;\n",
       "    }\n",
       "\n",
       "    .colab-df-convert {\n",
       "      background-color: #E8F0FE;\n",
       "      border: none;\n",
       "      border-radius: 50%;\n",
       "      cursor: pointer;\n",
       "      display: none;\n",
       "      fill: #1967D2;\n",
       "      height: 32px;\n",
       "      padding: 0 0 0 0;\n",
       "      width: 32px;\n",
       "    }\n",
       "\n",
       "    .colab-df-convert:hover {\n",
       "      background-color: #E2EBFA;\n",
       "      box-shadow: 0px 1px 2px rgba(60, 64, 67, 0.3), 0px 1px 3px 1px rgba(60, 64, 67, 0.15);\n",
       "      fill: #174EA6;\n",
       "    }\n",
       "\n",
       "    [theme=dark] .colab-df-convert {\n",
       "      background-color: #3B4455;\n",
       "      fill: #D2E3FC;\n",
       "    }\n",
       "\n",
       "    [theme=dark] .colab-df-convert:hover {\n",
       "      background-color: #434B5C;\n",
       "      box-shadow: 0px 1px 3px 1px rgba(0, 0, 0, 0.15);\n",
       "      filter: drop-shadow(0px 1px 2px rgba(0, 0, 0, 0.3));\n",
       "      fill: #FFFFFF;\n",
       "    }\n",
       "  </style>\n",
       "\n",
       "      <script>\n",
       "        const buttonEl =\n",
       "          document.querySelector('#df-f49336aa-cdf2-4678-bd7a-1877b13a4d65 button.colab-df-convert');\n",
       "        buttonEl.style.display =\n",
       "          google.colab.kernel.accessAllowed ? 'block' : 'none';\n",
       "\n",
       "        async function convertToInteractive(key) {\n",
       "          const element = document.querySelector('#df-f49336aa-cdf2-4678-bd7a-1877b13a4d65');\n",
       "          const dataTable =\n",
       "            await google.colab.kernel.invokeFunction('convertToInteractive',\n",
       "                                                     [key], {});\n",
       "          if (!dataTable) return;\n",
       "\n",
       "          const docLinkHtml = 'Like what you see? Visit the ' +\n",
       "            '<a target=\"_blank\" href=https://colab.research.google.com/notebooks/data_table.ipynb>data table notebook</a>'\n",
       "            + ' to learn more about interactive tables.';\n",
       "          element.innerHTML = '';\n",
       "          dataTable['output_type'] = 'display_data';\n",
       "          await google.colab.output.renderOutput(dataTable, element);\n",
       "          const docLink = document.createElement('div');\n",
       "          docLink.innerHTML = docLinkHtml;\n",
       "          element.appendChild(docLink);\n",
       "        }\n",
       "      </script>\n",
       "    </div>\n",
       "  </div>\n",
       "  "
      ],
      "text/plain": [
       "      sample  subject AB_exposure Diagnosis       race sample_location  PCDAI  \\\n",
       "0   01-001.S  M1-0001        NoAB        CD  caucasian           stool   35.0   \n",
       "1   01-005.S  M1-0002       YesAB        CD    african           stool   27.5   \n",
       "2   01-006.S  M1-0003        NoAB        CD    african           stool   25.0   \n",
       "3   04-102.S  M1-0892        NoAB        CD      other           stool   57.5   \n",
       "4  SKSTL0001  M1-0873        NoAB        CD  caucasian           stool   35.0   \n",
       "\n",
       "   Erysipelotrichaceae  Neisseriaceae  Clostridiales  Pasteurellaceae  \\\n",
       "0             0.007525       0.000719       0.452681         0.016488   \n",
       "1             0.019892       0.000000       0.738201         0.004638   \n",
       "2             0.034836       0.001584       0.228197         0.174006   \n",
       "3             0.012066       0.000000       0.956640         0.000022   \n",
       "4             0.051680       0.000000       0.469825         0.027256   \n",
       "\n",
       "   Bifidobacteriaceae  Fusobacteriaceae  Veillonellaceae  Enterobacteriaceae  \\\n",
       "0            0.000518          0.001240         0.019947            0.008132   \n",
       "1            0.000015          0.000020         0.055190            0.001412   \n",
       "2            0.002362          0.026368         0.106653            0.183021   \n",
       "3            0.000022          0.000022         0.052672            0.008087   \n",
       "4            0.058034          0.031984         0.090631            0.039372   \n",
       "\n",
       "   Micrococcaceae  Verrucomicrobiaceae  Gemellaceae  Coriobacteriaceae  \\\n",
       "0        0.000056             0.000030     0.000097           0.001132   \n",
       "1        0.000070             0.000025     0.000136           0.001115   \n",
       "2        0.000720             0.000029     0.078024           0.006034   \n",
       "3        0.000043             0.001721     0.000129           0.000774   \n",
       "4        0.000057             0.000000     0.000134           0.001857   \n",
       "\n",
       "   Bacteroidales  \n",
       "0       0.462303  \n",
       "1       0.221703  \n",
       "2       0.195925  \n",
       "3       0.012345  \n",
       "4       0.259833  "
      ]
     },
     "execution_count": 93,
     "metadata": {},
     "output_type": "execute_result"
    }
   ],
   "source": [
    "df1.head()"
   ]
  },
  {
   "cell_type": "markdown",
   "metadata": {
    "id": "AiIayoSQinwY"
   },
   "source": [
    "We can eliminate inconsistent columns and irrelevant columns like \"sample\" and \"subject\" from the dataset. We can remove the \"sample_location\" column too since it contains only one single value \"stool\", thus it won't add relevant information to our mode."
   ]
  },
  {
   "cell_type": "code",
   "execution_count": 94,
   "metadata": {
    "id": "fF22ZYFFid2J"
   },
   "outputs": [],
   "source": [
    "df1 = df1.drop(columns = ['sample', 'subject', 'sample_location'])"
   ]
  },
  {
   "cell_type": "code",
   "execution_count": 95,
   "metadata": {
    "colab": {
     "base_uri": "https://localhost:8080/",
     "height": 176
    },
    "id": "NuQ7JtUmiQ_9",
    "outputId": "01757802-30a6-41d0-a58e-f657fcaab0d2"
   },
   "outputs": [
    {
     "data": {
      "text/html": [
       "\n",
       "  <div id=\"df-5b404d77-ceb1-4f18-b876-ae304c95e931\">\n",
       "    <div class=\"colab-df-container\">\n",
       "      <div>\n",
       "<style scoped>\n",
       "    .dataframe tbody tr th:only-of-type {\n",
       "        vertical-align: middle;\n",
       "    }\n",
       "\n",
       "    .dataframe tbody tr th {\n",
       "        vertical-align: top;\n",
       "    }\n",
       "\n",
       "    .dataframe thead th {\n",
       "        text-align: right;\n",
       "    }\n",
       "</style>\n",
       "<table border=\"1\" class=\"dataframe\">\n",
       "  <thead>\n",
       "    <tr style=\"text-align: right;\">\n",
       "      <th></th>\n",
       "      <th>AB_exposure</th>\n",
       "      <th>Diagnosis</th>\n",
       "      <th>race</th>\n",
       "      <th>PCDAI</th>\n",
       "      <th>Erysipelotrichaceae</th>\n",
       "      <th>Neisseriaceae</th>\n",
       "      <th>Clostridiales</th>\n",
       "      <th>Pasteurellaceae</th>\n",
       "      <th>Bifidobacteriaceae</th>\n",
       "      <th>Fusobacteriaceae</th>\n",
       "      <th>Veillonellaceae</th>\n",
       "      <th>Enterobacteriaceae</th>\n",
       "      <th>Micrococcaceae</th>\n",
       "      <th>Verrucomicrobiaceae</th>\n",
       "      <th>Gemellaceae</th>\n",
       "      <th>Coriobacteriaceae</th>\n",
       "      <th>Bacteroidales</th>\n",
       "    </tr>\n",
       "  </thead>\n",
       "  <tbody>\n",
       "    <tr>\n",
       "      <th>0</th>\n",
       "      <td>NoAB</td>\n",
       "      <td>CD</td>\n",
       "      <td>caucasian</td>\n",
       "      <td>35.0</td>\n",
       "      <td>0.007525</td>\n",
       "      <td>0.000719</td>\n",
       "      <td>0.452681</td>\n",
       "      <td>0.016488</td>\n",
       "      <td>0.000518</td>\n",
       "      <td>0.00124</td>\n",
       "      <td>0.019947</td>\n",
       "      <td>0.008132</td>\n",
       "      <td>0.000056</td>\n",
       "      <td>0.000030</td>\n",
       "      <td>0.000097</td>\n",
       "      <td>0.001132</td>\n",
       "      <td>0.462303</td>\n",
       "    </tr>\n",
       "    <tr>\n",
       "      <th>1</th>\n",
       "      <td>YesAB</td>\n",
       "      <td>CD</td>\n",
       "      <td>african</td>\n",
       "      <td>27.5</td>\n",
       "      <td>0.019892</td>\n",
       "      <td>0.000000</td>\n",
       "      <td>0.738201</td>\n",
       "      <td>0.004638</td>\n",
       "      <td>0.000015</td>\n",
       "      <td>0.00002</td>\n",
       "      <td>0.055190</td>\n",
       "      <td>0.001412</td>\n",
       "      <td>0.000070</td>\n",
       "      <td>0.000025</td>\n",
       "      <td>0.000136</td>\n",
       "      <td>0.001115</td>\n",
       "      <td>0.221703</td>\n",
       "    </tr>\n",
       "  </tbody>\n",
       "</table>\n",
       "</div>\n",
       "      <button class=\"colab-df-convert\" onclick=\"convertToInteractive('df-5b404d77-ceb1-4f18-b876-ae304c95e931')\"\n",
       "              title=\"Convert this dataframe to an interactive table.\"\n",
       "              style=\"display:none;\">\n",
       "        \n",
       "  <svg xmlns=\"http://www.w3.org/2000/svg\" height=\"24px\"viewBox=\"0 0 24 24\"\n",
       "       width=\"24px\">\n",
       "    <path d=\"M0 0h24v24H0V0z\" fill=\"none\"/>\n",
       "    <path d=\"M18.56 5.44l.94 2.06.94-2.06 2.06-.94-2.06-.94-.94-2.06-.94 2.06-2.06.94zm-11 1L8.5 8.5l.94-2.06 2.06-.94-2.06-.94L8.5 2.5l-.94 2.06-2.06.94zm10 10l.94 2.06.94-2.06 2.06-.94-2.06-.94-.94-2.06-.94 2.06-2.06.94z\"/><path d=\"M17.41 7.96l-1.37-1.37c-.4-.4-.92-.59-1.43-.59-.52 0-1.04.2-1.43.59L10.3 9.45l-7.72 7.72c-.78.78-.78 2.05 0 2.83L4 21.41c.39.39.9.59 1.41.59.51 0 1.02-.2 1.41-.59l7.78-7.78 2.81-2.81c.8-.78.8-2.07 0-2.86zM5.41 20L4 18.59l7.72-7.72 1.47 1.35L5.41 20z\"/>\n",
       "  </svg>\n",
       "      </button>\n",
       "      \n",
       "  <style>\n",
       "    .colab-df-container {\n",
       "      display:flex;\n",
       "      flex-wrap:wrap;\n",
       "      gap: 12px;\n",
       "    }\n",
       "\n",
       "    .colab-df-convert {\n",
       "      background-color: #E8F0FE;\n",
       "      border: none;\n",
       "      border-radius: 50%;\n",
       "      cursor: pointer;\n",
       "      display: none;\n",
       "      fill: #1967D2;\n",
       "      height: 32px;\n",
       "      padding: 0 0 0 0;\n",
       "      width: 32px;\n",
       "    }\n",
       "\n",
       "    .colab-df-convert:hover {\n",
       "      background-color: #E2EBFA;\n",
       "      box-shadow: 0px 1px 2px rgba(60, 64, 67, 0.3), 0px 1px 3px 1px rgba(60, 64, 67, 0.15);\n",
       "      fill: #174EA6;\n",
       "    }\n",
       "\n",
       "    [theme=dark] .colab-df-convert {\n",
       "      background-color: #3B4455;\n",
       "      fill: #D2E3FC;\n",
       "    }\n",
       "\n",
       "    [theme=dark] .colab-df-convert:hover {\n",
       "      background-color: #434B5C;\n",
       "      box-shadow: 0px 1px 3px 1px rgba(0, 0, 0, 0.15);\n",
       "      filter: drop-shadow(0px 1px 2px rgba(0, 0, 0, 0.3));\n",
       "      fill: #FFFFFF;\n",
       "    }\n",
       "  </style>\n",
       "\n",
       "      <script>\n",
       "        const buttonEl =\n",
       "          document.querySelector('#df-5b404d77-ceb1-4f18-b876-ae304c95e931 button.colab-df-convert');\n",
       "        buttonEl.style.display =\n",
       "          google.colab.kernel.accessAllowed ? 'block' : 'none';\n",
       "\n",
       "        async function convertToInteractive(key) {\n",
       "          const element = document.querySelector('#df-5b404d77-ceb1-4f18-b876-ae304c95e931');\n",
       "          const dataTable =\n",
       "            await google.colab.kernel.invokeFunction('convertToInteractive',\n",
       "                                                     [key], {});\n",
       "          if (!dataTable) return;\n",
       "\n",
       "          const docLinkHtml = 'Like what you see? Visit the ' +\n",
       "            '<a target=\"_blank\" href=https://colab.research.google.com/notebooks/data_table.ipynb>data table notebook</a>'\n",
       "            + ' to learn more about interactive tables.';\n",
       "          element.innerHTML = '';\n",
       "          dataTable['output_type'] = 'display_data';\n",
       "          await google.colab.output.renderOutput(dataTable, element);\n",
       "          const docLink = document.createElement('div');\n",
       "          docLink.innerHTML = docLinkHtml;\n",
       "          element.appendChild(docLink);\n",
       "        }\n",
       "      </script>\n",
       "    </div>\n",
       "  </div>\n",
       "  "
      ],
      "text/plain": [
       "  AB_exposure Diagnosis       race  PCDAI  Erysipelotrichaceae  Neisseriaceae  \\\n",
       "0        NoAB        CD  caucasian   35.0             0.007525       0.000719   \n",
       "1       YesAB        CD    african   27.5             0.019892       0.000000   \n",
       "\n",
       "   Clostridiales  Pasteurellaceae  Bifidobacteriaceae  Fusobacteriaceae  \\\n",
       "0       0.452681         0.016488            0.000518           0.00124   \n",
       "1       0.738201         0.004638            0.000015           0.00002   \n",
       "\n",
       "   Veillonellaceae  Enterobacteriaceae  Micrococcaceae  Verrucomicrobiaceae  \\\n",
       "0         0.019947            0.008132        0.000056             0.000030   \n",
       "1         0.055190            0.001412        0.000070             0.000025   \n",
       "\n",
       "   Gemellaceae  Coriobacteriaceae  Bacteroidales  \n",
       "0     0.000097           0.001132       0.462303  \n",
       "1     0.000136           0.001115       0.221703  "
      ]
     },
     "execution_count": 95,
     "metadata": {},
     "output_type": "execute_result"
    }
   ],
   "source": [
    "df1.head(2)"
   ]
  },
  {
   "cell_type": "markdown",
   "metadata": {
    "id": "pSo_M8j1kSPg"
   },
   "source": [
    "To gain insights into the relationship between our numerical variables, we can visualize their correlation. This analysis will help us identify which features exhibit strong correlations with our target variable. By examining the correlation matrix and visualizations, we can understand the degree and direction of these correlations, enabling us to make informed decisions during the modeling process."
   ]
  },
  {
   "cell_type": "code",
   "execution_count": 96,
   "metadata": {
    "id": "dljmm8i6kyyx"
   },
   "outputs": [],
   "source": [
    "df1['Diagnosis'] = df1['Diagnosis'].map({'CD': 1, 'Not IBD':0})\n",
    "numerical_columns = df1.select_dtypes(include=np.number).columns"
   ]
  },
  {
   "cell_type": "code",
   "execution_count": 97,
   "metadata": {
    "colab": {
     "base_uri": "https://localhost:8080/",
     "height": 207
    },
    "id": "SVhWvuqnmEYd",
    "outputId": "7d8173af-85d6-41ec-839a-d5f46b0732a1"
   },
   "outputs": [
    {
     "data": {
      "text/html": [
       "\n",
       "  <div id=\"df-f7e9adc0-d46e-4cee-b6f0-d8841baa7dbf\">\n",
       "    <div class=\"colab-df-container\">\n",
       "      <div>\n",
       "<style scoped>\n",
       "    .dataframe tbody tr th:only-of-type {\n",
       "        vertical-align: middle;\n",
       "    }\n",
       "\n",
       "    .dataframe tbody tr th {\n",
       "        vertical-align: top;\n",
       "    }\n",
       "\n",
       "    .dataframe thead th {\n",
       "        text-align: right;\n",
       "    }\n",
       "</style>\n",
       "<table border=\"1\" class=\"dataframe\">\n",
       "  <thead>\n",
       "    <tr style=\"text-align: right;\">\n",
       "      <th></th>\n",
       "      <th>AB_exposure</th>\n",
       "      <th>Diagnosis</th>\n",
       "      <th>race</th>\n",
       "      <th>PCDAI</th>\n",
       "      <th>Erysipelotrichaceae</th>\n",
       "      <th>Neisseriaceae</th>\n",
       "      <th>Clostridiales</th>\n",
       "      <th>Pasteurellaceae</th>\n",
       "      <th>Bifidobacteriaceae</th>\n",
       "      <th>Fusobacteriaceae</th>\n",
       "      <th>Veillonellaceae</th>\n",
       "      <th>Enterobacteriaceae</th>\n",
       "      <th>Micrococcaceae</th>\n",
       "      <th>Verrucomicrobiaceae</th>\n",
       "      <th>Gemellaceae</th>\n",
       "      <th>Coriobacteriaceae</th>\n",
       "      <th>Bacteroidales</th>\n",
       "    </tr>\n",
       "  </thead>\n",
       "  <tbody>\n",
       "    <tr>\n",
       "      <th>0</th>\n",
       "      <td>NoAB</td>\n",
       "      <td>1</td>\n",
       "      <td>caucasian</td>\n",
       "      <td>35.0</td>\n",
       "      <td>0.007525</td>\n",
       "      <td>0.000719</td>\n",
       "      <td>0.452681</td>\n",
       "      <td>0.016488</td>\n",
       "      <td>0.000518</td>\n",
       "      <td>0.001240</td>\n",
       "      <td>0.019947</td>\n",
       "      <td>0.008132</td>\n",
       "      <td>0.000056</td>\n",
       "      <td>0.000030</td>\n",
       "      <td>0.000097</td>\n",
       "      <td>0.001132</td>\n",
       "      <td>0.462303</td>\n",
       "    </tr>\n",
       "    <tr>\n",
       "      <th>1</th>\n",
       "      <td>YesAB</td>\n",
       "      <td>1</td>\n",
       "      <td>african</td>\n",
       "      <td>27.5</td>\n",
       "      <td>0.019892</td>\n",
       "      <td>0.000000</td>\n",
       "      <td>0.738201</td>\n",
       "      <td>0.004638</td>\n",
       "      <td>0.000015</td>\n",
       "      <td>0.000020</td>\n",
       "      <td>0.055190</td>\n",
       "      <td>0.001412</td>\n",
       "      <td>0.000070</td>\n",
       "      <td>0.000025</td>\n",
       "      <td>0.000136</td>\n",
       "      <td>0.001115</td>\n",
       "      <td>0.221703</td>\n",
       "    </tr>\n",
       "    <tr>\n",
       "      <th>2</th>\n",
       "      <td>NoAB</td>\n",
       "      <td>1</td>\n",
       "      <td>african</td>\n",
       "      <td>25.0</td>\n",
       "      <td>0.034836</td>\n",
       "      <td>0.001584</td>\n",
       "      <td>0.228197</td>\n",
       "      <td>0.174006</td>\n",
       "      <td>0.002362</td>\n",
       "      <td>0.026368</td>\n",
       "      <td>0.106653</td>\n",
       "      <td>0.183021</td>\n",
       "      <td>0.000720</td>\n",
       "      <td>0.000029</td>\n",
       "      <td>0.078024</td>\n",
       "      <td>0.006034</td>\n",
       "      <td>0.195925</td>\n",
       "    </tr>\n",
       "  </tbody>\n",
       "</table>\n",
       "</div>\n",
       "      <button class=\"colab-df-convert\" onclick=\"convertToInteractive('df-f7e9adc0-d46e-4cee-b6f0-d8841baa7dbf')\"\n",
       "              title=\"Convert this dataframe to an interactive table.\"\n",
       "              style=\"display:none;\">\n",
       "        \n",
       "  <svg xmlns=\"http://www.w3.org/2000/svg\" height=\"24px\"viewBox=\"0 0 24 24\"\n",
       "       width=\"24px\">\n",
       "    <path d=\"M0 0h24v24H0V0z\" fill=\"none\"/>\n",
       "    <path d=\"M18.56 5.44l.94 2.06.94-2.06 2.06-.94-2.06-.94-.94-2.06-.94 2.06-2.06.94zm-11 1L8.5 8.5l.94-2.06 2.06-.94-2.06-.94L8.5 2.5l-.94 2.06-2.06.94zm10 10l.94 2.06.94-2.06 2.06-.94-2.06-.94-.94-2.06-.94 2.06-2.06.94z\"/><path d=\"M17.41 7.96l-1.37-1.37c-.4-.4-.92-.59-1.43-.59-.52 0-1.04.2-1.43.59L10.3 9.45l-7.72 7.72c-.78.78-.78 2.05 0 2.83L4 21.41c.39.39.9.59 1.41.59.51 0 1.02-.2 1.41-.59l7.78-7.78 2.81-2.81c.8-.78.8-2.07 0-2.86zM5.41 20L4 18.59l7.72-7.72 1.47 1.35L5.41 20z\"/>\n",
       "  </svg>\n",
       "      </button>\n",
       "      \n",
       "  <style>\n",
       "    .colab-df-container {\n",
       "      display:flex;\n",
       "      flex-wrap:wrap;\n",
       "      gap: 12px;\n",
       "    }\n",
       "\n",
       "    .colab-df-convert {\n",
       "      background-color: #E8F0FE;\n",
       "      border: none;\n",
       "      border-radius: 50%;\n",
       "      cursor: pointer;\n",
       "      display: none;\n",
       "      fill: #1967D2;\n",
       "      height: 32px;\n",
       "      padding: 0 0 0 0;\n",
       "      width: 32px;\n",
       "    }\n",
       "\n",
       "    .colab-df-convert:hover {\n",
       "      background-color: #E2EBFA;\n",
       "      box-shadow: 0px 1px 2px rgba(60, 64, 67, 0.3), 0px 1px 3px 1px rgba(60, 64, 67, 0.15);\n",
       "      fill: #174EA6;\n",
       "    }\n",
       "\n",
       "    [theme=dark] .colab-df-convert {\n",
       "      background-color: #3B4455;\n",
       "      fill: #D2E3FC;\n",
       "    }\n",
       "\n",
       "    [theme=dark] .colab-df-convert:hover {\n",
       "      background-color: #434B5C;\n",
       "      box-shadow: 0px 1px 3px 1px rgba(0, 0, 0, 0.15);\n",
       "      filter: drop-shadow(0px 1px 2px rgba(0, 0, 0, 0.3));\n",
       "      fill: #FFFFFF;\n",
       "    }\n",
       "  </style>\n",
       "\n",
       "      <script>\n",
       "        const buttonEl =\n",
       "          document.querySelector('#df-f7e9adc0-d46e-4cee-b6f0-d8841baa7dbf button.colab-df-convert');\n",
       "        buttonEl.style.display =\n",
       "          google.colab.kernel.accessAllowed ? 'block' : 'none';\n",
       "\n",
       "        async function convertToInteractive(key) {\n",
       "          const element = document.querySelector('#df-f7e9adc0-d46e-4cee-b6f0-d8841baa7dbf');\n",
       "          const dataTable =\n",
       "            await google.colab.kernel.invokeFunction('convertToInteractive',\n",
       "                                                     [key], {});\n",
       "          if (!dataTable) return;\n",
       "\n",
       "          const docLinkHtml = 'Like what you see? Visit the ' +\n",
       "            '<a target=\"_blank\" href=https://colab.research.google.com/notebooks/data_table.ipynb>data table notebook</a>'\n",
       "            + ' to learn more about interactive tables.';\n",
       "          element.innerHTML = '';\n",
       "          dataTable['output_type'] = 'display_data';\n",
       "          await google.colab.output.renderOutput(dataTable, element);\n",
       "          const docLink = document.createElement('div');\n",
       "          docLink.innerHTML = docLinkHtml;\n",
       "          element.appendChild(docLink);\n",
       "        }\n",
       "      </script>\n",
       "    </div>\n",
       "  </div>\n",
       "  "
      ],
      "text/plain": [
       "  AB_exposure  Diagnosis       race  PCDAI  Erysipelotrichaceae  \\\n",
       "0        NoAB          1  caucasian   35.0             0.007525   \n",
       "1       YesAB          1    african   27.5             0.019892   \n",
       "2        NoAB          1    african   25.0             0.034836   \n",
       "\n",
       "   Neisseriaceae  Clostridiales  Pasteurellaceae  Bifidobacteriaceae  \\\n",
       "0       0.000719       0.452681         0.016488            0.000518   \n",
       "1       0.000000       0.738201         0.004638            0.000015   \n",
       "2       0.001584       0.228197         0.174006            0.002362   \n",
       "\n",
       "   Fusobacteriaceae  Veillonellaceae  Enterobacteriaceae  Micrococcaceae  \\\n",
       "0          0.001240         0.019947            0.008132        0.000056   \n",
       "1          0.000020         0.055190            0.001412        0.000070   \n",
       "2          0.026368         0.106653            0.183021        0.000720   \n",
       "\n",
       "   Verrucomicrobiaceae  Gemellaceae  Coriobacteriaceae  Bacteroidales  \n",
       "0             0.000030     0.000097           0.001132       0.462303  \n",
       "1             0.000025     0.000136           0.001115       0.221703  \n",
       "2             0.000029     0.078024           0.006034       0.195925  "
      ]
     },
     "execution_count": 97,
     "metadata": {},
     "output_type": "execute_result"
    }
   ],
   "source": [
    "df1.head(3)"
   ]
  },
  {
   "cell_type": "code",
   "execution_count": 98,
   "metadata": {
    "colab": {
     "base_uri": "https://localhost:8080/",
     "height": 814
    },
    "id": "YmGLRpBVjGkm",
    "outputId": "3fd47601-219c-4e05-9a94-5cdd6287a18f"
   },
   "outputs": [
    {
     "data": {
      "image/png": "[encoded data removed]",
      "text/plain": [
       "<Figure size 1200x800 with 2 Axes>"
      ]
     },
     "metadata": {},
     "output_type": "display_data"
    }
   ],
   "source": [
    "plt.figure(figsize= (12,8))\n",
    "sns.heatmap(df1[numerical_columns].corr(),annot=True)\n",
    "plt.show()"
   ]
  },
  {
   "cell_type": "markdown",
   "metadata": {
    "id": "1IGWeNMZmQW-"
   },
   "source": [
    "\n",
    "Upon examining the correlation matrix, it appears that most variables do not exhibit a significant correlation. However, we did observe a notable correlation between the variables \"Clostridiales\" and \"Enterobacteriaceae,\" with a coefficient of -0.5."
   ]
  },
  {
   "cell_type": "code",
   "execution_count": 99,
   "metadata": {
    "colab": {
     "base_uri": "https://localhost:8080/",
     "height": 429
    },
    "id": "FlgsiS1PnUzL",
    "outputId": "8616bd60-2ec7-4865-97c6-a2f569ad1166"
   },
   "outputs": [
    {
     "data": {
      "image/png": "[encoded data removed]",
      "text/plain": [
       "<Figure size 640x480 with 1 Axes>"
      ]
     },
     "metadata": {},
     "output_type": "display_data"
    }
   ],
   "source": [
    "\n",
    "labels = ['CD', 'Not IBD' ]\n",
    "count = [np.round(df1['Diagnosis'].value_counts()[0]/df1.shape[0],2), np.round(df1['Diagnosis'].value_counts()[1]/df1.shape[0],2)]\n",
    "plt.style.use('ggplot')\n",
    "plt.title('disease status distribution')\n",
    "plt.pie(x=count, labels=labels, autopct='%.2f%%',\n",
    "         startangle=90)\n",
    "plt.axis('equal')  # Equal aspect ratio ensures that pie is drawn as a circle.\n",
    "plt.legend(loc='upper left')\n",
    "\n",
    "# donut\n",
    "circle = plt.Circle(xy=(0,0), radius=.75, facecolor='white')\n",
    "plt.gca().add_artist(circle)\n",
    "plt.show()"
   ]
  },
  {
   "cell_type": "markdown",
   "metadata": {
    "id": "aOuYM8lLohW3"
   },
   "source": [
    "# Encoding Categorical variables"
   ]
  },
  {
   "cell_type": "code",
   "execution_count": 100,
   "metadata": {
    "colab": {
     "base_uri": "https://localhost:8080/"
    },
    "id": "Cj1wvFTXkfVB",
    "outputId": "6d5a2ac0-6305-4322-e446-4b7a47609164"
   },
   "outputs": [
    {
     "data": {
      "text/plain": [
       "array(['caucasian', 'african', 'other'], dtype=object)"
      ]
     },
     "execution_count": 100,
     "metadata": {},
     "output_type": "execute_result"
    }
   ],
   "source": [
    "df1['race'].unique()"
   ]
  },
  {
   "cell_type": "code",
   "execution_count": 101,
   "metadata": {
    "colab": {
     "base_uri": "https://localhost:8080/"
    },
    "id": "fpjaACiXo10v",
    "outputId": "d46eb7df-22f5-45d1-ff94-0ece8e7b7448"
   },
   "outputs": [
    {
     "data": {
      "text/plain": [
       "array(['NoAB', 'YesAB'], dtype=object)"
      ]
     },
     "execution_count": 101,
     "metadata": {},
     "output_type": "execute_result"
    }
   ],
   "source": [
    "df1['AB_exposure'].unique()"
   ]
  },
  {
   "cell_type": "code",
   "execution_count": 102,
   "metadata": {
    "id": "zFyPfz7Eo0jW"
   },
   "outputs": [],
   "source": [
    "df1['AB_exposure'] = df1['AB_exposure'].map({'NoAB': 0, 'YesAB':1})\n",
    "df1['race'] = df1['race'].map({'caucasian': 0, 'african':1, 'other': 2})"
   ]
  },
  {
   "cell_type": "code",
   "execution_count": 103,
   "metadata": {
    "colab": {
     "base_uri": "https://localhost:8080/"
    },
    "id": "UEoITdvhonPU",
    "outputId": "16feaa31-555b-40c4-b2e1-6fb5b5097e25"
   },
   "outputs": [
    {
     "name": "stdout",
     "output_type": "stream",
     "text": [
      "<class 'pandas.core.frame.DataFrame'>\n",
      "Int64Index: 255 entries, 0 to 254\n",
      "Data columns (total 17 columns):\n",
      " #   Column               Non-Null Count  Dtype  \n",
      "---  ------               --------------  -----  \n",
      " 0   AB_exposure          255 non-null    int64  \n",
      " 1   Diagnosis            255 non-null    int64  \n",
      " 2   race                 255 non-null    int64  \n",
      " 3   PCDAI                255 non-null    float64\n",
      " 4   Erysipelotrichaceae  255 non-null    float64\n",
      " 5   Neisseriaceae        255 non-null    float64\n",
      " 6   Clostridiales        255 non-null    float64\n",
      " 7   Pasteurellaceae      255 non-null    float64\n",
      " 8   Bifidobacteriaceae   255 non-null    float64\n",
      " 9   Fusobacteriaceae     255 non-null    float64\n",
      " 10  Veillonellaceae      255 non-null    float64\n",
      " 11  Enterobacteriaceae   255 non-null    float64\n",
      " 12  Micrococcaceae       255 non-null    float64\n",
      " 13  Verrucomicrobiaceae  255 non-null    float64\n",
      " 14  Gemellaceae          255 non-null    float64\n",
      " 15  Coriobacteriaceae    255 non-null    float64\n",
      " 16  Bacteroidales        255 non-null    float64\n",
      "dtypes: float64(14), int64(3)\n",
      "memory usage: 35.9 KB\n"
     ]
    }
   ],
   "source": [
    "df1.info()"
   ]
  },
  {
   "cell_type": "markdown",
   "metadata": {
    "id": "_g9txHY1pKgm"
   },
   "source": [
    "# Modelling"
   ]
  },
  {
   "cell_type": "code",
   "execution_count": 104,
   "metadata": {
    "colab": {
     "base_uri": "https://localhost:8080/"
    },
    "id": "zmdBO2agqLoN",
    "outputId": "73542930-f290-428d-e581-3efdc9b26368"
   },
   "outputs": [
    {
     "name": "stdout",
     "output_type": "stream",
     "text": [
      "The training dataset contains 191 samples and 16 features\n",
      "The testing dataset contains 64 samples and 16 features\n"
     ]
    }
   ],
   "source": [
    "from sklearn.model_selection import (train_test_split, cross_val_score, cross_validate,GridSearchCV )\n",
    "# Train/test split :\n",
    "X = df1.drop('Diagnosis', axis=1)\n",
    "y = df1['Diagnosis']\n",
    "data_train, data_test, target_train, target_test = train_test_split(\n",
    "    X, y, random_state=101\n",
    ")\n",
    "\n",
    "print(\n",
    "    f\"The training dataset contains {data_train.shape[0]} samples and \"\n",
    "    f\"{data_train.shape[1]} features\"\n",
    ")\n",
    "print(\n",
    "    f\"The testing dataset contains {data_test.shape[0]} samples and \"\n",
    "    f\"{data_test.shape[1]} features\"\n",
    ")"
   ]
  },
  {
   "cell_type": "code",
   "execution_count": 105,
   "metadata": {
    "id": "o_-eBMDPqnM-"
   },
   "outputs": [],
   "source": [
    "from sklearn.metrics import (confusion_matrix, accuracy_score,\n",
    "                             f1_score, roc_auc_score, precision_score,\n",
    "                             recall_score, roc_curve, brier_score_loss,\n",
    "                             precision_recall_curve, log_loss)\n",
    "from plotly.subplots import make_subplots\n"
   ]
  },
  {
   "cell_type": "code",
   "execution_count": 106,
   "metadata": {
    "id": "bdiSVLuvrA7c"
   },
   "outputs": [],
   "source": [
    "my_colors_code = ['#018571', '#80cdc1', '#dfc27d', '#a6611a']\n",
    "COLOR_PALETTE = {\n",
    "    \"primary\": \"#018571\",\n",
    "    \"secondary\": '#80cdc1',\n",
    "    \"muted\": \"#a6611a\"\n",
    "}"
   ]
  },
  {
   "cell_type": "code",
   "execution_count": 107,
   "metadata": {
    "id": "yJRFaM2Yq2BU"
   },
   "outputs": [],
   "source": [
    "import plotly.express as px\n",
    "import plotly.graph_objects as go\n",
    "\n",
    "def plot_confusion_matrix(conf_matrix, xlabels=None, ylabels=None):\n",
    "    dict_fig_props = {\n",
    "        \"xaxis\": {\"title\": \"Predicted\"},\n",
    "        \"yaxis\": {\"title\": \"Real\"}\n",
    "    }\n",
    "\n",
    "    # params\n",
    "    z = conf_matrix\n",
    "    x = xlabels or [\"0\", \"1\"]\n",
    "    y = ylabels or [\"0\", \"1\"]\n",
    "    z_text = [[str(y) for y in x] for x in z]\n",
    "\n",
    "    # add annotations\n",
    "    annotations = []\n",
    "\n",
    "    for n, row in enumerate(z):\n",
    "        for m, val in enumerate(row):\n",
    "            annotation_obj = {\n",
    "                'x': n, 'y': m,\n",
    "                'text': str(val),\n",
    "                'yshift': 10,\n",
    "                'showarrow': False,\n",
    "            }\n",
    "\n",
    "            annotations.append(annotation_obj)\n",
    "\n",
    "    # set up figure\n",
    "    dict_fig_props[\"traces\"] = [\n",
    "        go.Heatmap(\n",
    "            z=z, x=x, y=y,\n",
    "            text=z_text,\n",
    "            colorscale=my_colors_code,\n",
    "            showscale=False\n",
    "        )\n",
    "    ]\n",
    "\n",
    "    # add_annotations\n",
    "    dict_fig_props['annotations'] = annotations\n",
    "\n",
    "    return dict_fig_props\n",
    "\n",
    "\n",
    "def plot_classification_summary(**kwargs):\n",
    "    dict_fig_props = {\n",
    "        \"xaxis\": {},\n",
    "        \"yaxis\": {}\n",
    "    }\n",
    "\n",
    "    metric_name = list(kwargs.keys())\n",
    "    metric_score = list(kwargs.values())\n",
    "\n",
    "    dict_fig_props[\"traces\"] = [\n",
    "        go.Table(\n",
    "            header={'values': [\"Metric\", \"Score\"], 'line_color':my_colors_code[-1], 'fill_color' : my_colors_code[0]},\n",
    "            cells={'values': [metric_name, metric_score], 'line_color':my_colors_code[-1],\n",
    "            'fill': dict(color=[my_colors_code[1], my_colors_code[2]])}\n",
    "        )\n",
    "    ]\n",
    "\n",
    "    # add_annotations\n",
    "    dict_fig_props['annotations'] = None\n",
    "\n",
    "    return dict_fig_props\n",
    "\n",
    "\n",
    "def plot_ROC_curve(fpr, tpr, thresholds):\n",
    "    dict_fig_props = {\n",
    "        \"xaxis\": {\"title\": \"false positive rate\"},\n",
    "        \"yaxis\": {\"title\": \"true positive rate\"}\n",
    "    }\n",
    "\n",
    "    dict_fig_props[\"traces\"] = [\n",
    "        go.Scatter(y=tpr.round(3), x=fpr.round(3),\n",
    "                   text=thresholds.round(3),\n",
    "                   mode=\"lines\", showlegend=False,\n",
    "                   fill='tozeroy', name=\"ROC curve\",\n",
    "                   line_color=COLOR_PALETTE[\"primary\"]),\n",
    "        go.Scatter(y=tpr, x=tpr,\n",
    "                   mode=\"lines\", showlegend=False,\n",
    "                   name=\"Base line\",\n",
    "                   line_color=COLOR_PALETTE[\"muted\"],\n",
    "                   line_dash=\"dot\")\n",
    "    ]\n",
    "\n",
    "    # add_annotations\n",
    "    dict_fig_props['annotations'] = None\n",
    "\n",
    "    return dict_fig_props\n",
    "\n",
    "\n",
    "def plot_precision_recall_curve(precision, recall, thresholds):\n",
    "    dict_fig_props = {\n",
    "        \"xaxis\": {\"title\": \"recall\"},\n",
    "        \"yaxis\": {\"title\": \"precision\"}\n",
    "    }\n",
    "\n",
    "    dict_fig_props[\"traces\"] = [\n",
    "        go.Scatter(y=precision.round(3), x=recall.round(3),\n",
    "                   text=thresholds.round(3),\n",
    "                   mode=\"lines\", showlegend=False,\n",
    "                   name=\"precision recall curve\",\n",
    "                   line_color=COLOR_PALETTE[\"primary\"]),\n",
    "    ]\n",
    "\n",
    "    # add_annotations\n",
    "    dict_fig_props['annotations'] = None\n",
    "\n",
    "    return dict_fig_props"
   ]
  },
  {
   "cell_type": "code",
   "execution_count": 108,
   "metadata": {
    "id": "L4WmbrdYpKJW"
   },
   "outputs": [],
   "source": [
    "def generate_classification_report(model, X_test, y_test, model_name=\"Hello world\") -> None:\n",
    "    # data to plot\n",
    "    y_pred_proba = model.predict_proba(X_test)[:, 1]\n",
    "    y_pred = model.predict(X_test)\n",
    "\n",
    "    # confusion matrix\n",
    "    conf_matrix = confusion_matrix(y_test, y_pred)\n",
    "\n",
    "    # summary table\n",
    "    summary_scores = {\n",
    "        name: score_func(y_test, y_pred, y_pred_proba).round(3)\n",
    "        for name, score_func in {\n",
    "            'accuray': lambda x, y, z: accuracy_score(x, y),\n",
    "            'precision': lambda x, y, z: precision_score(x, y),\n",
    "            'recall': lambda x, y, z: recall_score(x, y),\n",
    "            'f1 score': lambda x, y, z: f1_score(x, y),\n",
    "            '<b>area under the roc</b>' : lambda x, y, z: roc_auc_score(x, z),\n",
    "            '<b>brier score loss</b>' : lambda x, y, z: brier_score_loss(x, y)\n",
    "        }.items()\n",
    "    }\n",
    "\n",
    "    # roc curve\n",
    "    fpr, tpr, thresholds = roc_curve(y_test, y_pred_proba)\n",
    "    auc_score = roc_auc_score(y_test, y_pred_proba)\n",
    "    auc_score = auc_score.round(3)\n",
    "\n",
    "    # precision recall curve\n",
    "    precision, recall, thresholds = precision_recall_curve(y_test, y_pred_proba)\n",
    "\n",
    "\n",
    "    # init fig\n",
    "    fig = make_subplots(rows=2, cols=2,\n",
    "                        subplot_titles=(\"Confusion matix\", \"Classification metrics\",\n",
    "                                        f\"ROC curve (AUC={auc_score})\",\n",
    "                                        \"Precision - Recall curve\"),\n",
    "                        specs=[[{}, {\"type\": \"table\"}],\n",
    "                               [{}, {}]],\n",
    "                        horizontal_spacing=0.07,\n",
    "                        vertical_spacing=0.2\n",
    "                        )\n",
    "\n",
    "    # build and assign plots\n",
    "    arr_plots = [\n",
    "                {\n",
    "            \"plot_props\": plot_confusion_matrix(conf_matrix),\n",
    "            \"row\": 1, \"col\": 1\n",
    "        },\n",
    "        {\n",
    "            \"plot_props\": plot_classification_summary(**summary_scores),\n",
    "            \"row\": 1, \"col\": 2\n",
    "        },\n",
    "        {\n",
    "            \"plot_props\": plot_ROC_curve(fpr, tpr, thresholds),\n",
    "            \"row\": 2, \"col\": 1\n",
    "        },\n",
    "        {\n",
    "            \"plot_props\": plot_precision_recall_curve(precision,\n",
    "                                                  recall, thresholds),\n",
    "            \"row\": 2, \"col\": 2\n",
    "        },\n",
    "    ]\n",
    "\n",
    "    # make plot\n",
    "    for plot in arr_plots:\n",
    "        # explode params\n",
    "        plot_props = plot[\"plot_props\"]\n",
    "        row = plot[\"row\"]\n",
    "        col = plot[\"col\"]\n",
    "\n",
    "        # plot\n",
    "        fig.add_traces(\n",
    "            plot_props[\"traces\"],\n",
    "            rows=row, cols=col\n",
    "        )\n",
    "\n",
    "        # add annotations\n",
    "        if plot_props[\"annotations\"]:\n",
    "            for annotation in plot_props[\"annotations\"]:\n",
    "                fig.add_annotation(**annotation,\n",
    "                                   row=row, col=col)\n",
    "\n",
    "        # update axisi\n",
    "        fig.update_xaxes(**plot_props[\"xaxis\"], row=row, col=col)\n",
    "        fig.update_yaxes(**plot_props[\"yaxis\"], row=row, col=col)\n",
    "\n",
    "\n",
    "    # global layout\n",
    "    fig.update_layout(\n",
    "        title=f\"Global report for: {model_name}\",\n",
    "        # annotations=plot_confusion_matrix(conf_matrix)['annotations'],\n",
    "        height=800,\n",
    "    )\n",
    "\n",
    "    fig.show()\n",
    "    return summary_scores"
   ]
  },
  {
   "cell_type": "markdown",
   "metadata": {
    "id": "6w0kp44up-rm"
   },
   "source": [
    "# Logistic Regression Model :"
   ]
  },
  {
   "cell_type": "code",
   "execution_count": 109,
   "metadata": {
    "colab": {
     "base_uri": "https://localhost:8080/",
     "height": 75
    },
    "id": "1EH1s095pIbg",
    "outputId": "9b99d58d-b6b2-4b03-cee9-bc4db155d3bc"
   },
   "outputs": [
    {
     "data": {
      "text/html": [
       "<style>#sk-container-id-4 {color: black;background-color: white;}#sk-container-id-4 pre{padding: 0;}#sk-container-id-4 div.sk-toggleable {background-color: white;}#sk-container-id-4 label.sk-toggleable__label {cursor: pointer;display: block;width: 100%;margin-bottom: 0;padding: 0.3em;box-sizing: border-box;text-align: center;}#sk-container-id-4 label.sk-toggleable__label-arrow:before {content: \"▸\";float: left;margin-right: 0.25em;color: #696969;}#sk-container-id-4 label.sk-toggleable__label-arrow:hover:before {color: black;}#sk-container-id-4 div.sk-estimator:hover label.sk-toggleable__label-arrow:before {color: black;}#sk-container-id-4 div.sk-toggleable__content {max-height: 0;max-width: 0;overflow: hidden;text-align: left;background-color: #f0f8ff;}#sk-container-id-4 div.sk-toggleable__content pre {margin: 0.2em;color: black;border-radius: 0.25em;background-color: #f0f8ff;}#sk-container-id-4 input.sk-toggleable__control:checked~div.sk-toggleable__content {max-height: 200px;max-width: 100%;overflow: auto;}#sk-container-id-4 input.sk-toggleable__control:checked~label.sk-toggleable__label-arrow:before {content: \"▾\";}#sk-container-id-4 div.sk-estimator input.sk-toggleable__control:checked~label.sk-toggleable__label {background-color: #d4ebff;}#sk-container-id-4 div.sk-label input.sk-toggleable__control:checked~label.sk-toggleable__label {background-color: #d4ebff;}#sk-container-id-4 input.sk-hidden--visually {border: 0;clip: rect(1px 1px 1px 1px);clip: rect(1px, 1px, 1px, 1px);height: 1px;margin: -1px;overflow: hidden;padding: 0;position: absolute;width: 1px;}#sk-container-id-4 div.sk-estimator {font-family: monospace;background-color: #f0f8ff;border: 1px dotted black;border-radius: 0.25em;box-sizing: border-box;margin-bottom: 0.5em;}#sk-container-id-4 div.sk-estimator:hover {background-color: #d4ebff;}#sk-container-id-4 div.sk-parallel-item::after {content: \"\";width: 100%;border-bottom: 1px solid gray;flex-grow: 1;}#sk-container-id-4 div.sk-label:hover label.sk-toggleable__label {background-color: #d4ebff;}#sk-container-id-4 div.sk-serial::before {content: \"\";position: absolute;border-left: 1px solid gray;box-sizing: border-box;top: 0;bottom: 0;left: 50%;z-index: 0;}#sk-container-id-4 div.sk-serial {display: flex;flex-direction: column;align-items: center;background-color: white;padding-right: 0.2em;padding-left: 0.2em;position: relative;}#sk-container-id-4 div.sk-item {position: relative;z-index: 1;}#sk-container-id-4 div.sk-parallel {display: flex;align-items: stretch;justify-content: center;background-color: white;position: relative;}#sk-container-id-4 div.sk-item::before, #sk-container-id-4 div.sk-parallel-item::before {content: \"\";position: absolute;border-left: 1px solid gray;box-sizing: border-box;top: 0;bottom: 0;left: 50%;z-index: -1;}#sk-container-id-4 div.sk-parallel-item {display: flex;flex-direction: column;z-index: 1;position: relative;background-color: white;}#sk-container-id-4 div.sk-parallel-item:first-child::after {align-self: flex-end;width: 50%;}#sk-container-id-4 div.sk-parallel-item:last-child::after {align-self: flex-start;width: 50%;}#sk-container-id-4 div.sk-parallel-item:only-child::after {width: 0;}#sk-container-id-4 div.sk-dashed-wrapped {border: 1px dashed gray;margin: 0 0.4em 0.5em 0.4em;box-sizing: border-box;padding-bottom: 0.4em;background-color: white;}#sk-container-id-4 div.sk-label label {font-family: monospace;font-weight: bold;display: inline-block;line-height: 1.2em;}#sk-container-id-4 div.sk-label-container {text-align: center;}#sk-container-id-4 div.sk-container {/* jupyter's `normalize.less` sets `[hidden] { display: none; }` but bootstrap.min.css set `[hidden] { display: none !important; }` so we also need the `!important` here to be able to override the default hidden behavior on the sphinx rendered scikit-learn.org. See: https://github.com/scikit-learn/scikit-learn/issues/21755 */display: inline-block !important;position: relative;}#sk-container-id-4 div.sk-text-repr-fallback {display: none;}</style><div id=\"sk-container-id-4\" class=\"sk-top-container\"><div class=\"sk-text-repr-fallback\"><pre>LogisticRegression()</pre><b>In a Jupyter environment, please rerun this cell to show the HTML representation or trust the notebook. <br />On GitHub, the HTML representation is unable to render, please try loading this page with nbviewer.org.</b></div><div class=\"sk-container\" hidden><div class=\"sk-item\"><div class=\"sk-estimator sk-toggleable\"><input class=\"sk-toggleable__control sk-hidden--visually\" id=\"sk-estimator-id-6\" type=\"checkbox\" checked><label for=\"sk-estimator-id-6\" class=\"sk-toggleable__label sk-toggleable__label-arrow\">LogisticRegression</label><div class=\"sk-toggleable__content\"><pre>LogisticRegression()</pre></div></div></div></div></div>"
      ],
      "text/plain": [
       "LogisticRegression()"
      ]
     },
     "execution_count": 109,
     "metadata": {},
     "output_type": "execute_result"
    }
   ],
   "source": [
    "from sklearn.linear_model import LogisticRegression\n",
    "model = LogisticRegression(solver='lbfgs')\n",
    "model.fit(data_train, target_train)"
   ]
  },
  {
   "cell_type": "code",
   "execution_count": 110,
   "metadata": {
    "id": "Gbbkb4wUrYqe"
   },
   "outputs": [],
   "source": [
    "# Prediction on the test set :\n",
    "target_predicted = model.predict(data_test)"
   ]
  },
  {
   "cell_type": "code",
   "execution_count": 111,
   "metadata": {
    "colab": {
     "base_uri": "https://localhost:8080/"
    },
    "id": "dDwyzE3Erb2k",
    "outputId": "863e630a-6e83-4d63-b026-4766e72c0fa7"
   },
   "outputs": [
    {
     "name": "stdout",
     "output_type": "stream",
     "text": [
      "The test accuracy using a LogisticRegression is 0.922\n"
     ]
    }
   ],
   "source": [
    "print(\n",
    "    f\"The test accuracy using a {model.__class__.__name__} is \"\n",
    "    f\"{model.score(data_test, target_test):.3f}\"\n",
    ")"
   ]
  },
  {
   "cell_type": "code",
   "execution_count": 112,
   "metadata": {
    "colab": {
     "base_uri": "https://localhost:8080/",
     "height": 817
    },
    "id": "cBdaESqJr2fD",
    "outputId": "b9a0a225-3306-41ec-ffc4-5503875b7c8e"
   },
   "outputs": [
    {
     "data": {
      "text/html": [
       "<html>\n",
       "<head><meta charset=\"utf-8\" /></head>\n",
       "<body>\n",
       "    <div>            <script src=\"https://cdnjs.cloudflare.com/ajax/libs/mathjax/2.7.5/MathJax.js?config=TeX-AMS-MML_SVG\"></script><script type=\"text/javascript\">if (window.MathJax && window.MathJax.Hub && window.MathJax.Hub.Config) {window.MathJax.Hub.Config({SVG: {font: \"STIX-Web\"}});}</script>                <script type=\"text/javascript\">window.PlotlyConfig = {MathJaxConfig: 'local'};</script>\n",
       "        <script src=\"https://cdn.plot.ly/plotly-2.18.2.min.js\"></script>                <div id=\"ad342bc4-bc24-4ad0-8895-c59bab71ee06\" class=\"plotly-graph-div\" style=\"height:800px; width:100%;\"></div>            <script type=\"text/javascript\">                                    window.PLOTLYENV=window.PLOTLYENV || {};                                    if (document.getElementById(\"ad342bc4-bc24-4ad0-8895-c59bab71ee06\")) {                    Plotly.newPlot(                        \"ad342bc4-bc24-4ad0-8895-c59bab71ee06\",                        [{\"colorscale\":[[0.0,\"#018571\"],[0.3333333333333333,\"#80cdc1\"],[0.6666666666666666,\"#dfc27d\"],[1.0,\"#a6611a\"]],\"showscale\":false,\"text\":[[\"0\",\"5\"],[\"0\",\"59\"]],\"x\":[\"0\",\"1\"],\"y\":[\"0\",\"1\"],\"z\":[[0,5],[0,59]],\"type\":\"heatmap\",\"xaxis\":\"x\",\"yaxis\":\"y\"},{\"cells\":{\"fill\":{\"color\":[\"#80cdc1\",\"#dfc27d\"]},\"line\":{\"color\":\"#a6611a\"},\"values\":[[\"accuray\",\"precision\",\"recall\",\"f1 score\",\"<b>area under the roc</b>\",\"<b>brier score loss</b>\"],[0.922,0.922,1.0,0.959,0.715,0.078]]},\"header\":{\"fill\":{\"color\":\"#018571\"},\"line\":{\"color\":\"#a6611a\"},\"values\":[\"Metric\",\"Score\"]},\"type\":\"table\",\"domain\":{\"x\":[0.5349999999999999,0.9999999999999999],\"y\":[0.6000000000000001,1.0]}},{\"fill\":\"tozeroy\",\"line\":{\"color\":\"#018571\"},\"mode\":\"lines\",\"name\":\"ROC curve\",\"showlegend\":false,\"text\":[0.728,0.737,0.77,0.774,0.787,0.79,0.804,0.807,0.81,0.813,0.815,0.82,0.822,0.823,0.824,0.827,0.828,0.832,0.833,0.836,0.837,0.839,0.842,0.842,0.845,0.846,0.85,0.852,0.853,0.854,0.859,0.859,0.859,0.861,0.862,0.863,0.864,0.864,0.866,0.87,0.877,0.879,0.88,0.885,0.888,0.89,0.892,0.894,0.9,0.91,0.915,0.922,0.926,0.93,0.935,0.944,0.945,0.946,0.946,0.957,0.962,0.963,0.978,0.98],\"x\":[0.0,0.0,0.0,0.2,0.2,0.4,0.4,0.6,0.6,0.8,0.8,1.0],\"y\":[0.0,0.017,0.288,0.288,0.644,0.644,0.814,0.814,0.831,0.831,1.0,1.0],\"type\":\"scatter\",\"xaxis\":\"x2\",\"yaxis\":\"y2\"},{\"line\":{\"color\":\"#a6611a\",\"dash\":\"dot\"},\"mode\":\"lines\",\"name\":\"Base line\",\"showlegend\":false,\"x\":[0.0,0.01694915254237288,0.288135593220339,0.288135593220339,0.6440677966101694,0.6440677966101694,0.8135593220338984,0.8135593220338984,0.8305084745762712,0.8305084745762712,1.0,1.0],\"y\":[0.0,0.01694915254237288,0.288135593220339,0.288135593220339,0.6440677966101694,0.6440677966101694,0.8135593220338984,0.8135593220338984,0.8305084745762712,0.8305084745762712,1.0,1.0],\"type\":\"scatter\",\"xaxis\":\"x2\",\"yaxis\":\"y2\"},{\"line\":{\"color\":\"#018571\"},\"mode\":\"lines\",\"name\":\"precision recall curve\",\"showlegend\":false,\"text\":[0.728,0.737,0.77,0.774,0.787,0.79,0.804,0.807,0.81,0.813,0.815,0.82,0.822,0.823,0.824,0.827,0.828,0.832,0.833,0.836,0.837,0.839,0.842,0.842,0.845,0.846,0.85,0.852,0.853,0.854,0.859,0.859,0.859,0.861,0.862,0.863,0.864,0.864,0.866,0.87,0.877,0.879,0.88,0.885,0.888,0.89,0.892,0.894,0.9,0.91,0.915,0.922,0.926,0.93,0.935,0.944,0.945,0.946,0.946,0.957,0.962,0.963,0.978,0.98],\"x\":[1.0,1.0,0.983,0.966,0.949,0.932,0.915,0.898,0.881,0.864,0.847,0.831,0.831,0.814,0.814,0.797,0.78,0.763,0.746,0.729,0.712,0.695,0.678,0.661,0.644,0.644,0.627,0.61,0.593,0.576,0.559,0.542,0.525,0.508,0.492,0.475,0.458,0.441,0.424,0.407,0.39,0.373,0.356,0.339,0.322,0.305,0.288,0.288,0.271,0.254,0.237,0.22,0.203,0.186,0.169,0.153,0.136,0.119,0.102,0.085,0.068,0.051,0.034,0.017,0.0],\"y\":[0.922,0.937,0.935,0.934,0.933,0.932,0.931,0.93,0.929,0.927,0.926,0.925,0.942,0.941,0.96,0.959,0.958,0.957,0.957,0.956,0.955,0.953,0.952,0.951,0.95,0.974,0.974,0.973,0.972,0.971,0.971,0.97,0.969,0.968,0.967,0.966,0.964,0.963,0.962,0.96,0.958,0.957,0.955,0.952,0.95,0.947,0.944,1.0,1.0,1.0,1.0,1.0,1.0,1.0,1.0,1.0,1.0,1.0,1.0,1.0,1.0,1.0,1.0,1.0,1.0],\"type\":\"scatter\",\"xaxis\":\"x3\",\"yaxis\":\"y3\"}],                        {\"template\":{\"data\":{\"histogram2dcontour\":[{\"type\":\"histogram2dcontour\",\"colorbar\":{\"outlinewidth\":0,\"ticks\":\"\"},\"colorscale\":[[0.0,\"#0d0887\"],[0.1111111111111111,\"#46039f\"],[0.2222222222222222,\"#7201a8\"],[0.3333333333333333,\"#9c179e\"],[0.4444444444444444,\"#bd3786\"],[0.5555555555555556,\"#d8576b\"],[0.6666666666666666,\"#ed7953\"],[0.7777777777777778,\"#fb9f3a\"],[0.8888888888888888,\"#fdca26\"],[1.0,\"#f0f921\"]]}],\"choropleth\":[{\"type\":\"choropleth\",\"colorbar\":{\"outlinewidth\":0,\"ticks\":\"\"}}],\"histogram2d\":[{\"type\":\"histogram2d\",\"colorbar\":{\"outlinewidth\":0,\"ticks\":\"\"},\"colorscale\":[[0.0,\"#0d0887\"],[0.1111111111111111,\"#46039f\"],[0.2222222222222222,\"#7201a8\"],[0.3333333333333333,\"#9c179e\"],[0.4444444444444444,\"#bd3786\"],[0.5555555555555556,\"#d8576b\"],[0.6666666666666666,\"#ed7953\"],[0.7777777777777778,\"#fb9f3a\"],[0.8888888888888888,\"#fdca26\"],[1.0,\"#f0f921\"]]}],\"heatmap\":[{\"type\":\"heatmap\",\"colorbar\":{\"outlinewidth\":0,\"ticks\":\"\"},\"colorscale\":[[0.0,\"#0d0887\"],[0.1111111111111111,\"#46039f\"],[0.2222222222222222,\"#7201a8\"],[0.3333333333333333,\"#9c179e\"],[0.4444444444444444,\"#bd3786\"],[0.5555555555555556,\"#d8576b\"],[0.6666666666666666,\"#ed7953\"],[0.7777777777777778,\"#fb9f3a\"],[0.8888888888888888,\"#fdca26\"],[1.0,\"#f0f921\"]]}],\"heatmapgl\":[{\"type\":\"heatmapgl\",\"colorbar\":{\"outlinewidth\":0,\"ticks\":\"\"},\"colorscale\":[[0.0,\"#0d0887\"],[0.1111111111111111,\"#46039f\"],[0.2222222222222222,\"#7201a8\"],[0.3333333333333333,\"#9c179e\"],[0.4444444444444444,\"#bd3786\"],[0.5555555555555556,\"#d8576b\"],[0.6666666666666666,\"#ed7953\"],[0.7777777777777778,\"#fb9f3a\"],[0.8888888888888888,\"#fdca26\"],[1.0,\"#f0f921\"]]}],\"contourcarpet\":[{\"type\":\"contourcarpet\",\"colorbar\":{\"outlinewidth\":0,\"ticks\":\"\"}}],\"contour\":[{\"type\":\"contour\",\"colorbar\":{\"outlinewidth\":0,\"ticks\":\"\"},\"colorscale\":[[0.0,\"#0d0887\"],[0.1111111111111111,\"#46039f\"],[0.2222222222222222,\"#7201a8\"],[0.3333333333333333,\"#9c179e\"],[0.4444444444444444,\"#bd3786\"],[0.5555555555555556,\"#d8576b\"],[0.6666666666666666,\"#ed7953\"],[0.7777777777777778,\"#fb9f3a\"],[0.8888888888888888,\"#fdca26\"],[1.0,\"#f0f921\"]]}],\"surface\":[{\"type\":\"surface\",\"colorbar\":{\"outlinewidth\":0,\"ticks\":\"\"},\"colorscale\":[[0.0,\"#0d0887\"],[0.1111111111111111,\"#46039f\"],[0.2222222222222222,\"#7201a8\"],[0.3333333333333333,\"#9c179e\"],[0.4444444444444444,\"#bd3786\"],[0.5555555555555556,\"#d8576b\"],[0.6666666666666666,\"#ed7953\"],[0.7777777777777778,\"#fb9f3a\"],[0.8888888888888888,\"#fdca26\"],[1.0,\"#f0f921\"]]}],\"mesh3d\":[{\"type\":\"mesh3d\",\"colorbar\":{\"outlinewidth\":0,\"ticks\":\"\"}}],\"scatter\":[{\"fillpattern\":{\"fillmode\":\"overlay\",\"size\":10,\"solidity\":0.2},\"type\":\"scatter\"}],\"parcoords\":[{\"type\":\"parcoords\",\"line\":{\"colorbar\":{\"outlinewidth\":0,\"ticks\":\"\"}}}],\"scatterpolargl\":[{\"type\":\"scatterpolargl\",\"marker\":{\"colorbar\":{\"outlinewidth\":0,\"ticks\":\"\"}}}],\"bar\":[{\"error_x\":{\"color\":\"#2a3f5f\"},\"error_y\":{\"color\":\"#2a3f5f\"},\"marker\":{\"line\":{\"color\":\"#E5ECF6\",\"width\":0.5},\"pattern\":{\"fillmode\":\"overlay\",\"size\":10,\"solidity\":0.2}},\"type\":\"bar\"}],\"scattergeo\":[{\"type\":\"scattergeo\",\"marker\":{\"colorbar\":{\"outlinewidth\":0,\"ticks\":\"\"}}}],\"scatterpolar\":[{\"type\":\"scatterpolar\",\"marker\":{\"colorbar\":{\"outlinewidth\":0,\"ticks\":\"\"}}}],\"histogram\":[{\"marker\":{\"pattern\":{\"fillmode\":\"overlay\",\"size\":10,\"solidity\":0.2}},\"type\":\"histogram\"}],\"scattergl\":[{\"type\":\"scattergl\",\"marker\":{\"colorbar\":{\"outlinewidth\":0,\"ticks\":\"\"}}}],\"scatter3d\":[{\"type\":\"scatter3d\",\"line\":{\"colorbar\":{\"outlinewidth\":0,\"ticks\":\"\"}},\"marker\":{\"colorbar\":{\"outlinewidth\":0,\"ticks\":\"\"}}}],\"scattermapbox\":[{\"type\":\"scattermapbox\",\"marker\":{\"colorbar\":{\"outlinewidth\":0,\"ticks\":\"\"}}}],\"scatterternary\":[{\"type\":\"scatterternary\",\"marker\":{\"colorbar\":{\"outlinewidth\":0,\"ticks\":\"\"}}}],\"scattercarpet\":[{\"type\":\"scattercarpet\",\"marker\":{\"colorbar\":{\"outlinewidth\":0,\"ticks\":\"\"}}}],\"carpet\":[{\"aaxis\":{\"endlinecolor\":\"#2a3f5f\",\"gridcolor\":\"white\",\"linecolor\":\"white\",\"minorgridcolor\":\"white\",\"startlinecolor\":\"#2a3f5f\"},\"baxis\":{\"endlinecolor\":\"#2a3f5f\",\"gridcolor\":\"white\",\"linecolor\":\"white\",\"minorgridcolor\":\"white\",\"startlinecolor\":\"#2a3f5f\"},\"type\":\"carpet\"}],\"table\":[{\"cells\":{\"fill\":{\"color\":\"#EBF0F8\"},\"line\":{\"color\":\"white\"}},\"header\":{\"fill\":{\"color\":\"#C8D4E3\"},\"line\":{\"color\":\"white\"}},\"type\":\"table\"}],\"barpolar\":[{\"marker\":{\"line\":{\"color\":\"#E5ECF6\",\"width\":0.5},\"pattern\":{\"fillmode\":\"overlay\",\"size\":10,\"solidity\":0.2}},\"type\":\"barpolar\"}],\"pie\":[{\"automargin\":true,\"type\":\"pie\"}]},\"layout\":{\"autotypenumbers\":\"strict\",\"colorway\":[\"#636efa\",\"#EF553B\",\"#00cc96\",\"#ab63fa\",\"#FFA15A\",\"#19d3f3\",\"#FF6692\",\"#B6E880\",\"#FF97FF\",\"#FECB52\"],\"font\":{\"color\":\"#2a3f5f\"},\"hovermode\":\"closest\",\"hoverlabel\":{\"align\":\"left\"},\"paper_bgcolor\":\"white\",\"plot_bgcolor\":\"#E5ECF6\",\"polar\":{\"bgcolor\":\"#E5ECF6\",\"angularaxis\":{\"gridcolor\":\"white\",\"linecolor\":\"white\",\"ticks\":\"\"},\"radialaxis\":{\"gridcolor\":\"white\",\"linecolor\":\"white\",\"ticks\":\"\"}},\"ternary\":{\"bgcolor\":\"#E5ECF6\",\"aaxis\":{\"gridcolor\":\"white\",\"linecolor\":\"white\",\"ticks\":\"\"},\"baxis\":{\"gridcolor\":\"white\",\"linecolor\":\"white\",\"ticks\":\"\"},\"caxis\":{\"gridcolor\":\"white\",\"linecolor\":\"white\",\"ticks\":\"\"}},\"coloraxis\":{\"colorbar\":{\"outlinewidth\":0,\"ticks\":\"\"}},\"colorscale\":{\"sequential\":[[0.0,\"#0d0887\"],[0.1111111111111111,\"#46039f\"],[0.2222222222222222,\"#7201a8\"],[0.3333333333333333,\"#9c179e\"],[0.4444444444444444,\"#bd3786\"],[0.5555555555555556,\"#d8576b\"],[0.6666666666666666,\"#ed7953\"],[0.7777777777777778,\"#fb9f3a\"],[0.8888888888888888,\"#fdca26\"],[1.0,\"#f0f921\"]],\"sequentialminus\":[[0.0,\"#0d0887\"],[0.1111111111111111,\"#46039f\"],[0.2222222222222222,\"#7201a8\"],[0.3333333333333333,\"#9c179e\"],[0.4444444444444444,\"#bd3786\"],[0.5555555555555556,\"#d8576b\"],[0.6666666666666666,\"#ed7953\"],[0.7777777777777778,\"#fb9f3a\"],[0.8888888888888888,\"#fdca26\"],[1.0,\"#f0f921\"]],\"diverging\":[[0,\"#8e0152\"],[0.1,\"#c51b7d\"],[0.2,\"#de77ae\"],[0.3,\"#f1b6da\"],[0.4,\"#fde0ef\"],[0.5,\"#f7f7f7\"],[0.6,\"#e6f5d0\"],[0.7,\"#b8e186\"],[0.8,\"#7fbc41\"],[0.9,\"#4d9221\"],[1,\"#276419\"]]},\"xaxis\":{\"gridcolor\":\"white\",\"linecolor\":\"white\",\"ticks\":\"\",\"title\":{\"standoff\":15},\"zerolinecolor\":\"white\",\"automargin\":true,\"zerolinewidth\":2},\"yaxis\":{\"gridcolor\":\"white\",\"linecolor\":\"white\",\"ticks\":\"\",\"title\":{\"standoff\":15},\"zerolinecolor\":\"white\",\"automargin\":true,\"zerolinewidth\":2},\"scene\":{\"xaxis\":{\"backgroundcolor\":\"#E5ECF6\",\"gridcolor\":\"white\",\"linecolor\":\"white\",\"showbackground\":true,\"ticks\":\"\",\"zerolinecolor\":\"white\",\"gridwidth\":2},\"yaxis\":{\"backgroundcolor\":\"#E5ECF6\",\"gridcolor\":\"white\",\"linecolor\":\"white\",\"showbackground\":true,\"ticks\":\"\",\"zerolinecolor\":\"white\",\"gridwidth\":2},\"zaxis\":{\"backgroundcolor\":\"#E5ECF6\",\"gridcolor\":\"white\",\"linecolor\":\"white\",\"showbackground\":true,\"ticks\":\"\",\"zerolinecolor\":\"white\",\"gridwidth\":2}},\"shapedefaults\":{\"line\":{\"color\":\"#2a3f5f\"}},\"annotationdefaults\":{\"arrowcolor\":\"#2a3f5f\",\"arrowhead\":0,\"arrowwidth\":1},\"geo\":{\"bgcolor\":\"white\",\"landcolor\":\"#E5ECF6\",\"subunitcolor\":\"white\",\"showland\":true,\"showlakes\":true,\"lakecolor\":\"white\"},\"title\":{\"x\":0.05},\"mapbox\":{\"style\":\"light\"}}},\"xaxis\":{\"anchor\":\"y\",\"domain\":[0.0,0.46499999999999997],\"title\":{\"text\":\"Predicted\"}},\"yaxis\":{\"anchor\":\"x\",\"domain\":[0.6000000000000001,1.0],\"title\":{\"text\":\"Real\"}},\"xaxis2\":{\"anchor\":\"y2\",\"domain\":[0.0,0.46499999999999997],\"title\":{\"text\":\"false positive rate\"}},\"yaxis2\":{\"anchor\":\"x2\",\"domain\":[0.0,0.4],\"title\":{\"text\":\"true positive rate\"}},\"xaxis3\":{\"anchor\":\"y3\",\"domain\":[0.5349999999999999,0.9999999999999999],\"title\":{\"text\":\"recall\"}},\"yaxis3\":{\"anchor\":\"x3\",\"domain\":[0.0,0.4],\"title\":{\"text\":\"precision\"}},\"annotations\":[{\"font\":{\"size\":16},\"showarrow\":false,\"text\":\"Confusion matix\",\"x\":0.23249999999999998,\"xanchor\":\"center\",\"xref\":\"paper\",\"y\":1.0,\"yanchor\":\"bottom\",\"yref\":\"paper\"},{\"font\":{\"size\":16},\"showarrow\":false,\"text\":\"Classification metrics\",\"x\":0.7674999999999998,\"xanchor\":\"center\",\"xref\":\"paper\",\"y\":1.0,\"yanchor\":\"bottom\",\"yref\":\"paper\"},{\"font\":{\"size\":16},\"showarrow\":false,\"text\":\"ROC curve (AUC=0.715)\",\"x\":0.23249999999999998,\"xanchor\":\"center\",\"xref\":\"paper\",\"y\":0.4,\"yanchor\":\"bottom\",\"yref\":\"paper\"},{\"font\":{\"size\":16},\"showarrow\":false,\"text\":\"Precision - Recall curve\",\"x\":0.7674999999999998,\"xanchor\":\"center\",\"xref\":\"paper\",\"y\":0.4,\"yanchor\":\"bottom\",\"yref\":\"paper\"},{\"showarrow\":false,\"text\":\"0\",\"x\":0,\"xref\":\"x\",\"y\":0,\"yref\":\"y\",\"yshift\":10},{\"showarrow\":false,\"text\":\"5\",\"x\":0,\"xref\":\"x\",\"y\":1,\"yref\":\"y\",\"yshift\":10},{\"showarrow\":false,\"text\":\"0\",\"x\":1,\"xref\":\"x\",\"y\":0,\"yref\":\"y\",\"yshift\":10},{\"showarrow\":false,\"text\":\"59\",\"x\":1,\"xref\":\"x\",\"y\":1,\"yref\":\"y\",\"yshift\":10}],\"title\":{\"text\":\"Global report for: Baseline Model\"},\"height\":800},                        {\"responsive\": true}                    ).then(function(){\n",
       "                            \n",
       "var gd = document.getElementById('ad342bc4-bc24-4ad0-8895-c59bab71ee06');\n",
       "var x = new MutationObserver(function (mutations, observer) {{\n",
       "        var display = window.getComputedStyle(gd).display;\n",
       "        if (!display || display === 'none') {{\n",
       "            console.log([gd, 'removed!']);\n",
       "            Plotly.purge(gd);\n",
       "            observer.disconnect();\n",
       "        }}\n",
       "}});\n",
       "\n",
       "// Listen for the removal of the full notebook cells\n",
       "var notebookContainer = gd.closest('#notebook-container');\n",
       "if (notebookContainer) {{\n",
       "    x.observe(notebookContainer, {childList: true});\n",
       "}}\n",
       "\n",
       "// Listen for the clearing of the current output cell\n",
       "var outputEl = gd.closest('.output');\n",
       "if (outputEl) {{\n",
       "    x.observe(outputEl, {childList: true});\n",
       "}}\n",
       "\n",
       "                        })                };                            </script>        </div>\n",
       "</body>\n",
       "</html>"
      ]
     },
     "metadata": {},
     "output_type": "display_data"
    }
   ],
   "source": [
    "scores_lr_bs = generate_classification_report(model, data_test, target_test, \"Baseline Model\")"
   ]
  },
  {
   "cell_type": "markdown",
   "metadata": {
    "id": "pN1c8YoisNYS"
   },
   "source": [
    "# Random Forest"
   ]
  },
  {
   "cell_type": "code",
   "execution_count": 113,
   "metadata": {
    "id": "8zgx3RyAs4rR"
   },
   "outputs": [],
   "source": [
    "def evaluate(model, X, y, cv):\n",
    "    # Cross Validation :\n",
    "    cv_results = cross_validate(\n",
    "        model,\n",
    "        X,\n",
    "        y,\n",
    "        cv=cv,\n",
    "        scoring=[\"neg_brier_score\", \"roc_auc\"],\n",
    "    )\n",
    "    # Calculate scores :\n",
    "    brier_sc = -cv_results[\"test_neg_brier_score\"] # we add - since it's negative\n",
    "    roc_sc = cv_results[\"test_roc_auc\"]\n",
    "    print(\n",
    "        f\"Brier Loss Score :     {brier_sc.mean():.3f} +/- {brier_sc.std():.3f}\\n\"\n",
    "        f\"ROC_AUC Score : {roc_sc.mean():.3f} +/- {roc_sc.std():.3f}\"\n",
    "    )"
   ]
  },
  {
   "cell_type": "code",
   "execution_count": 114,
   "metadata": {
    "colab": {
     "base_uri": "https://localhost:8080/",
     "height": 75
    },
    "id": "0SyJeZKer8yV",
    "outputId": "5ede65fc-1e72-4241-a3d1-a01541528c0f"
   },
   "outputs": [
    {
     "data": {
      "text/html": [
       "<style>#sk-container-id-5 {color: black;background-color: white;}#sk-container-id-5 pre{padding: 0;}#sk-container-id-5 div.sk-toggleable {background-color: white;}#sk-container-id-5 label.sk-toggleable__label {cursor: pointer;display: block;width: 100%;margin-bottom: 0;padding: 0.3em;box-sizing: border-box;text-align: center;}#sk-container-id-5 label.sk-toggleable__label-arrow:before {content: \"▸\";float: left;margin-right: 0.25em;color: #696969;}#sk-container-id-5 label.sk-toggleable__label-arrow:hover:before {color: black;}#sk-container-id-5 div.sk-estimator:hover label.sk-toggleable__label-arrow:before {color: black;}#sk-container-id-5 div.sk-toggleable__content {max-height: 0;max-width: 0;overflow: hidden;text-align: left;background-color: #f0f8ff;}#sk-container-id-5 div.sk-toggleable__content pre {margin: 0.2em;color: black;border-radius: 0.25em;background-color: #f0f8ff;}#sk-container-id-5 input.sk-toggleable__control:checked~div.sk-toggleable__content {max-height: 200px;max-width: 100%;overflow: auto;}#sk-container-id-5 input.sk-toggleable__control:checked~label.sk-toggleable__label-arrow:before {content: \"▾\";}#sk-container-id-5 div.sk-estimator input.sk-toggleable__control:checked~label.sk-toggleable__label {background-color: #d4ebff;}#sk-container-id-5 div.sk-label input.sk-toggleable__control:checked~label.sk-toggleable__label {background-color: #d4ebff;}#sk-container-id-5 input.sk-hidden--visually {border: 0;clip: rect(1px 1px 1px 1px);clip: rect(1px, 1px, 1px, 1px);height: 1px;margin: -1px;overflow: hidden;padding: 0;position: absolute;width: 1px;}#sk-container-id-5 div.sk-estimator {font-family: monospace;background-color: #f0f8ff;border: 1px dotted black;border-radius: 0.25em;box-sizing: border-box;margin-bottom: 0.5em;}#sk-container-id-5 div.sk-estimator:hover {background-color: #d4ebff;}#sk-container-id-5 div.sk-parallel-item::after {content: \"\";width: 100%;border-bottom: 1px solid gray;flex-grow: 1;}#sk-container-id-5 div.sk-label:hover label.sk-toggleable__label {background-color: #d4ebff;}#sk-container-id-5 div.sk-serial::before {content: \"\";position: absolute;border-left: 1px solid gray;box-sizing: border-box;top: 0;bottom: 0;left: 50%;z-index: 0;}#sk-container-id-5 div.sk-serial {display: flex;flex-direction: column;align-items: center;background-color: white;padding-right: 0.2em;padding-left: 0.2em;position: relative;}#sk-container-id-5 div.sk-item {position: relative;z-index: 1;}#sk-container-id-5 div.sk-parallel {display: flex;align-items: stretch;justify-content: center;background-color: white;position: relative;}#sk-container-id-5 div.sk-item::before, #sk-container-id-5 div.sk-parallel-item::before {content: \"\";position: absolute;border-left: 1px solid gray;box-sizing: border-box;top: 0;bottom: 0;left: 50%;z-index: -1;}#sk-container-id-5 div.sk-parallel-item {display: flex;flex-direction: column;z-index: 1;position: relative;background-color: white;}#sk-container-id-5 div.sk-parallel-item:first-child::after {align-self: flex-end;width: 50%;}#sk-container-id-5 div.sk-parallel-item:last-child::after {align-self: flex-start;width: 50%;}#sk-container-id-5 div.sk-parallel-item:only-child::after {width: 0;}#sk-container-id-5 div.sk-dashed-wrapped {border: 1px dashed gray;margin: 0 0.4em 0.5em 0.4em;box-sizing: border-box;padding-bottom: 0.4em;background-color: white;}#sk-container-id-5 div.sk-label label {font-family: monospace;font-weight: bold;display: inline-block;line-height: 1.2em;}#sk-container-id-5 div.sk-label-container {text-align: center;}#sk-container-id-5 div.sk-container {/* jupyter's `normalize.less` sets `[hidden] { display: none; }` but bootstrap.min.css set `[hidden] { display: none !important; }` so we also need the `!important` here to be able to override the default hidden behavior on the sphinx rendered scikit-learn.org. See: https://github.com/scikit-learn/scikit-learn/issues/21755 */display: inline-block !important;position: relative;}#sk-container-id-5 div.sk-text-repr-fallback {display: none;}</style><div id=\"sk-container-id-5\" class=\"sk-top-container\"><div class=\"sk-text-repr-fallback\"><pre>RandomForestClassifier(max_depth=3, n_estimators=24, random_state=0)</pre><b>In a Jupyter environment, please rerun this cell to show the HTML representation or trust the notebook. <br />On GitHub, the HTML representation is unable to render, please try loading this page with nbviewer.org.</b></div><div class=\"sk-container\" hidden><div class=\"sk-item\"><div class=\"sk-estimator sk-toggleable\"><input class=\"sk-toggleable__control sk-hidden--visually\" id=\"sk-estimator-id-7\" type=\"checkbox\" checked><label for=\"sk-estimator-id-7\" class=\"sk-toggleable__label sk-toggleable__label-arrow\">RandomForestClassifier</label><div class=\"sk-toggleable__content\"><pre>RandomForestClassifier(max_depth=3, n_estimators=24, random_state=0)</pre></div></div></div></div></div>"
      ],
      "text/plain": [
       "RandomForestClassifier(max_depth=3, n_estimators=24, random_state=0)"
      ]
     },
     "execution_count": 114,
     "metadata": {},
     "output_type": "execute_result"
    }
   ],
   "source": [
    "from sklearn.ensemble import RandomForestClassifier\n",
    "from sklearn.experimental import enable_halving_search_cv\n",
    "from sklearn.model_selection import  HalvingGridSearchCV\n",
    "# Grid Search\n",
    "param_grid = {'max_depth': [3, 5, 10],\n",
    "               'min_samples_split': [2, 5, 10]\n",
    "}\n",
    "\n",
    "\n",
    "base_estimator = RandomForestClassifier(random_state=0)\n",
    "# HalvingGridSearchCV to use minimum resources :\n",
    "sh = HalvingGridSearchCV(base_estimator, param_grid, cv=5,\n",
    "                         factor=2, resource='n_estimators',\n",
    "                         max_resources=30).fit(data_train, target_train)\n",
    "sh.best_estimator_"
   ]
  },
  {
   "cell_type": "code",
   "execution_count": 115,
   "metadata": {
    "colab": {
     "base_uri": "https://localhost:8080/",
     "height": 869
    },
    "id": "Bi2uCRwXsfNX",
    "outputId": "3250fa1e-52ae-46f9-8b8a-1c3c7b957026"
   },
   "outputs": [
    {
     "name": "stdout",
     "output_type": "stream",
     "text": [
      "The model RandomForestClassifier was trained in 0.053 seconds\n",
      "Brier Loss Score :     0.112 +/- 0.007\n",
      "ROC_AUC Score : 0.692 +/- 0.107\n"
     ]
    },
    {
     "data": {
      "text/html": [
       "<html>\n",
       "<head><meta charset=\"utf-8\" /></head>\n",
       "<body>\n",
       "    <div>            <script src=\"https://cdnjs.cloudflare.com/ajax/libs/mathjax/2.7.5/MathJax.js?config=TeX-AMS-MML_SVG\"></script><script type=\"text/javascript\">if (window.MathJax && window.MathJax.Hub && window.MathJax.Hub.Config) {window.MathJax.Hub.Config({SVG: {font: \"STIX-Web\"}});}</script>                <script type=\"text/javascript\">window.PlotlyConfig = {MathJaxConfig: 'local'};</script>\n",
       "        <script src=\"https://cdn.plot.ly/plotly-2.18.2.min.js\"></script>                <div id=\"fdeeab31-1a26-406e-a02e-86dc6cb57800\" class=\"plotly-graph-div\" style=\"height:800px; width:100%;\"></div>            <script type=\"text/javascript\">                                    window.PLOTLYENV=window.PLOTLYENV || {};                                    if (document.getElementById(\"fdeeab31-1a26-406e-a02e-86dc6cb57800\")) {                    Plotly.newPlot(                        \"fdeeab31-1a26-406e-a02e-86dc6cb57800\",                        [{\"colorscale\":[[0.0,\"#018571\"],[0.3333333333333333,\"#80cdc1\"],[0.6666666666666666,\"#dfc27d\"],[1.0,\"#a6611a\"]],\"showscale\":false,\"text\":[[\"0\",\"5\"],[\"0\",\"59\"]],\"x\":[\"0\",\"1\"],\"y\":[\"0\",\"1\"],\"z\":[[0,5],[0,59]],\"type\":\"heatmap\",\"xaxis\":\"x\",\"yaxis\":\"y\"},{\"cells\":{\"fill\":{\"color\":[\"#80cdc1\",\"#dfc27d\"]},\"line\":{\"color\":\"#a6611a\"},\"values\":[[\"accuray\",\"precision\",\"recall\",\"f1 score\",\"<b>area under the roc</b>\",\"<b>brier score loss</b>\"],[0.922,0.922,1.0,0.959,0.776,0.078]]},\"header\":{\"fill\":{\"color\":\"#018571\"},\"line\":{\"color\":\"#a6611a\"},\"values\":[\"Metric\",\"Score\"]},\"type\":\"table\",\"domain\":{\"x\":[0.5349999999999999,0.9999999999999999],\"y\":[0.6000000000000001,1.0]}},{\"fill\":\"tozeroy\",\"line\":{\"color\":\"#018571\"},\"mode\":\"lines\",\"name\":\"ROC curve\",\"showlegend\":false,\"text\":[0.621,0.717,0.722,0.727,0.732,0.735,0.757,0.766,0.768,0.77,0.772,0.781,0.814,0.818,0.82,0.829,0.848,0.855,0.865,0.867,0.867,0.875,0.876,0.876,0.879,0.88,0.881,0.881,0.884,0.886,0.887,0.888,0.888,0.897,0.897,0.899,0.904,0.906,0.91,0.914,0.918,0.92,0.921,0.922,0.923,0.923,0.924,0.925,0.931,0.932,0.933,0.936,0.945,0.948,0.955,0.957,0.958,0.959,0.961,0.962,0.962,0.964,0.971,0.975],\"x\":[0.0,0.0,0.0,0.2,0.2,0.4,0.4,0.6,0.6,0.8,0.8,1.0,1.0],\"y\":[0.0,0.017,0.271,0.271,0.729,0.729,0.932,0.932,0.966,0.966,0.983,0.983,1.0],\"type\":\"scatter\",\"xaxis\":\"x2\",\"yaxis\":\"y2\"},{\"line\":{\"color\":\"#a6611a\",\"dash\":\"dot\"},\"mode\":\"lines\",\"name\":\"Base line\",\"showlegend\":false,\"x\":[0.0,0.01694915254237288,0.2711864406779661,0.2711864406779661,0.7288135593220338,0.7288135593220338,0.9322033898305084,0.9322033898305084,0.9661016949152542,0.9661016949152542,0.9830508474576272,0.9830508474576272,1.0],\"y\":[0.0,0.01694915254237288,0.2711864406779661,0.2711864406779661,0.7288135593220338,0.7288135593220338,0.9322033898305084,0.9322033898305084,0.9661016949152542,0.9661016949152542,0.9830508474576272,0.9830508474576272,1.0],\"type\":\"scatter\",\"xaxis\":\"x2\",\"yaxis\":\"y2\"},{\"line\":{\"color\":\"#018571\"},\"mode\":\"lines\",\"name\":\"precision recall curve\",\"showlegend\":false,\"text\":[0.621,0.717,0.722,0.727,0.732,0.735,0.757,0.766,0.768,0.77,0.772,0.781,0.814,0.818,0.82,0.829,0.848,0.855,0.865,0.867,0.867,0.875,0.876,0.876,0.879,0.88,0.881,0.881,0.884,0.886,0.887,0.888,0.888,0.897,0.897,0.899,0.904,0.906,0.91,0.914,0.918,0.92,0.921,0.922,0.923,0.923,0.924,0.925,0.931,0.932,0.933,0.936,0.945,0.948,0.955,0.957,0.958,0.959,0.961,0.962,0.962,0.964,0.971,0.975],\"x\":[1.0,0.983,0.983,0.966,0.966,0.949,0.932,0.932,0.915,0.898,0.881,0.864,0.847,0.831,0.814,0.797,0.78,0.763,0.746,0.729,0.729,0.712,0.695,0.678,0.661,0.644,0.627,0.61,0.593,0.576,0.559,0.542,0.525,0.508,0.492,0.475,0.458,0.441,0.424,0.407,0.39,0.373,0.356,0.339,0.322,0.305,0.288,0.271,0.271,0.254,0.237,0.22,0.203,0.186,0.169,0.153,0.136,0.119,0.102,0.085,0.068,0.051,0.034,0.017,0.0],\"y\":[0.922,0.921,0.935,0.934,0.95,0.949,0.948,0.965,0.964,0.964,0.963,0.962,0.962,0.961,0.96,0.959,0.958,0.957,0.957,0.956,0.977,0.977,0.976,0.976,0.975,0.974,0.974,0.973,0.972,0.971,0.971,0.97,0.969,0.968,0.967,0.966,0.964,0.963,0.962,0.96,0.958,0.957,0.955,0.952,0.95,0.947,0.944,0.941,1.0,1.0,1.0,1.0,1.0,1.0,1.0,1.0,1.0,1.0,1.0,1.0,1.0,1.0,1.0,1.0,1.0],\"type\":\"scatter\",\"xaxis\":\"x3\",\"yaxis\":\"y3\"}],                        {\"template\":{\"data\":{\"histogram2dcontour\":[{\"type\":\"histogram2dcontour\",\"colorbar\":{\"outlinewidth\":0,\"ticks\":\"\"},\"colorscale\":[[0.0,\"#0d0887\"],[0.1111111111111111,\"#46039f\"],[0.2222222222222222,\"#7201a8\"],[0.3333333333333333,\"#9c179e\"],[0.4444444444444444,\"#bd3786\"],[0.5555555555555556,\"#d8576b\"],[0.6666666666666666,\"#ed7953\"],[0.7777777777777778,\"#fb9f3a\"],[0.8888888888888888,\"#fdca26\"],[1.0,\"#f0f921\"]]}],\"choropleth\":[{\"type\":\"choropleth\",\"colorbar\":{\"outlinewidth\":0,\"ticks\":\"\"}}],\"histogram2d\":[{\"type\":\"histogram2d\",\"colorbar\":{\"outlinewidth\":0,\"ticks\":\"\"},\"colorscale\":[[0.0,\"#0d0887\"],[0.1111111111111111,\"#46039f\"],[0.2222222222222222,\"#7201a8\"],[0.3333333333333333,\"#9c179e\"],[0.4444444444444444,\"#bd3786\"],[0.5555555555555556,\"#d8576b\"],[0.6666666666666666,\"#ed7953\"],[0.7777777777777778,\"#fb9f3a\"],[0.8888888888888888,\"#fdca26\"],[1.0,\"#f0f921\"]]}],\"heatmap\":[{\"type\":\"heatmap\",\"colorbar\":{\"outlinewidth\":0,\"ticks\":\"\"},\"colorscale\":[[0.0,\"#0d0887\"],[0.1111111111111111,\"#46039f\"],[0.2222222222222222,\"#7201a8\"],[0.3333333333333333,\"#9c179e\"],[0.4444444444444444,\"#bd3786\"],[0.5555555555555556,\"#d8576b\"],[0.6666666666666666,\"#ed7953\"],[0.7777777777777778,\"#fb9f3a\"],[0.8888888888888888,\"#fdca26\"],[1.0,\"#f0f921\"]]}],\"heatmapgl\":[{\"type\":\"heatmapgl\",\"colorbar\":{\"outlinewidth\":0,\"ticks\":\"\"},\"colorscale\":[[0.0,\"#0d0887\"],[0.1111111111111111,\"#46039f\"],[0.2222222222222222,\"#7201a8\"],[0.3333333333333333,\"#9c179e\"],[0.4444444444444444,\"#bd3786\"],[0.5555555555555556,\"#d8576b\"],[0.6666666666666666,\"#ed7953\"],[0.7777777777777778,\"#fb9f3a\"],[0.8888888888888888,\"#fdca26\"],[1.0,\"#f0f921\"]]}],\"contourcarpet\":[{\"type\":\"contourcarpet\",\"colorbar\":{\"outlinewidth\":0,\"ticks\":\"\"}}],\"contour\":[{\"type\":\"contour\",\"colorbar\":{\"outlinewidth\":0,\"ticks\":\"\"},\"colorscale\":[[0.0,\"#0d0887\"],[0.1111111111111111,\"#46039f\"],[0.2222222222222222,\"#7201a8\"],[0.3333333333333333,\"#9c179e\"],[0.4444444444444444,\"#bd3786\"],[0.5555555555555556,\"#d8576b\"],[0.6666666666666666,\"#ed7953\"],[0.7777777777777778,\"#fb9f3a\"],[0.8888888888888888,\"#fdca26\"],[1.0,\"#f0f921\"]]}],\"surface\":[{\"type\":\"surface\",\"colorbar\":{\"outlinewidth\":0,\"ticks\":\"\"},\"colorscale\":[[0.0,\"#0d0887\"],[0.1111111111111111,\"#46039f\"],[0.2222222222222222,\"#7201a8\"],[0.3333333333333333,\"#9c179e\"],[0.4444444444444444,\"#bd3786\"],[0.5555555555555556,\"#d8576b\"],[0.6666666666666666,\"#ed7953\"],[0.7777777777777778,\"#fb9f3a\"],[0.8888888888888888,\"#fdca26\"],[1.0,\"#f0f921\"]]}],\"mesh3d\":[{\"type\":\"mesh3d\",\"colorbar\":{\"outlinewidth\":0,\"ticks\":\"\"}}],\"scatter\":[{\"fillpattern\":{\"fillmode\":\"overlay\",\"size\":10,\"solidity\":0.2},\"type\":\"scatter\"}],\"parcoords\":[{\"type\":\"parcoords\",\"line\":{\"colorbar\":{\"outlinewidth\":0,\"ticks\":\"\"}}}],\"scatterpolargl\":[{\"type\":\"scatterpolargl\",\"marker\":{\"colorbar\":{\"outlinewidth\":0,\"ticks\":\"\"}}}],\"bar\":[{\"error_x\":{\"color\":\"#2a3f5f\"},\"error_y\":{\"color\":\"#2a3f5f\"},\"marker\":{\"line\":{\"color\":\"#E5ECF6\",\"width\":0.5},\"pattern\":{\"fillmode\":\"overlay\",\"size\":10,\"solidity\":0.2}},\"type\":\"bar\"}],\"scattergeo\":[{\"type\":\"scattergeo\",\"marker\":{\"colorbar\":{\"outlinewidth\":0,\"ticks\":\"\"}}}],\"scatterpolar\":[{\"type\":\"scatterpolar\",\"marker\":{\"colorbar\":{\"outlinewidth\":0,\"ticks\":\"\"}}}],\"histogram\":[{\"marker\":{\"pattern\":{\"fillmode\":\"overlay\",\"size\":10,\"solidity\":0.2}},\"type\":\"histogram\"}],\"scattergl\":[{\"type\":\"scattergl\",\"marker\":{\"colorbar\":{\"outlinewidth\":0,\"ticks\":\"\"}}}],\"scatter3d\":[{\"type\":\"scatter3d\",\"line\":{\"colorbar\":{\"outlinewidth\":0,\"ticks\":\"\"}},\"marker\":{\"colorbar\":{\"outlinewidth\":0,\"ticks\":\"\"}}}],\"scattermapbox\":[{\"type\":\"scattermapbox\",\"marker\":{\"colorbar\":{\"outlinewidth\":0,\"ticks\":\"\"}}}],\"scatterternary\":[{\"type\":\"scatterternary\",\"marker\":{\"colorbar\":{\"outlinewidth\":0,\"ticks\":\"\"}}}],\"scattercarpet\":[{\"type\":\"scattercarpet\",\"marker\":{\"colorbar\":{\"outlinewidth\":0,\"ticks\":\"\"}}}],\"carpet\":[{\"aaxis\":{\"endlinecolor\":\"#2a3f5f\",\"gridcolor\":\"white\",\"linecolor\":\"white\",\"minorgridcolor\":\"white\",\"startlinecolor\":\"#2a3f5f\"},\"baxis\":{\"endlinecolor\":\"#2a3f5f\",\"gridcolor\":\"white\",\"linecolor\":\"white\",\"minorgridcolor\":\"white\",\"startlinecolor\":\"#2a3f5f\"},\"type\":\"carpet\"}],\"table\":[{\"cells\":{\"fill\":{\"color\":\"#EBF0F8\"},\"line\":{\"color\":\"white\"}},\"header\":{\"fill\":{\"color\":\"#C8D4E3\"},\"line\":{\"color\":\"white\"}},\"type\":\"table\"}],\"barpolar\":[{\"marker\":{\"line\":{\"color\":\"#E5ECF6\",\"width\":0.5},\"pattern\":{\"fillmode\":\"overlay\",\"size\":10,\"solidity\":0.2}},\"type\":\"barpolar\"}],\"pie\":[{\"automargin\":true,\"type\":\"pie\"}]},\"layout\":{\"autotypenumbers\":\"strict\",\"colorway\":[\"#636efa\",\"#EF553B\",\"#00cc96\",\"#ab63fa\",\"#FFA15A\",\"#19d3f3\",\"#FF6692\",\"#B6E880\",\"#FF97FF\",\"#FECB52\"],\"font\":{\"color\":\"#2a3f5f\"},\"hovermode\":\"closest\",\"hoverlabel\":{\"align\":\"left\"},\"paper_bgcolor\":\"white\",\"plot_bgcolor\":\"#E5ECF6\",\"polar\":{\"bgcolor\":\"#E5ECF6\",\"angularaxis\":{\"gridcolor\":\"white\",\"linecolor\":\"white\",\"ticks\":\"\"},\"radialaxis\":{\"gridcolor\":\"white\",\"linecolor\":\"white\",\"ticks\":\"\"}},\"ternary\":{\"bgcolor\":\"#E5ECF6\",\"aaxis\":{\"gridcolor\":\"white\",\"linecolor\":\"white\",\"ticks\":\"\"},\"baxis\":{\"gridcolor\":\"white\",\"linecolor\":\"white\",\"ticks\":\"\"},\"caxis\":{\"gridcolor\":\"white\",\"linecolor\":\"white\",\"ticks\":\"\"}},\"coloraxis\":{\"colorbar\":{\"outlinewidth\":0,\"ticks\":\"\"}},\"colorscale\":{\"sequential\":[[0.0,\"#0d0887\"],[0.1111111111111111,\"#46039f\"],[0.2222222222222222,\"#7201a8\"],[0.3333333333333333,\"#9c179e\"],[0.4444444444444444,\"#bd3786\"],[0.5555555555555556,\"#d8576b\"],[0.6666666666666666,\"#ed7953\"],[0.7777777777777778,\"#fb9f3a\"],[0.8888888888888888,\"#fdca26\"],[1.0,\"#f0f921\"]],\"sequentialminus\":[[0.0,\"#0d0887\"],[0.1111111111111111,\"#46039f\"],[0.2222222222222222,\"#7201a8\"],[0.3333333333333333,\"#9c179e\"],[0.4444444444444444,\"#bd3786\"],[0.5555555555555556,\"#d8576b\"],[0.6666666666666666,\"#ed7953\"],[0.7777777777777778,\"#fb9f3a\"],[0.8888888888888888,\"#fdca26\"],[1.0,\"#f0f921\"]],\"diverging\":[[0,\"#8e0152\"],[0.1,\"#c51b7d\"],[0.2,\"#de77ae\"],[0.3,\"#f1b6da\"],[0.4,\"#fde0ef\"],[0.5,\"#f7f7f7\"],[0.6,\"#e6f5d0\"],[0.7,\"#b8e186\"],[0.8,\"#7fbc41\"],[0.9,\"#4d9221\"],[1,\"#276419\"]]},\"xaxis\":{\"gridcolor\":\"white\",\"linecolor\":\"white\",\"ticks\":\"\",\"title\":{\"standoff\":15},\"zerolinecolor\":\"white\",\"automargin\":true,\"zerolinewidth\":2},\"yaxis\":{\"gridcolor\":\"white\",\"linecolor\":\"white\",\"ticks\":\"\",\"title\":{\"standoff\":15},\"zerolinecolor\":\"white\",\"automargin\":true,\"zerolinewidth\":2},\"scene\":{\"xaxis\":{\"backgroundcolor\":\"#E5ECF6\",\"gridcolor\":\"white\",\"linecolor\":\"white\",\"showbackground\":true,\"ticks\":\"\",\"zerolinecolor\":\"white\",\"gridwidth\":2},\"yaxis\":{\"backgroundcolor\":\"#E5ECF6\",\"gridcolor\":\"white\",\"linecolor\":\"white\",\"showbackground\":true,\"ticks\":\"\",\"zerolinecolor\":\"white\",\"gridwidth\":2},\"zaxis\":{\"backgroundcolor\":\"#E5ECF6\",\"gridcolor\":\"white\",\"linecolor\":\"white\",\"showbackground\":true,\"ticks\":\"\",\"zerolinecolor\":\"white\",\"gridwidth\":2}},\"shapedefaults\":{\"line\":{\"color\":\"#2a3f5f\"}},\"annotationdefaults\":{\"arrowcolor\":\"#2a3f5f\",\"arrowhead\":0,\"arrowwidth\":1},\"geo\":{\"bgcolor\":\"white\",\"landcolor\":\"#E5ECF6\",\"subunitcolor\":\"white\",\"showland\":true,\"showlakes\":true,\"lakecolor\":\"white\"},\"title\":{\"x\":0.05},\"mapbox\":{\"style\":\"light\"}}},\"xaxis\":{\"anchor\":\"y\",\"domain\":[0.0,0.46499999999999997],\"title\":{\"text\":\"Predicted\"}},\"yaxis\":{\"anchor\":\"x\",\"domain\":[0.6000000000000001,1.0],\"title\":{\"text\":\"Real\"}},\"xaxis2\":{\"anchor\":\"y2\",\"domain\":[0.0,0.46499999999999997],\"title\":{\"text\":\"false positive rate\"}},\"yaxis2\":{\"anchor\":\"x2\",\"domain\":[0.0,0.4],\"title\":{\"text\":\"true positive rate\"}},\"xaxis3\":{\"anchor\":\"y3\",\"domain\":[0.5349999999999999,0.9999999999999999],\"title\":{\"text\":\"recall\"}},\"yaxis3\":{\"anchor\":\"x3\",\"domain\":[0.0,0.4],\"title\":{\"text\":\"precision\"}},\"annotations\":[{\"font\":{\"size\":16},\"showarrow\":false,\"text\":\"Confusion matix\",\"x\":0.23249999999999998,\"xanchor\":\"center\",\"xref\":\"paper\",\"y\":1.0,\"yanchor\":\"bottom\",\"yref\":\"paper\"},{\"font\":{\"size\":16},\"showarrow\":false,\"text\":\"Classification metrics\",\"x\":0.7674999999999998,\"xanchor\":\"center\",\"xref\":\"paper\",\"y\":1.0,\"yanchor\":\"bottom\",\"yref\":\"paper\"},{\"font\":{\"size\":16},\"showarrow\":false,\"text\":\"ROC curve (AUC=0.776)\",\"x\":0.23249999999999998,\"xanchor\":\"center\",\"xref\":\"paper\",\"y\":0.4,\"yanchor\":\"bottom\",\"yref\":\"paper\"},{\"font\":{\"size\":16},\"showarrow\":false,\"text\":\"Precision - Recall curve\",\"x\":0.7674999999999998,\"xanchor\":\"center\",\"xref\":\"paper\",\"y\":0.4,\"yanchor\":\"bottom\",\"yref\":\"paper\"},{\"showarrow\":false,\"text\":\"0\",\"x\":0,\"xref\":\"x\",\"y\":0,\"yref\":\"y\",\"yshift\":10},{\"showarrow\":false,\"text\":\"5\",\"x\":0,\"xref\":\"x\",\"y\":1,\"yref\":\"y\",\"yshift\":10},{\"showarrow\":false,\"text\":\"0\",\"x\":1,\"xref\":\"x\",\"y\":0,\"yref\":\"y\",\"yshift\":10},{\"showarrow\":false,\"text\":\"59\",\"x\":1,\"xref\":\"x\",\"y\":1,\"yref\":\"y\",\"yshift\":10}],\"title\":{\"text\":\"Global report for: RandomForest\"},\"height\":800},                        {\"responsive\": true}                    ).then(function(){\n",
       "                            \n",
       "var gd = document.getElementById('fdeeab31-1a26-406e-a02e-86dc6cb57800');\n",
       "var x = new MutationObserver(function (mutations, observer) {{\n",
       "        var display = window.getComputedStyle(gd).display;\n",
       "        if (!display || display === 'none') {{\n",
       "            console.log([gd, 'removed!']);\n",
       "            Plotly.purge(gd);\n",
       "            observer.disconnect();\n",
       "        }}\n",
       "}});\n",
       "\n",
       "// Listen for the removal of the full notebook cells\n",
       "var notebookContainer = gd.closest('#notebook-container');\n",
       "if (notebookContainer) {{\n",
       "    x.observe(notebookContainer, {childList: true});\n",
       "}}\n",
       "\n",
       "// Listen for the clearing of the current output cell\n",
       "var outputEl = gd.closest('.output');\n",
       "if (outputEl) {{\n",
       "    x.observe(outputEl, {childList: true});\n",
       "}}\n",
       "\n",
       "                        })                };                            </script>        </div>\n",
       "</body>\n",
       "</html>"
      ]
     },
     "metadata": {},
     "output_type": "display_data"
    }
   ],
   "source": [
    "import time\n",
    "\n",
    "start = time.time()\n",
    "rf_model = sh.best_estimator_\n",
    "rf_model.fit(data_train, target_train)\n",
    "elapsed_time_2 = time.time() - start\n",
    "\n",
    "print(\n",
    "    f\"The model {rf_model.__class__.__name__} was trained in \"\n",
    "    f\"{elapsed_time_2:.3f} seconds\"\n",
    ")\n",
    "\n",
    "evaluate(rf_model, data_train, target_train, cv=5)\n",
    "scores_rf = generate_classification_report(rf_model, data_test, target_test, \"RandomForest\")"
   ]
  },
  {
   "cell_type": "markdown",
   "metadata": {
    "id": "pfyRzO2Yghsb"
   },
   "source": [
    "#  DecisionTreeClassifier"
   ]
  },
  {
   "cell_type": "code",
   "execution_count": 116,
   "metadata": {
    "colab": {
     "base_uri": "https://localhost:8080/",
     "height": 869
    },
    "id": "02gcl2mUgtIT",
    "outputId": "502ef4e6-84b3-4110-f526-b59035cd2cb1"
   },
   "outputs": [
    {
     "name": "stdout",
     "output_type": "stream",
     "text": [
      "The model DecisionTreeClassifier was trained in 0.004 seconds\n",
      "Brier Loss Score :     0.199 +/- 0.038\n",
      "ROC_AUC Score : 0.562 +/- 0.102\n"
     ]
    },
    {
     "data": {
      "text/html": [
       "<html>\n",
       "<head><meta charset=\"utf-8\" /></head>\n",
       "<body>\n",
       "    <div>            <script src=\"https://cdnjs.cloudflare.com/ajax/libs/mathjax/2.7.5/MathJax.js?config=TeX-AMS-MML_SVG\"></script><script type=\"text/javascript\">if (window.MathJax && window.MathJax.Hub && window.MathJax.Hub.Config) {window.MathJax.Hub.Config({SVG: {font: \"STIX-Web\"}});}</script>                <script type=\"text/javascript\">window.PlotlyConfig = {MathJaxConfig: 'local'};</script>\n",
       "        <script src=\"https://cdn.plot.ly/plotly-2.18.2.min.js\"></script>                <div id=\"bc8fc416-f983-4cd8-9d7c-e1da1e5f42f4\" class=\"plotly-graph-div\" style=\"height:800px; width:100%;\"></div>            <script type=\"text/javascript\">                                    window.PLOTLYENV=window.PLOTLYENV || {};                                    if (document.getElementById(\"bc8fc416-f983-4cd8-9d7c-e1da1e5f42f4\")) {                    Plotly.newPlot(                        \"bc8fc416-f983-4cd8-9d7c-e1da1e5f42f4\",                        [{\"colorscale\":[[0.0,\"#018571\"],[0.3333333333333333,\"#80cdc1\"],[0.6666666666666666,\"#dfc27d\"],[1.0,\"#a6611a\"]],\"showscale\":false,\"text\":[[\"2\",\"3\"],[\"3\",\"56\"]],\"x\":[\"0\",\"1\"],\"y\":[\"0\",\"1\"],\"z\":[[2,3],[3,56]],\"type\":\"heatmap\",\"xaxis\":\"x\",\"yaxis\":\"y\"},{\"cells\":{\"fill\":{\"color\":[\"#80cdc1\",\"#dfc27d\"]},\"line\":{\"color\":\"#a6611a\"},\"values\":[[\"accuray\",\"precision\",\"recall\",\"f1 score\",\"<b>area under the roc</b>\",\"<b>brier score loss</b>\"],[0.906,0.949,0.949,0.949,0.675,0.094]]},\"header\":{\"fill\":{\"color\":\"#018571\"},\"line\":{\"color\":\"#a6611a\"},\"values\":[\"Metric\",\"Score\"]},\"type\":\"table\",\"domain\":{\"x\":[0.5349999999999999,0.9999999999999999],\"y\":[0.6000000000000001,1.0]}},{\"fill\":\"tozeroy\",\"line\":{\"color\":\"#018571\"},\"mode\":\"lines\",\"name\":\"ROC curve\",\"showlegend\":false,\"text\":[0.0,1.0],\"x\":[0.0,0.6,1.0],\"y\":[0.0,0.949,1.0],\"type\":\"scatter\",\"xaxis\":\"x2\",\"yaxis\":\"y2\"},{\"line\":{\"color\":\"#a6611a\",\"dash\":\"dot\"},\"mode\":\"lines\",\"name\":\"Base line\",\"showlegend\":false,\"x\":[0.0,0.9491525423728814,1.0],\"y\":[0.0,0.9491525423728814,1.0],\"type\":\"scatter\",\"xaxis\":\"x2\",\"yaxis\":\"y2\"},{\"line\":{\"color\":\"#018571\"},\"mode\":\"lines\",\"name\":\"precision recall curve\",\"showlegend\":false,\"text\":[0.0,1.0],\"x\":[1.0,0.949,0.0],\"y\":[0.922,0.949,1.0],\"type\":\"scatter\",\"xaxis\":\"x3\",\"yaxis\":\"y3\"}],                        {\"template\":{\"data\":{\"histogram2dcontour\":[{\"type\":\"histogram2dcontour\",\"colorbar\":{\"outlinewidth\":0,\"ticks\":\"\"},\"colorscale\":[[0.0,\"#0d0887\"],[0.1111111111111111,\"#46039f\"],[0.2222222222222222,\"#7201a8\"],[0.3333333333333333,\"#9c179e\"],[0.4444444444444444,\"#bd3786\"],[0.5555555555555556,\"#d8576b\"],[0.6666666666666666,\"#ed7953\"],[0.7777777777777778,\"#fb9f3a\"],[0.8888888888888888,\"#fdca26\"],[1.0,\"#f0f921\"]]}],\"choropleth\":[{\"type\":\"choropleth\",\"colorbar\":{\"outlinewidth\":0,\"ticks\":\"\"}}],\"histogram2d\":[{\"type\":\"histogram2d\",\"colorbar\":{\"outlinewidth\":0,\"ticks\":\"\"},\"colorscale\":[[0.0,\"#0d0887\"],[0.1111111111111111,\"#46039f\"],[0.2222222222222222,\"#7201a8\"],[0.3333333333333333,\"#9c179e\"],[0.4444444444444444,\"#bd3786\"],[0.5555555555555556,\"#d8576b\"],[0.6666666666666666,\"#ed7953\"],[0.7777777777777778,\"#fb9f3a\"],[0.8888888888888888,\"#fdca26\"],[1.0,\"#f0f921\"]]}],\"heatmap\":[{\"type\":\"heatmap\",\"colorbar\":{\"outlinewidth\":0,\"ticks\":\"\"},\"colorscale\":[[0.0,\"#0d0887\"],[0.1111111111111111,\"#46039f\"],[0.2222222222222222,\"#7201a8\"],[0.3333333333333333,\"#9c179e\"],[0.4444444444444444,\"#bd3786\"],[0.5555555555555556,\"#d8576b\"],[0.6666666666666666,\"#ed7953\"],[0.7777777777777778,\"#fb9f3a\"],[0.8888888888888888,\"#fdca26\"],[1.0,\"#f0f921\"]]}],\"heatmapgl\":[{\"type\":\"heatmapgl\",\"colorbar\":{\"outlinewidth\":0,\"ticks\":\"\"},\"colorscale\":[[0.0,\"#0d0887\"],[0.1111111111111111,\"#46039f\"],[0.2222222222222222,\"#7201a8\"],[0.3333333333333333,\"#9c179e\"],[0.4444444444444444,\"#bd3786\"],[0.5555555555555556,\"#d8576b\"],[0.6666666666666666,\"#ed7953\"],[0.7777777777777778,\"#fb9f3a\"],[0.8888888888888888,\"#fdca26\"],[1.0,\"#f0f921\"]]}],\"contourcarpet\":[{\"type\":\"contourcarpet\",\"colorbar\":{\"outlinewidth\":0,\"ticks\":\"\"}}],\"contour\":[{\"type\":\"contour\",\"colorbar\":{\"outlinewidth\":0,\"ticks\":\"\"},\"colorscale\":[[0.0,\"#0d0887\"],[0.1111111111111111,\"#46039f\"],[0.2222222222222222,\"#7201a8\"],[0.3333333333333333,\"#9c179e\"],[0.4444444444444444,\"#bd3786\"],[0.5555555555555556,\"#d8576b\"],[0.6666666666666666,\"#ed7953\"],[0.7777777777777778,\"#fb9f3a\"],[0.8888888888888888,\"#fdca26\"],[1.0,\"#f0f921\"]]}],\"surface\":[{\"type\":\"surface\",\"colorbar\":{\"outlinewidth\":0,\"ticks\":\"\"},\"colorscale\":[[0.0,\"#0d0887\"],[0.1111111111111111,\"#46039f\"],[0.2222222222222222,\"#7201a8\"],[0.3333333333333333,\"#9c179e\"],[0.4444444444444444,\"#bd3786\"],[0.5555555555555556,\"#d8576b\"],[0.6666666666666666,\"#ed7953\"],[0.7777777777777778,\"#fb9f3a\"],[0.8888888888888888,\"#fdca26\"],[1.0,\"#f0f921\"]]}],\"mesh3d\":[{\"type\":\"mesh3d\",\"colorbar\":{\"outlinewidth\":0,\"ticks\":\"\"}}],\"scatter\":[{\"fillpattern\":{\"fillmode\":\"overlay\",\"size\":10,\"solidity\":0.2},\"type\":\"scatter\"}],\"parcoords\":[{\"type\":\"parcoords\",\"line\":{\"colorbar\":{\"outlinewidth\":0,\"ticks\":\"\"}}}],\"scatterpolargl\":[{\"type\":\"scatterpolargl\",\"marker\":{\"colorbar\":{\"outlinewidth\":0,\"ticks\":\"\"}}}],\"bar\":[{\"error_x\":{\"color\":\"#2a3f5f\"},\"error_y\":{\"color\":\"#2a3f5f\"},\"marker\":{\"line\":{\"color\":\"#E5ECF6\",\"width\":0.5},\"pattern\":{\"fillmode\":\"overlay\",\"size\":10,\"solidity\":0.2}},\"type\":\"bar\"}],\"scattergeo\":[{\"type\":\"scattergeo\",\"marker\":{\"colorbar\":{\"outlinewidth\":0,\"ticks\":\"\"}}}],\"scatterpolar\":[{\"type\":\"scatterpolar\",\"marker\":{\"colorbar\":{\"outlinewidth\":0,\"ticks\":\"\"}}}],\"histogram\":[{\"marker\":{\"pattern\":{\"fillmode\":\"overlay\",\"size\":10,\"solidity\":0.2}},\"type\":\"histogram\"}],\"scattergl\":[{\"type\":\"scattergl\",\"marker\":{\"colorbar\":{\"outlinewidth\":0,\"ticks\":\"\"}}}],\"scatter3d\":[{\"type\":\"scatter3d\",\"line\":{\"colorbar\":{\"outlinewidth\":0,\"ticks\":\"\"}},\"marker\":{\"colorbar\":{\"outlinewidth\":0,\"ticks\":\"\"}}}],\"scattermapbox\":[{\"type\":\"scattermapbox\",\"marker\":{\"colorbar\":{\"outlinewidth\":0,\"ticks\":\"\"}}}],\"scatterternary\":[{\"type\":\"scatterternary\",\"marker\":{\"colorbar\":{\"outlinewidth\":0,\"ticks\":\"\"}}}],\"scattercarpet\":[{\"type\":\"scattercarpet\",\"marker\":{\"colorbar\":{\"outlinewidth\":0,\"ticks\":\"\"}}}],\"carpet\":[{\"aaxis\":{\"endlinecolor\":\"#2a3f5f\",\"gridcolor\":\"white\",\"linecolor\":\"white\",\"minorgridcolor\":\"white\",\"startlinecolor\":\"#2a3f5f\"},\"baxis\":{\"endlinecolor\":\"#2a3f5f\",\"gridcolor\":\"white\",\"linecolor\":\"white\",\"minorgridcolor\":\"white\",\"startlinecolor\":\"#2a3f5f\"},\"type\":\"carpet\"}],\"table\":[{\"cells\":{\"fill\":{\"color\":\"#EBF0F8\"},\"line\":{\"color\":\"white\"}},\"header\":{\"fill\":{\"color\":\"#C8D4E3\"},\"line\":{\"color\":\"white\"}},\"type\":\"table\"}],\"barpolar\":[{\"marker\":{\"line\":{\"color\":\"#E5ECF6\",\"width\":0.5},\"pattern\":{\"fillmode\":\"overlay\",\"size\":10,\"solidity\":0.2}},\"type\":\"barpolar\"}],\"pie\":[{\"automargin\":true,\"type\":\"pie\"}]},\"layout\":{\"autotypenumbers\":\"strict\",\"colorway\":[\"#636efa\",\"#EF553B\",\"#00cc96\",\"#ab63fa\",\"#FFA15A\",\"#19d3f3\",\"#FF6692\",\"#B6E880\",\"#FF97FF\",\"#FECB52\"],\"font\":{\"color\":\"#2a3f5f\"},\"hovermode\":\"closest\",\"hoverlabel\":{\"align\":\"left\"},\"paper_bgcolor\":\"white\",\"plot_bgcolor\":\"#E5ECF6\",\"polar\":{\"bgcolor\":\"#E5ECF6\",\"angularaxis\":{\"gridcolor\":\"white\",\"linecolor\":\"white\",\"ticks\":\"\"},\"radialaxis\":{\"gridcolor\":\"white\",\"linecolor\":\"white\",\"ticks\":\"\"}},\"ternary\":{\"bgcolor\":\"#E5ECF6\",\"aaxis\":{\"gridcolor\":\"white\",\"linecolor\":\"white\",\"ticks\":\"\"},\"baxis\":{\"gridcolor\":\"white\",\"linecolor\":\"white\",\"ticks\":\"\"},\"caxis\":{\"gridcolor\":\"white\",\"linecolor\":\"white\",\"ticks\":\"\"}},\"coloraxis\":{\"colorbar\":{\"outlinewidth\":0,\"ticks\":\"\"}},\"colorscale\":{\"sequential\":[[0.0,\"#0d0887\"],[0.1111111111111111,\"#46039f\"],[0.2222222222222222,\"#7201a8\"],[0.3333333333333333,\"#9c179e\"],[0.4444444444444444,\"#bd3786\"],[0.5555555555555556,\"#d8576b\"],[0.6666666666666666,\"#ed7953\"],[0.7777777777777778,\"#fb9f3a\"],[0.8888888888888888,\"#fdca26\"],[1.0,\"#f0f921\"]],\"sequentialminus\":[[0.0,\"#0d0887\"],[0.1111111111111111,\"#46039f\"],[0.2222222222222222,\"#7201a8\"],[0.3333333333333333,\"#9c179e\"],[0.4444444444444444,\"#bd3786\"],[0.5555555555555556,\"#d8576b\"],[0.6666666666666666,\"#ed7953\"],[0.7777777777777778,\"#fb9f3a\"],[0.8888888888888888,\"#fdca26\"],[1.0,\"#f0f921\"]],\"diverging\":[[0,\"#8e0152\"],[0.1,\"#c51b7d\"],[0.2,\"#de77ae\"],[0.3,\"#f1b6da\"],[0.4,\"#fde0ef\"],[0.5,\"#f7f7f7\"],[0.6,\"#e6f5d0\"],[0.7,\"#b8e186\"],[0.8,\"#7fbc41\"],[0.9,\"#4d9221\"],[1,\"#276419\"]]},\"xaxis\":{\"gridcolor\":\"white\",\"linecolor\":\"white\",\"ticks\":\"\",\"title\":{\"standoff\":15},\"zerolinecolor\":\"white\",\"automargin\":true,\"zerolinewidth\":2},\"yaxis\":{\"gridcolor\":\"white\",\"linecolor\":\"white\",\"ticks\":\"\",\"title\":{\"standoff\":15},\"zerolinecolor\":\"white\",\"automargin\":true,\"zerolinewidth\":2},\"scene\":{\"xaxis\":{\"backgroundcolor\":\"#E5ECF6\",\"gridcolor\":\"white\",\"linecolor\":\"white\",\"showbackground\":true,\"ticks\":\"\",\"zerolinecolor\":\"white\",\"gridwidth\":2},\"yaxis\":{\"backgroundcolor\":\"#E5ECF6\",\"gridcolor\":\"white\",\"linecolor\":\"white\",\"showbackground\":true,\"ticks\":\"\",\"zerolinecolor\":\"white\",\"gridwidth\":2},\"zaxis\":{\"backgroundcolor\":\"#E5ECF6\",\"gridcolor\":\"white\",\"linecolor\":\"white\",\"showbackground\":true,\"ticks\":\"\",\"zerolinecolor\":\"white\",\"gridwidth\":2}},\"shapedefaults\":{\"line\":{\"color\":\"#2a3f5f\"}},\"annotationdefaults\":{\"arrowcolor\":\"#2a3f5f\",\"arrowhead\":0,\"arrowwidth\":1},\"geo\":{\"bgcolor\":\"white\",\"landcolor\":\"#E5ECF6\",\"subunitcolor\":\"white\",\"showland\":true,\"showlakes\":true,\"lakecolor\":\"white\"},\"title\":{\"x\":0.05},\"mapbox\":{\"style\":\"light\"}}},\"xaxis\":{\"anchor\":\"y\",\"domain\":[0.0,0.46499999999999997],\"title\":{\"text\":\"Predicted\"}},\"yaxis\":{\"anchor\":\"x\",\"domain\":[0.6000000000000001,1.0],\"title\":{\"text\":\"Real\"}},\"xaxis2\":{\"anchor\":\"y2\",\"domain\":[0.0,0.46499999999999997],\"title\":{\"text\":\"false positive rate\"}},\"yaxis2\":{\"anchor\":\"x2\",\"domain\":[0.0,0.4],\"title\":{\"text\":\"true positive rate\"}},\"xaxis3\":{\"anchor\":\"y3\",\"domain\":[0.5349999999999999,0.9999999999999999],\"title\":{\"text\":\"recall\"}},\"yaxis3\":{\"anchor\":\"x3\",\"domain\":[0.0,0.4],\"title\":{\"text\":\"precision\"}},\"annotations\":[{\"font\":{\"size\":16},\"showarrow\":false,\"text\":\"Confusion matix\",\"x\":0.23249999999999998,\"xanchor\":\"center\",\"xref\":\"paper\",\"y\":1.0,\"yanchor\":\"bottom\",\"yref\":\"paper\"},{\"font\":{\"size\":16},\"showarrow\":false,\"text\":\"Classification metrics\",\"x\":0.7674999999999998,\"xanchor\":\"center\",\"xref\":\"paper\",\"y\":1.0,\"yanchor\":\"bottom\",\"yref\":\"paper\"},{\"font\":{\"size\":16},\"showarrow\":false,\"text\":\"ROC curve (AUC=0.675)\",\"x\":0.23249999999999998,\"xanchor\":\"center\",\"xref\":\"paper\",\"y\":0.4,\"yanchor\":\"bottom\",\"yref\":\"paper\"},{\"font\":{\"size\":16},\"showarrow\":false,\"text\":\"Precision - Recall curve\",\"x\":0.7674999999999998,\"xanchor\":\"center\",\"xref\":\"paper\",\"y\":0.4,\"yanchor\":\"bottom\",\"yref\":\"paper\"},{\"showarrow\":false,\"text\":\"2\",\"x\":0,\"xref\":\"x\",\"y\":0,\"yref\":\"y\",\"yshift\":10},{\"showarrow\":false,\"text\":\"3\",\"x\":0,\"xref\":\"x\",\"y\":1,\"yref\":\"y\",\"yshift\":10},{\"showarrow\":false,\"text\":\"3\",\"x\":1,\"xref\":\"x\",\"y\":0,\"yref\":\"y\",\"yshift\":10},{\"showarrow\":false,\"text\":\"56\",\"x\":1,\"xref\":\"x\",\"y\":1,\"yref\":\"y\",\"yshift\":10}],\"title\":{\"text\":\"Global report for: RandomForest\"},\"height\":800},                        {\"responsive\": true}                    ).then(function(){\n",
       "                            \n",
       "var gd = document.getElementById('bc8fc416-f983-4cd8-9d7c-e1da1e5f42f4');\n",
       "var x = new MutationObserver(function (mutations, observer) {{\n",
       "        var display = window.getComputedStyle(gd).display;\n",
       "        if (!display || display === 'none') {{\n",
       "            console.log([gd, 'removed!']);\n",
       "            Plotly.purge(gd);\n",
       "            observer.disconnect();\n",
       "        }}\n",
       "}});\n",
       "\n",
       "// Listen for the removal of the full notebook cells\n",
       "var notebookContainer = gd.closest('#notebook-container');\n",
       "if (notebookContainer) {{\n",
       "    x.observe(notebookContainer, {childList: true});\n",
       "}}\n",
       "\n",
       "// Listen for the clearing of the current output cell\n",
       "var outputEl = gd.closest('.output');\n",
       "if (outputEl) {{\n",
       "    x.observe(outputEl, {childList: true});\n",
       "}}\n",
       "\n",
       "                        })                };                            </script>        </div>\n",
       "</body>\n",
       "</html>"
      ]
     },
     "metadata": {},
     "output_type": "display_data"
    }
   ],
   "source": [
    "from sklearn.tree import DecisionTreeClassifier\n",
    "\n",
    "clf = DecisionTreeClassifier()\n",
    "\n",
    "start = time.time()\n",
    "tree_model = DecisionTreeClassifier()\n",
    "tree_model.fit(data_train, target_train)\n",
    "elapsed_time_2 = time.time() - start\n",
    "\n",
    "print(\n",
    "    f\"The model {tree_model.__class__.__name__} was trained in \"\n",
    "    f\"{elapsed_time_2:.3f} seconds\"\n",
    ")\n",
    "\n",
    "evaluate(tree_model, data_train, target_train, cv=5)\n",
    "scores_tree = generate_classification_report(tree_model, data_test, target_test, \"RandomForest\")"
   ]
  },
  {
   "cell_type": "markdown",
   "metadata": {
    "id": "TyZFqb1pjd-h"
   },
   "source": [
    "# Bagging Classifier :"
   ]
  },
  {
   "cell_type": "code",
   "execution_count": 117,
   "metadata": {
    "colab": {
     "base_uri": "https://localhost:8080/",
     "height": 869
    },
    "id": "5Vu9ZfoIjfMn",
    "outputId": "b0b73dd9-aa2c-4b19-8e22-88ea8567fd25"
   },
   "outputs": [
    {
     "name": "stdout",
     "output_type": "stream",
     "text": [
      "The model BaggingClassifier was trained in 0.098 seconds\n",
      "Brier Loss Score :     0.118 +/- 0.013\n",
      "ROC_AUC Score : 0.623 +/- 0.102\n"
     ]
    },
    {
     "data": {
      "text/html": [
       "<html>\n",
       "<head><meta charset=\"utf-8\" /></head>\n",
       "<body>\n",
       "    <div>            <script src=\"https://cdnjs.cloudflare.com/ajax/libs/mathjax/2.7.5/MathJax.js?config=TeX-AMS-MML_SVG\"></script><script type=\"text/javascript\">if (window.MathJax && window.MathJax.Hub && window.MathJax.Hub.Config) {window.MathJax.Hub.Config({SVG: {font: \"STIX-Web\"}});}</script>                <script type=\"text/javascript\">window.PlotlyConfig = {MathJaxConfig: 'local'};</script>\n",
       "        <script src=\"https://cdn.plot.ly/plotly-2.18.2.min.js\"></script>                <div id=\"7d04c79d-5f5d-413e-95ea-9f7178f5dc39\" class=\"plotly-graph-div\" style=\"height:800px; width:100%;\"></div>            <script type=\"text/javascript\">                                    window.PLOTLYENV=window.PLOTLYENV || {};                                    if (document.getElementById(\"7d04c79d-5f5d-413e-95ea-9f7178f5dc39\")) {                    Plotly.newPlot(                        \"7d04c79d-5f5d-413e-95ea-9f7178f5dc39\",                        [{\"colorscale\":[[0.0,\"#018571\"],[0.3333333333333333,\"#80cdc1\"],[0.6666666666666666,\"#dfc27d\"],[1.0,\"#a6611a\"]],\"showscale\":false,\"text\":[[\"0\",\"5\"],[\"0\",\"59\"]],\"x\":[\"0\",\"1\"],\"y\":[\"0\",\"1\"],\"z\":[[0,5],[0,59]],\"type\":\"heatmap\",\"xaxis\":\"x\",\"yaxis\":\"y\"},{\"cells\":{\"fill\":{\"color\":[\"#80cdc1\",\"#dfc27d\"]},\"line\":{\"color\":\"#a6611a\"},\"values\":[[\"accuray\",\"precision\",\"recall\",\"f1 score\",\"<b>area under the roc</b>\",\"<b>brier score loss</b>\"],[0.922,0.922,1.0,0.959,0.407,0.078]]},\"header\":{\"fill\":{\"color\":\"#018571\"},\"line\":{\"color\":\"#a6611a\"},\"values\":[\"Metric\",\"Score\"]},\"type\":\"table\",\"domain\":{\"x\":[0.5349999999999999,0.9999999999999999],\"y\":[0.6000000000000001,1.0]}},{\"fill\":\"tozeroy\",\"line\":{\"color\":\"#018571\"},\"mode\":\"lines\",\"name\":\"ROC curve\",\"showlegend\":false,\"text\":[0.677,0.693,0.696,0.713,0.731,0.731,0.733,0.736,0.744,0.747,0.749,0.751,0.752,0.758,0.758,0.766,0.768,0.776,0.779,0.779,0.782,0.789,0.791,0.797,0.805,0.809,0.811,0.814,0.818,0.82,0.822,0.823,0.823,0.826,0.827,0.83,0.832,0.837,0.84,0.848,0.856,0.865,0.867,0.869,0.877,0.879,0.896,0.898,0.908,0.91,0.912,0.914,0.915,0.917,0.918,0.918,0.92,0.925,0.943,0.944,0.944,0.944,0.95,0.957],\"x\":[0.0,0.0,0.0,0.2,0.2,0.4,0.4,0.6,0.6,0.8,0.8,1.0,1.0],\"y\":[0.0,0.017,0.085,0.085,0.373,0.373,0.39,0.39,0.525,0.525,0.661,0.661,1.0],\"type\":\"scatter\",\"xaxis\":\"x2\",\"yaxis\":\"y2\"},{\"line\":{\"color\":\"#a6611a\",\"dash\":\"dot\"},\"mode\":\"lines\",\"name\":\"Base line\",\"showlegend\":false,\"x\":[0.0,0.01694915254237288,0.0847457627118644,0.0847457627118644,0.3728813559322034,0.3728813559322034,0.3898305084745763,0.3898305084745763,0.5254237288135594,0.5254237288135594,0.6610169491525424,0.6610169491525424,1.0],\"y\":[0.0,0.01694915254237288,0.0847457627118644,0.0847457627118644,0.3728813559322034,0.3728813559322034,0.3898305084745763,0.3898305084745763,0.5254237288135594,0.5254237288135594,0.6610169491525424,0.6610169491525424,1.0],\"type\":\"scatter\",\"xaxis\":\"x2\",\"yaxis\":\"y2\"},{\"line\":{\"color\":\"#018571\"},\"mode\":\"lines\",\"name\":\"precision recall curve\",\"showlegend\":false,\"text\":[0.677,0.693,0.696,0.713,0.731,0.731,0.733,0.736,0.744,0.747,0.749,0.751,0.752,0.758,0.758,0.766,0.768,0.776,0.779,0.779,0.782,0.789,0.791,0.797,0.805,0.809,0.811,0.814,0.818,0.82,0.822,0.823,0.823,0.826,0.827,0.83,0.832,0.837,0.84,0.848,0.856,0.865,0.867,0.869,0.877,0.879,0.896,0.898,0.908,0.91,0.912,0.914,0.915,0.917,0.918,0.918,0.92,0.925,0.943,0.944,0.944,0.944,0.95,0.957],\"x\":[1.0,0.983,0.966,0.949,0.932,0.915,0.898,0.881,0.864,0.847,0.831,0.814,0.797,0.78,0.763,0.746,0.729,0.712,0.695,0.678,0.661,0.661,0.644,0.627,0.61,0.593,0.576,0.559,0.542,0.525,0.525,0.508,0.492,0.475,0.458,0.441,0.424,0.407,0.39,0.39,0.373,0.373,0.356,0.339,0.322,0.305,0.288,0.271,0.254,0.237,0.22,0.203,0.186,0.169,0.153,0.136,0.119,0.102,0.085,0.085,0.068,0.051,0.034,0.017,0.0],\"y\":[0.922,0.921,0.919,0.918,0.917,0.915,0.914,0.912,0.911,0.909,0.907,0.906,0.904,0.902,0.9,0.898,0.896,0.894,0.891,0.889,0.886,0.907,0.905,0.902,0.9,0.897,0.895,0.892,0.889,0.886,0.912,0.909,0.906,0.903,0.9,0.897,0.893,0.889,0.885,0.92,0.917,0.957,0.955,0.952,0.95,0.947,0.944,0.941,0.938,0.933,0.929,0.923,0.917,0.909,0.9,0.889,0.875,0.857,0.833,1.0,1.0,1.0,1.0,1.0,1.0],\"type\":\"scatter\",\"xaxis\":\"x3\",\"yaxis\":\"y3\"}],                        {\"template\":{\"data\":{\"histogram2dcontour\":[{\"type\":\"histogram2dcontour\",\"colorbar\":{\"outlinewidth\":0,\"ticks\":\"\"},\"colorscale\":[[0.0,\"#0d0887\"],[0.1111111111111111,\"#46039f\"],[0.2222222222222222,\"#7201a8\"],[0.3333333333333333,\"#9c179e\"],[0.4444444444444444,\"#bd3786\"],[0.5555555555555556,\"#d8576b\"],[0.6666666666666666,\"#ed7953\"],[0.7777777777777778,\"#fb9f3a\"],[0.8888888888888888,\"#fdca26\"],[1.0,\"#f0f921\"]]}],\"choropleth\":[{\"type\":\"choropleth\",\"colorbar\":{\"outlinewidth\":0,\"ticks\":\"\"}}],\"histogram2d\":[{\"type\":\"histogram2d\",\"colorbar\":{\"outlinewidth\":0,\"ticks\":\"\"},\"colorscale\":[[0.0,\"#0d0887\"],[0.1111111111111111,\"#46039f\"],[0.2222222222222222,\"#7201a8\"],[0.3333333333333333,\"#9c179e\"],[0.4444444444444444,\"#bd3786\"],[0.5555555555555556,\"#d8576b\"],[0.6666666666666666,\"#ed7953\"],[0.7777777777777778,\"#fb9f3a\"],[0.8888888888888888,\"#fdca26\"],[1.0,\"#f0f921\"]]}],\"heatmap\":[{\"type\":\"heatmap\",\"colorbar\":{\"outlinewidth\":0,\"ticks\":\"\"},\"colorscale\":[[0.0,\"#0d0887\"],[0.1111111111111111,\"#46039f\"],[0.2222222222222222,\"#7201a8\"],[0.3333333333333333,\"#9c179e\"],[0.4444444444444444,\"#bd3786\"],[0.5555555555555556,\"#d8576b\"],[0.6666666666666666,\"#ed7953\"],[0.7777777777777778,\"#fb9f3a\"],[0.8888888888888888,\"#fdca26\"],[1.0,\"#f0f921\"]]}],\"heatmapgl\":[{\"type\":\"heatmapgl\",\"colorbar\":{\"outlinewidth\":0,\"ticks\":\"\"},\"colorscale\":[[0.0,\"#0d0887\"],[0.1111111111111111,\"#46039f\"],[0.2222222222222222,\"#7201a8\"],[0.3333333333333333,\"#9c179e\"],[0.4444444444444444,\"#bd3786\"],[0.5555555555555556,\"#d8576b\"],[0.6666666666666666,\"#ed7953\"],[0.7777777777777778,\"#fb9f3a\"],[0.8888888888888888,\"#fdca26\"],[1.0,\"#f0f921\"]]}],\"contourcarpet\":[{\"type\":\"contourcarpet\",\"colorbar\":{\"outlinewidth\":0,\"ticks\":\"\"}}],\"contour\":[{\"type\":\"contour\",\"colorbar\":{\"outlinewidth\":0,\"ticks\":\"\"},\"colorscale\":[[0.0,\"#0d0887\"],[0.1111111111111111,\"#46039f\"],[0.2222222222222222,\"#7201a8\"],[0.3333333333333333,\"#9c179e\"],[0.4444444444444444,\"#bd3786\"],[0.5555555555555556,\"#d8576b\"],[0.6666666666666666,\"#ed7953\"],[0.7777777777777778,\"#fb9f3a\"],[0.8888888888888888,\"#fdca26\"],[1.0,\"#f0f921\"]]}],\"surface\":[{\"type\":\"surface\",\"colorbar\":{\"outlinewidth\":0,\"ticks\":\"\"},\"colorscale\":[[0.0,\"#0d0887\"],[0.1111111111111111,\"#46039f\"],[0.2222222222222222,\"#7201a8\"],[0.3333333333333333,\"#9c179e\"],[0.4444444444444444,\"#bd3786\"],[0.5555555555555556,\"#d8576b\"],[0.6666666666666666,\"#ed7953\"],[0.7777777777777778,\"#fb9f3a\"],[0.8888888888888888,\"#fdca26\"],[1.0,\"#f0f921\"]]}],\"mesh3d\":[{\"type\":\"mesh3d\",\"colorbar\":{\"outlinewidth\":0,\"ticks\":\"\"}}],\"scatter\":[{\"fillpattern\":{\"fillmode\":\"overlay\",\"size\":10,\"solidity\":0.2},\"type\":\"scatter\"}],\"parcoords\":[{\"type\":\"parcoords\",\"line\":{\"colorbar\":{\"outlinewidth\":0,\"ticks\":\"\"}}}],\"scatterpolargl\":[{\"type\":\"scatterpolargl\",\"marker\":{\"colorbar\":{\"outlinewidth\":0,\"ticks\":\"\"}}}],\"bar\":[{\"error_x\":{\"color\":\"#2a3f5f\"},\"error_y\":{\"color\":\"#2a3f5f\"},\"marker\":{\"line\":{\"color\":\"#E5ECF6\",\"width\":0.5},\"pattern\":{\"fillmode\":\"overlay\",\"size\":10,\"solidity\":0.2}},\"type\":\"bar\"}],\"scattergeo\":[{\"type\":\"scattergeo\",\"marker\":{\"colorbar\":{\"outlinewidth\":0,\"ticks\":\"\"}}}],\"scatterpolar\":[{\"type\":\"scatterpolar\",\"marker\":{\"colorbar\":{\"outlinewidth\":0,\"ticks\":\"\"}}}],\"histogram\":[{\"marker\":{\"pattern\":{\"fillmode\":\"overlay\",\"size\":10,\"solidity\":0.2}},\"type\":\"histogram\"}],\"scattergl\":[{\"type\":\"scattergl\",\"marker\":{\"colorbar\":{\"outlinewidth\":0,\"ticks\":\"\"}}}],\"scatter3d\":[{\"type\":\"scatter3d\",\"line\":{\"colorbar\":{\"outlinewidth\":0,\"ticks\":\"\"}},\"marker\":{\"colorbar\":{\"outlinewidth\":0,\"ticks\":\"\"}}}],\"scattermapbox\":[{\"type\":\"scattermapbox\",\"marker\":{\"colorbar\":{\"outlinewidth\":0,\"ticks\":\"\"}}}],\"scatterternary\":[{\"type\":\"scatterternary\",\"marker\":{\"colorbar\":{\"outlinewidth\":0,\"ticks\":\"\"}}}],\"scattercarpet\":[{\"type\":\"scattercarpet\",\"marker\":{\"colorbar\":{\"outlinewidth\":0,\"ticks\":\"\"}}}],\"carpet\":[{\"aaxis\":{\"endlinecolor\":\"#2a3f5f\",\"gridcolor\":\"white\",\"linecolor\":\"white\",\"minorgridcolor\":\"white\",\"startlinecolor\":\"#2a3f5f\"},\"baxis\":{\"endlinecolor\":\"#2a3f5f\",\"gridcolor\":\"white\",\"linecolor\":\"white\",\"minorgridcolor\":\"white\",\"startlinecolor\":\"#2a3f5f\"},\"type\":\"carpet\"}],\"table\":[{\"cells\":{\"fill\":{\"color\":\"#EBF0F8\"},\"line\":{\"color\":\"white\"}},\"header\":{\"fill\":{\"color\":\"#C8D4E3\"},\"line\":{\"color\":\"white\"}},\"type\":\"table\"}],\"barpolar\":[{\"marker\":{\"line\":{\"color\":\"#E5ECF6\",\"width\":0.5},\"pattern\":{\"fillmode\":\"overlay\",\"size\":10,\"solidity\":0.2}},\"type\":\"barpolar\"}],\"pie\":[{\"automargin\":true,\"type\":\"pie\"}]},\"layout\":{\"autotypenumbers\":\"strict\",\"colorway\":[\"#636efa\",\"#EF553B\",\"#00cc96\",\"#ab63fa\",\"#FFA15A\",\"#19d3f3\",\"#FF6692\",\"#B6E880\",\"#FF97FF\",\"#FECB52\"],\"font\":{\"color\":\"#2a3f5f\"},\"hovermode\":\"closest\",\"hoverlabel\":{\"align\":\"left\"},\"paper_bgcolor\":\"white\",\"plot_bgcolor\":\"#E5ECF6\",\"polar\":{\"bgcolor\":\"#E5ECF6\",\"angularaxis\":{\"gridcolor\":\"white\",\"linecolor\":\"white\",\"ticks\":\"\"},\"radialaxis\":{\"gridcolor\":\"white\",\"linecolor\":\"white\",\"ticks\":\"\"}},\"ternary\":{\"bgcolor\":\"#E5ECF6\",\"aaxis\":{\"gridcolor\":\"white\",\"linecolor\":\"white\",\"ticks\":\"\"},\"baxis\":{\"gridcolor\":\"white\",\"linecolor\":\"white\",\"ticks\":\"\"},\"caxis\":{\"gridcolor\":\"white\",\"linecolor\":\"white\",\"ticks\":\"\"}},\"coloraxis\":{\"colorbar\":{\"outlinewidth\":0,\"ticks\":\"\"}},\"colorscale\":{\"sequential\":[[0.0,\"#0d0887\"],[0.1111111111111111,\"#46039f\"],[0.2222222222222222,\"#7201a8\"],[0.3333333333333333,\"#9c179e\"],[0.4444444444444444,\"#bd3786\"],[0.5555555555555556,\"#d8576b\"],[0.6666666666666666,\"#ed7953\"],[0.7777777777777778,\"#fb9f3a\"],[0.8888888888888888,\"#fdca26\"],[1.0,\"#f0f921\"]],\"sequentialminus\":[[0.0,\"#0d0887\"],[0.1111111111111111,\"#46039f\"],[0.2222222222222222,\"#7201a8\"],[0.3333333333333333,\"#9c179e\"],[0.4444444444444444,\"#bd3786\"],[0.5555555555555556,\"#d8576b\"],[0.6666666666666666,\"#ed7953\"],[0.7777777777777778,\"#fb9f3a\"],[0.8888888888888888,\"#fdca26\"],[1.0,\"#f0f921\"]],\"diverging\":[[0,\"#8e0152\"],[0.1,\"#c51b7d\"],[0.2,\"#de77ae\"],[0.3,\"#f1b6da\"],[0.4,\"#fde0ef\"],[0.5,\"#f7f7f7\"],[0.6,\"#e6f5d0\"],[0.7,\"#b8e186\"],[0.8,\"#7fbc41\"],[0.9,\"#4d9221\"],[1,\"#276419\"]]},\"xaxis\":{\"gridcolor\":\"white\",\"linecolor\":\"white\",\"ticks\":\"\",\"title\":{\"standoff\":15},\"zerolinecolor\":\"white\",\"automargin\":true,\"zerolinewidth\":2},\"yaxis\":{\"gridcolor\":\"white\",\"linecolor\":\"white\",\"ticks\":\"\",\"title\":{\"standoff\":15},\"zerolinecolor\":\"white\",\"automargin\":true,\"zerolinewidth\":2},\"scene\":{\"xaxis\":{\"backgroundcolor\":\"#E5ECF6\",\"gridcolor\":\"white\",\"linecolor\":\"white\",\"showbackground\":true,\"ticks\":\"\",\"zerolinecolor\":\"white\",\"gridwidth\":2},\"yaxis\":{\"backgroundcolor\":\"#E5ECF6\",\"gridcolor\":\"white\",\"linecolor\":\"white\",\"showbackground\":true,\"ticks\":\"\",\"zerolinecolor\":\"white\",\"gridwidth\":2},\"zaxis\":{\"backgroundcolor\":\"#E5ECF6\",\"gridcolor\":\"white\",\"linecolor\":\"white\",\"showbackground\":true,\"ticks\":\"\",\"zerolinecolor\":\"white\",\"gridwidth\":2}},\"shapedefaults\":{\"line\":{\"color\":\"#2a3f5f\"}},\"annotationdefaults\":{\"arrowcolor\":\"#2a3f5f\",\"arrowhead\":0,\"arrowwidth\":1},\"geo\":{\"bgcolor\":\"white\",\"landcolor\":\"#E5ECF6\",\"subunitcolor\":\"white\",\"showland\":true,\"showlakes\":true,\"lakecolor\":\"white\"},\"title\":{\"x\":0.05},\"mapbox\":{\"style\":\"light\"}}},\"xaxis\":{\"anchor\":\"y\",\"domain\":[0.0,0.46499999999999997],\"title\":{\"text\":\"Predicted\"}},\"yaxis\":{\"anchor\":\"x\",\"domain\":[0.6000000000000001,1.0],\"title\":{\"text\":\"Real\"}},\"xaxis2\":{\"anchor\":\"y2\",\"domain\":[0.0,0.46499999999999997],\"title\":{\"text\":\"false positive rate\"}},\"yaxis2\":{\"anchor\":\"x2\",\"domain\":[0.0,0.4],\"title\":{\"text\":\"true positive rate\"}},\"xaxis3\":{\"anchor\":\"y3\",\"domain\":[0.5349999999999999,0.9999999999999999],\"title\":{\"text\":\"recall\"}},\"yaxis3\":{\"anchor\":\"x3\",\"domain\":[0.0,0.4],\"title\":{\"text\":\"precision\"}},\"annotations\":[{\"font\":{\"size\":16},\"showarrow\":false,\"text\":\"Confusion matix\",\"x\":0.23249999999999998,\"xanchor\":\"center\",\"xref\":\"paper\",\"y\":1.0,\"yanchor\":\"bottom\",\"yref\":\"paper\"},{\"font\":{\"size\":16},\"showarrow\":false,\"text\":\"Classification metrics\",\"x\":0.7674999999999998,\"xanchor\":\"center\",\"xref\":\"paper\",\"y\":1.0,\"yanchor\":\"bottom\",\"yref\":\"paper\"},{\"font\":{\"size\":16},\"showarrow\":false,\"text\":\"ROC curve (AUC=0.407)\",\"x\":0.23249999999999998,\"xanchor\":\"center\",\"xref\":\"paper\",\"y\":0.4,\"yanchor\":\"bottom\",\"yref\":\"paper\"},{\"font\":{\"size\":16},\"showarrow\":false,\"text\":\"Precision - Recall curve\",\"x\":0.7674999999999998,\"xanchor\":\"center\",\"xref\":\"paper\",\"y\":0.4,\"yanchor\":\"bottom\",\"yref\":\"paper\"},{\"showarrow\":false,\"text\":\"0\",\"x\":0,\"xref\":\"x\",\"y\":0,\"yref\":\"y\",\"yshift\":10},{\"showarrow\":false,\"text\":\"5\",\"x\":0,\"xref\":\"x\",\"y\":1,\"yref\":\"y\",\"yshift\":10},{\"showarrow\":false,\"text\":\"0\",\"x\":1,\"xref\":\"x\",\"y\":0,\"yref\":\"y\",\"yshift\":10},{\"showarrow\":false,\"text\":\"59\",\"x\":1,\"xref\":\"x\",\"y\":1,\"yref\":\"y\",\"yshift\":10}],\"title\":{\"text\":\"Global report for: Bagging Classifier\"},\"height\":800},                        {\"responsive\": true}                    ).then(function(){\n",
       "                            \n",
       "var gd = document.getElementById('7d04c79d-5f5d-413e-95ea-9f7178f5dc39');\n",
       "var x = new MutationObserver(function (mutations, observer) {{\n",
       "        var display = window.getComputedStyle(gd).display;\n",
       "        if (!display || display === 'none') {{\n",
       "            console.log([gd, 'removed!']);\n",
       "            Plotly.purge(gd);\n",
       "            observer.disconnect();\n",
       "        }}\n",
       "}});\n",
       "\n",
       "// Listen for the removal of the full notebook cells\n",
       "var notebookContainer = gd.closest('#notebook-container');\n",
       "if (notebookContainer) {{\n",
       "    x.observe(notebookContainer, {childList: true});\n",
       "}}\n",
       "\n",
       "// Listen for the clearing of the current output cell\n",
       "var outputEl = gd.closest('.output');\n",
       "if (outputEl) {{\n",
       "    x.observe(outputEl, {childList: true});\n",
       "}}\n",
       "\n",
       "                        })                };                            </script>        </div>\n",
       "</body>\n",
       "</html>"
      ]
     },
     "metadata": {},
     "output_type": "display_data"
    }
   ],
   "source": [
    "from sklearn.ensemble import BaggingClassifier\n",
    "start = time.time()\n",
    "bg_model = BaggingClassifier(base_estimator=rf_model,max_samples=0.5,max_features=1.0,n_estimators=2)\n",
    "bg_model.fit(data_train, target_train)\n",
    "elapsed_time_2 = time.time() - start\n",
    "\n",
    "print(\n",
    "    f\"The model {bg_model.__class__.__name__} was trained in \"\n",
    "    f\"{elapsed_time_2:.3f} seconds\"\n",
    ")\n",
    "\n",
    "evaluate(bg_model, data_train, target_train, cv=5)\n",
    "scores_bg = generate_classification_report(bg_model, data_test , target_test, \"Bagging Classifier\")"
   ]
  },
  {
   "cell_type": "markdown",
   "metadata": {
    "id": "chRl3Db8j0cz"
   },
   "source": [
    "# Adaboost :"
   ]
  },
  {
   "cell_type": "code",
   "execution_count": 118,
   "metadata": {
    "colab": {
     "base_uri": "https://localhost:8080/",
     "height": 869
    },
    "id": "hnaiJjk_j1S9",
    "outputId": "da7b6d33-60c7-4619-9109-493d5731b148"
   },
   "outputs": [
    {
     "name": "stdout",
     "output_type": "stream",
     "text": [
      "The model AdaBoostClassifier was trained in 0.142 seconds\n",
      "Brier Loss Score :     0.116 +/- 0.010\n",
      "ROC_AUC Score : 0.750 +/- 0.086\n"
     ]
    },
    {
     "data": {
      "text/html": [
       "<html>\n",
       "<head><meta charset=\"utf-8\" /></head>\n",
       "<body>\n",
       "    <div>            <script src=\"https://cdnjs.cloudflare.com/ajax/libs/mathjax/2.7.5/MathJax.js?config=TeX-AMS-MML_SVG\"></script><script type=\"text/javascript\">if (window.MathJax && window.MathJax.Hub && window.MathJax.Hub.Config) {window.MathJax.Hub.Config({SVG: {font: \"STIX-Web\"}});}</script>                <script type=\"text/javascript\">window.PlotlyConfig = {MathJaxConfig: 'local'};</script>\n",
       "        <script src=\"https://cdn.plot.ly/plotly-2.18.2.min.js\"></script>                <div id=\"2aa162dd-acc8-46b5-abe9-7ab2b20b4f25\" class=\"plotly-graph-div\" style=\"height:800px; width:100%;\"></div>            <script type=\"text/javascript\">                                    window.PLOTLYENV=window.PLOTLYENV || {};                                    if (document.getElementById(\"2aa162dd-acc8-46b5-abe9-7ab2b20b4f25\")) {                    Plotly.newPlot(                        \"2aa162dd-acc8-46b5-abe9-7ab2b20b4f25\",                        [{\"colorscale\":[[0.0,\"#018571\"],[0.3333333333333333,\"#80cdc1\"],[0.6666666666666666,\"#dfc27d\"],[1.0,\"#a6611a\"]],\"showscale\":false,\"text\":[[\"0\",\"5\"],[\"1\",\"58\"]],\"x\":[\"0\",\"1\"],\"y\":[\"0\",\"1\"],\"z\":[[0,5],[1,58]],\"type\":\"heatmap\",\"xaxis\":\"x\",\"yaxis\":\"y\"},{\"cells\":{\"fill\":{\"color\":[\"#80cdc1\",\"#dfc27d\"]},\"line\":{\"color\":\"#a6611a\"},\"values\":[[\"accuray\",\"precision\",\"recall\",\"f1 score\",\"<b>area under the roc</b>\",\"<b>brier score loss</b>\"],[0.906,0.921,0.983,0.951,0.814,0.094]]},\"header\":{\"fill\":{\"color\":\"#018571\"},\"line\":{\"color\":\"#a6611a\"},\"values\":[\"Metric\",\"Score\"]},\"type\":\"table\",\"domain\":{\"x\":[0.5349999999999999,0.9999999999999999],\"y\":[0.6000000000000001,1.0]}},{\"fill\":\"tozeroy\",\"line\":{\"color\":\"#018571\"},\"mode\":\"lines\",\"name\":\"ROC curve\",\"showlegend\":false,\"text\":[0.496,0.6,0.613,0.619,0.662,0.681,0.683,0.69,0.693,0.697,0.711,0.711,0.711,0.712,0.725,0.734,0.754,0.756,0.757,0.76,0.766,0.767,0.769,0.77,0.774,0.783,0.783,0.784,0.788,0.79,0.792,0.798,0.805,0.816,0.818,0.82,0.823,0.826,0.83,0.837,0.842,0.843,0.845,0.853,0.859,0.865,0.866,0.867,0.87,0.872,0.874,0.875,0.879,0.885,0.888,0.889,0.894,0.896,0.906,0.909,0.914,0.924,0.934,0.938],\"x\":[0.0,0.0,0.0,0.4,0.4,0.6,0.6,0.8,0.8,1.0,1.0],\"y\":[0.0,0.017,0.627,0.627,0.898,0.898,0.932,0.932,0.983,0.983,1.0],\"type\":\"scatter\",\"xaxis\":\"x2\",\"yaxis\":\"y2\"},{\"line\":{\"color\":\"#a6611a\",\"dash\":\"dot\"},\"mode\":\"lines\",\"name\":\"Base line\",\"showlegend\":false,\"x\":[0.0,0.01694915254237288,0.6271186440677966,0.6271186440677966,0.8983050847457628,0.8983050847457628,0.9322033898305084,0.9322033898305084,0.9830508474576272,0.9830508474576272,1.0],\"y\":[0.0,0.01694915254237288,0.6271186440677966,0.6271186440677966,0.8983050847457628,0.8983050847457628,0.9322033898305084,0.9322033898305084,0.9830508474576272,0.9830508474576272,1.0],\"type\":\"scatter\",\"xaxis\":\"x2\",\"yaxis\":\"y2\"},{\"line\":{\"color\":\"#018571\"},\"mode\":\"lines\",\"name\":\"precision recall curve\",\"showlegend\":false,\"text\":[0.496,0.6,0.613,0.619,0.662,0.681,0.683,0.69,0.693,0.697,0.711,0.711,0.711,0.712,0.725,0.734,0.754,0.756,0.757,0.76,0.766,0.767,0.769,0.77,0.774,0.783,0.783,0.784,0.788,0.79,0.792,0.798,0.805,0.816,0.818,0.82,0.823,0.826,0.83,0.837,0.842,0.843,0.845,0.853,0.859,0.865,0.866,0.867,0.87,0.872,0.874,0.875,0.879,0.885,0.888,0.889,0.894,0.896,0.906,0.909,0.914,0.924,0.934,0.938],\"x\":[1.0,0.983,0.983,0.966,0.949,0.932,0.932,0.915,0.898,0.898,0.881,0.864,0.847,0.831,0.814,0.797,0.78,0.763,0.746,0.729,0.712,0.695,0.678,0.661,0.644,0.627,0.627,0.627,0.61,0.593,0.576,0.559,0.542,0.525,0.508,0.492,0.475,0.458,0.441,0.424,0.407,0.39,0.373,0.356,0.339,0.322,0.305,0.288,0.271,0.254,0.237,0.22,0.203,0.186,0.169,0.153,0.136,0.119,0.102,0.085,0.068,0.051,0.034,0.017,0.0],\"y\":[0.922,0.921,0.935,0.934,0.933,0.932,0.948,0.947,0.946,0.964,0.963,0.962,0.962,0.961,0.96,0.959,0.958,0.957,0.957,0.956,0.955,0.953,0.952,0.951,0.95,0.949,0.974,1.0,1.0,1.0,1.0,1.0,1.0,1.0,1.0,1.0,1.0,1.0,1.0,1.0,1.0,1.0,1.0,1.0,1.0,1.0,1.0,1.0,1.0,1.0,1.0,1.0,1.0,1.0,1.0,1.0,1.0,1.0,1.0,1.0,1.0,1.0,1.0,1.0,1.0],\"type\":\"scatter\",\"xaxis\":\"x3\",\"yaxis\":\"y3\"}],                        {\"template\":{\"data\":{\"histogram2dcontour\":[{\"type\":\"histogram2dcontour\",\"colorbar\":{\"outlinewidth\":0,\"ticks\":\"\"},\"colorscale\":[[0.0,\"#0d0887\"],[0.1111111111111111,\"#46039f\"],[0.2222222222222222,\"#7201a8\"],[0.3333333333333333,\"#9c179e\"],[0.4444444444444444,\"#bd3786\"],[0.5555555555555556,\"#d8576b\"],[0.6666666666666666,\"#ed7953\"],[0.7777777777777778,\"#fb9f3a\"],[0.8888888888888888,\"#fdca26\"],[1.0,\"#f0f921\"]]}],\"choropleth\":[{\"type\":\"choropleth\",\"colorbar\":{\"outlinewidth\":0,\"ticks\":\"\"}}],\"histogram2d\":[{\"type\":\"histogram2d\",\"colorbar\":{\"outlinewidth\":0,\"ticks\":\"\"},\"colorscale\":[[0.0,\"#0d0887\"],[0.1111111111111111,\"#46039f\"],[0.2222222222222222,\"#7201a8\"],[0.3333333333333333,\"#9c179e\"],[0.4444444444444444,\"#bd3786\"],[0.5555555555555556,\"#d8576b\"],[0.6666666666666666,\"#ed7953\"],[0.7777777777777778,\"#fb9f3a\"],[0.8888888888888888,\"#fdca26\"],[1.0,\"#f0f921\"]]}],\"heatmap\":[{\"type\":\"heatmap\",\"colorbar\":{\"outlinewidth\":0,\"ticks\":\"\"},\"colorscale\":[[0.0,\"#0d0887\"],[0.1111111111111111,\"#46039f\"],[0.2222222222222222,\"#7201a8\"],[0.3333333333333333,\"#9c179e\"],[0.4444444444444444,\"#bd3786\"],[0.5555555555555556,\"#d8576b\"],[0.6666666666666666,\"#ed7953\"],[0.7777777777777778,\"#fb9f3a\"],[0.8888888888888888,\"#fdca26\"],[1.0,\"#f0f921\"]]}],\"heatmapgl\":[{\"type\":\"heatmapgl\",\"colorbar\":{\"outlinewidth\":0,\"ticks\":\"\"},\"colorscale\":[[0.0,\"#0d0887\"],[0.1111111111111111,\"#46039f\"],[0.2222222222222222,\"#7201a8\"],[0.3333333333333333,\"#9c179e\"],[0.4444444444444444,\"#bd3786\"],[0.5555555555555556,\"#d8576b\"],[0.6666666666666666,\"#ed7953\"],[0.7777777777777778,\"#fb9f3a\"],[0.8888888888888888,\"#fdca26\"],[1.0,\"#f0f921\"]]}],\"contourcarpet\":[{\"type\":\"contourcarpet\",\"colorbar\":{\"outlinewidth\":0,\"ticks\":\"\"}}],\"contour\":[{\"type\":\"contour\",\"colorbar\":{\"outlinewidth\":0,\"ticks\":\"\"},\"colorscale\":[[0.0,\"#0d0887\"],[0.1111111111111111,\"#46039f\"],[0.2222222222222222,\"#7201a8\"],[0.3333333333333333,\"#9c179e\"],[0.4444444444444444,\"#bd3786\"],[0.5555555555555556,\"#d8576b\"],[0.6666666666666666,\"#ed7953\"],[0.7777777777777778,\"#fb9f3a\"],[0.8888888888888888,\"#fdca26\"],[1.0,\"#f0f921\"]]}],\"surface\":[{\"type\":\"surface\",\"colorbar\":{\"outlinewidth\":0,\"ticks\":\"\"},\"colorscale\":[[0.0,\"#0d0887\"],[0.1111111111111111,\"#46039f\"],[0.2222222222222222,\"#7201a8\"],[0.3333333333333333,\"#9c179e\"],[0.4444444444444444,\"#bd3786\"],[0.5555555555555556,\"#d8576b\"],[0.6666666666666666,\"#ed7953\"],[0.7777777777777778,\"#fb9f3a\"],[0.8888888888888888,\"#fdca26\"],[1.0,\"#f0f921\"]]}],\"mesh3d\":[{\"type\":\"mesh3d\",\"colorbar\":{\"outlinewidth\":0,\"ticks\":\"\"}}],\"scatter\":[{\"fillpattern\":{\"fillmode\":\"overlay\",\"size\":10,\"solidity\":0.2},\"type\":\"scatter\"}],\"parcoords\":[{\"type\":\"parcoords\",\"line\":{\"colorbar\":{\"outlinewidth\":0,\"ticks\":\"\"}}}],\"scatterpolargl\":[{\"type\":\"scatterpolargl\",\"marker\":{\"colorbar\":{\"outlinewidth\":0,\"ticks\":\"\"}}}],\"bar\":[{\"error_x\":{\"color\":\"#2a3f5f\"},\"error_y\":{\"color\":\"#2a3f5f\"},\"marker\":{\"line\":{\"color\":\"#E5ECF6\",\"width\":0.5},\"pattern\":{\"fillmode\":\"overlay\",\"size\":10,\"solidity\":0.2}},\"type\":\"bar\"}],\"scattergeo\":[{\"type\":\"scattergeo\",\"marker\":{\"colorbar\":{\"outlinewidth\":0,\"ticks\":\"\"}}}],\"scatterpolar\":[{\"type\":\"scatterpolar\",\"marker\":{\"colorbar\":{\"outlinewidth\":0,\"ticks\":\"\"}}}],\"histogram\":[{\"marker\":{\"pattern\":{\"fillmode\":\"overlay\",\"size\":10,\"solidity\":0.2}},\"type\":\"histogram\"}],\"scattergl\":[{\"type\":\"scattergl\",\"marker\":{\"colorbar\":{\"outlinewidth\":0,\"ticks\":\"\"}}}],\"scatter3d\":[{\"type\":\"scatter3d\",\"line\":{\"colorbar\":{\"outlinewidth\":0,\"ticks\":\"\"}},\"marker\":{\"colorbar\":{\"outlinewidth\":0,\"ticks\":\"\"}}}],\"scattermapbox\":[{\"type\":\"scattermapbox\",\"marker\":{\"colorbar\":{\"outlinewidth\":0,\"ticks\":\"\"}}}],\"scatterternary\":[{\"type\":\"scatterternary\",\"marker\":{\"colorbar\":{\"outlinewidth\":0,\"ticks\":\"\"}}}],\"scattercarpet\":[{\"type\":\"scattercarpet\",\"marker\":{\"colorbar\":{\"outlinewidth\":0,\"ticks\":\"\"}}}],\"carpet\":[{\"aaxis\":{\"endlinecolor\":\"#2a3f5f\",\"gridcolor\":\"white\",\"linecolor\":\"white\",\"minorgridcolor\":\"white\",\"startlinecolor\":\"#2a3f5f\"},\"baxis\":{\"endlinecolor\":\"#2a3f5f\",\"gridcolor\":\"white\",\"linecolor\":\"white\",\"minorgridcolor\":\"white\",\"startlinecolor\":\"#2a3f5f\"},\"type\":\"carpet\"}],\"table\":[{\"cells\":{\"fill\":{\"color\":\"#EBF0F8\"},\"line\":{\"color\":\"white\"}},\"header\":{\"fill\":{\"color\":\"#C8D4E3\"},\"line\":{\"color\":\"white\"}},\"type\":\"table\"}],\"barpolar\":[{\"marker\":{\"line\":{\"color\":\"#E5ECF6\",\"width\":0.5},\"pattern\":{\"fillmode\":\"overlay\",\"size\":10,\"solidity\":0.2}},\"type\":\"barpolar\"}],\"pie\":[{\"automargin\":true,\"type\":\"pie\"}]},\"layout\":{\"autotypenumbers\":\"strict\",\"colorway\":[\"#636efa\",\"#EF553B\",\"#00cc96\",\"#ab63fa\",\"#FFA15A\",\"#19d3f3\",\"#FF6692\",\"#B6E880\",\"#FF97FF\",\"#FECB52\"],\"font\":{\"color\":\"#2a3f5f\"},\"hovermode\":\"closest\",\"hoverlabel\":{\"align\":\"left\"},\"paper_bgcolor\":\"white\",\"plot_bgcolor\":\"#E5ECF6\",\"polar\":{\"bgcolor\":\"#E5ECF6\",\"angularaxis\":{\"gridcolor\":\"white\",\"linecolor\":\"white\",\"ticks\":\"\"},\"radialaxis\":{\"gridcolor\":\"white\",\"linecolor\":\"white\",\"ticks\":\"\"}},\"ternary\":{\"bgcolor\":\"#E5ECF6\",\"aaxis\":{\"gridcolor\":\"white\",\"linecolor\":\"white\",\"ticks\":\"\"},\"baxis\":{\"gridcolor\":\"white\",\"linecolor\":\"white\",\"ticks\":\"\"},\"caxis\":{\"gridcolor\":\"white\",\"linecolor\":\"white\",\"ticks\":\"\"}},\"coloraxis\":{\"colorbar\":{\"outlinewidth\":0,\"ticks\":\"\"}},\"colorscale\":{\"sequential\":[[0.0,\"#0d0887\"],[0.1111111111111111,\"#46039f\"],[0.2222222222222222,\"#7201a8\"],[0.3333333333333333,\"#9c179e\"],[0.4444444444444444,\"#bd3786\"],[0.5555555555555556,\"#d8576b\"],[0.6666666666666666,\"#ed7953\"],[0.7777777777777778,\"#fb9f3a\"],[0.8888888888888888,\"#fdca26\"],[1.0,\"#f0f921\"]],\"sequentialminus\":[[0.0,\"#0d0887\"],[0.1111111111111111,\"#46039f\"],[0.2222222222222222,\"#7201a8\"],[0.3333333333333333,\"#9c179e\"],[0.4444444444444444,\"#bd3786\"],[0.5555555555555556,\"#d8576b\"],[0.6666666666666666,\"#ed7953\"],[0.7777777777777778,\"#fb9f3a\"],[0.8888888888888888,\"#fdca26\"],[1.0,\"#f0f921\"]],\"diverging\":[[0,\"#8e0152\"],[0.1,\"#c51b7d\"],[0.2,\"#de77ae\"],[0.3,\"#f1b6da\"],[0.4,\"#fde0ef\"],[0.5,\"#f7f7f7\"],[0.6,\"#e6f5d0\"],[0.7,\"#b8e186\"],[0.8,\"#7fbc41\"],[0.9,\"#4d9221\"],[1,\"#276419\"]]},\"xaxis\":{\"gridcolor\":\"white\",\"linecolor\":\"white\",\"ticks\":\"\",\"title\":{\"standoff\":15},\"zerolinecolor\":\"white\",\"automargin\":true,\"zerolinewidth\":2},\"yaxis\":{\"gridcolor\":\"white\",\"linecolor\":\"white\",\"ticks\":\"\",\"title\":{\"standoff\":15},\"zerolinecolor\":\"white\",\"automargin\":true,\"zerolinewidth\":2},\"scene\":{\"xaxis\":{\"backgroundcolor\":\"#E5ECF6\",\"gridcolor\":\"white\",\"linecolor\":\"white\",\"showbackground\":true,\"ticks\":\"\",\"zerolinecolor\":\"white\",\"gridwidth\":2},\"yaxis\":{\"backgroundcolor\":\"#E5ECF6\",\"gridcolor\":\"white\",\"linecolor\":\"white\",\"showbackground\":true,\"ticks\":\"\",\"zerolinecolor\":\"white\",\"gridwidth\":2},\"zaxis\":{\"backgroundcolor\":\"#E5ECF6\",\"gridcolor\":\"white\",\"linecolor\":\"white\",\"showbackground\":true,\"ticks\":\"\",\"zerolinecolor\":\"white\",\"gridwidth\":2}},\"shapedefaults\":{\"line\":{\"color\":\"#2a3f5f\"}},\"annotationdefaults\":{\"arrowcolor\":\"#2a3f5f\",\"arrowhead\":0,\"arrowwidth\":1},\"geo\":{\"bgcolor\":\"white\",\"landcolor\":\"#E5ECF6\",\"subunitcolor\":\"white\",\"showland\":true,\"showlakes\":true,\"lakecolor\":\"white\"},\"title\":{\"x\":0.05},\"mapbox\":{\"style\":\"light\"}}},\"xaxis\":{\"anchor\":\"y\",\"domain\":[0.0,0.46499999999999997],\"title\":{\"text\":\"Predicted\"}},\"yaxis\":{\"anchor\":\"x\",\"domain\":[0.6000000000000001,1.0],\"title\":{\"text\":\"Real\"}},\"xaxis2\":{\"anchor\":\"y2\",\"domain\":[0.0,0.46499999999999997],\"title\":{\"text\":\"false positive rate\"}},\"yaxis2\":{\"anchor\":\"x2\",\"domain\":[0.0,0.4],\"title\":{\"text\":\"true positive rate\"}},\"xaxis3\":{\"anchor\":\"y3\",\"domain\":[0.5349999999999999,0.9999999999999999],\"title\":{\"text\":\"recall\"}},\"yaxis3\":{\"anchor\":\"x3\",\"domain\":[0.0,0.4],\"title\":{\"text\":\"precision\"}},\"annotations\":[{\"font\":{\"size\":16},\"showarrow\":false,\"text\":\"Confusion matix\",\"x\":0.23249999999999998,\"xanchor\":\"center\",\"xref\":\"paper\",\"y\":1.0,\"yanchor\":\"bottom\",\"yref\":\"paper\"},{\"font\":{\"size\":16},\"showarrow\":false,\"text\":\"Classification metrics\",\"x\":0.7674999999999998,\"xanchor\":\"center\",\"xref\":\"paper\",\"y\":1.0,\"yanchor\":\"bottom\",\"yref\":\"paper\"},{\"font\":{\"size\":16},\"showarrow\":false,\"text\":\"ROC curve (AUC=0.814)\",\"x\":0.23249999999999998,\"xanchor\":\"center\",\"xref\":\"paper\",\"y\":0.4,\"yanchor\":\"bottom\",\"yref\":\"paper\"},{\"font\":{\"size\":16},\"showarrow\":false,\"text\":\"Precision - Recall curve\",\"x\":0.7674999999999998,\"xanchor\":\"center\",\"xref\":\"paper\",\"y\":0.4,\"yanchor\":\"bottom\",\"yref\":\"paper\"},{\"showarrow\":false,\"text\":\"0\",\"x\":0,\"xref\":\"x\",\"y\":0,\"yref\":\"y\",\"yshift\":10},{\"showarrow\":false,\"text\":\"5\",\"x\":0,\"xref\":\"x\",\"y\":1,\"yref\":\"y\",\"yshift\":10},{\"showarrow\":false,\"text\":\"1\",\"x\":1,\"xref\":\"x\",\"y\":0,\"yref\":\"y\",\"yshift\":10},{\"showarrow\":false,\"text\":\"58\",\"x\":1,\"xref\":\"x\",\"y\":1,\"yref\":\"y\",\"yshift\":10}],\"title\":{\"text\":\"Global report for: AdaBoost Classifier\"},\"height\":800},                        {\"responsive\": true}                    ).then(function(){\n",
       "                            \n",
       "var gd = document.getElementById('2aa162dd-acc8-46b5-abe9-7ab2b20b4f25');\n",
       "var x = new MutationObserver(function (mutations, observer) {{\n",
       "        var display = window.getComputedStyle(gd).display;\n",
       "        if (!display || display === 'none') {{\n",
       "            console.log([gd, 'removed!']);\n",
       "            Plotly.purge(gd);\n",
       "            observer.disconnect();\n",
       "        }}\n",
       "}});\n",
       "\n",
       "// Listen for the removal of the full notebook cells\n",
       "var notebookContainer = gd.closest('#notebook-container');\n",
       "if (notebookContainer) {{\n",
       "    x.observe(notebookContainer, {childList: true});\n",
       "}}\n",
       "\n",
       "// Listen for the clearing of the current output cell\n",
       "var outputEl = gd.closest('.output');\n",
       "if (outputEl) {{\n",
       "    x.observe(outputEl, {childList: true});\n",
       "}}\n",
       "\n",
       "                        })                };                            </script>        </div>\n",
       "</body>\n",
       "</html>"
      ]
     },
     "metadata": {},
     "output_type": "display_data"
    }
   ],
   "source": [
    "from sklearn.ensemble import  AdaBoostClassifier\n",
    "import warnings\n",
    "warnings.filterwarnings(\"ignore\")\n",
    "start = time.time()\n",
    "ada_model = AdaBoostClassifier(base_estimator=rf_model, n_estimators=3)\n",
    "ada_model.fit(data_train, target_train)\n",
    "elapsed_time_2 = time.time() - start\n",
    "\n",
    "print(\n",
    "    f\"The model {ada_model.__class__.__name__} was trained in \"\n",
    "    f\"{elapsed_time_2:.3f} seconds\"\n",
    ")\n",
    "\n",
    "evaluate(ada_model, data_train, target_train, cv=5)\n",
    "scores_ada = generate_classification_report(ada_model, data_test , target_test, \"AdaBoost Classifier\")"
   ]
  },
  {
   "cell_type": "markdown",
   "metadata": {
    "id": "zLgNQAs2kbqt"
   },
   "source": [
    "# XGBoost Classifier :"
   ]
  },
  {
   "cell_type": "code",
   "execution_count": 119,
   "metadata": {
    "colab": {
     "base_uri": "https://localhost:8080/",
     "height": 869
    },
    "id": "fJNHWZxgkdpQ",
    "outputId": "b06167dc-b63c-46ae-9341-0e0fd2a5c4be"
   },
   "outputs": [
    {
     "name": "stdout",
     "output_type": "stream",
     "text": [
      "The model XGBClassifier was trained in 0.041 seconds\n",
      "Brier Loss Score :     0.119 +/- 0.006\n",
      "ROC_AUC Score : 0.500 +/- 0.000\n"
     ]
    },
    {
     "data": {
      "text/html": [
       "<html>\n",
       "<head><meta charset=\"utf-8\" /></head>\n",
       "<body>\n",
       "    <div>            <script src=\"https://cdnjs.cloudflare.com/ajax/libs/mathjax/2.7.5/MathJax.js?config=TeX-AMS-MML_SVG\"></script><script type=\"text/javascript\">if (window.MathJax && window.MathJax.Hub && window.MathJax.Hub.Config) {window.MathJax.Hub.Config({SVG: {font: \"STIX-Web\"}});}</script>                <script type=\"text/javascript\">window.PlotlyConfig = {MathJaxConfig: 'local'};</script>\n",
       "        <script src=\"https://cdn.plot.ly/plotly-2.18.2.min.js\"></script>                <div id=\"67ca0176-d84b-4f62-9938-61b5f7f17a9f\" class=\"plotly-graph-div\" style=\"height:800px; width:100%;\"></div>            <script type=\"text/javascript\">                                    window.PLOTLYENV=window.PLOTLYENV || {};                                    if (document.getElementById(\"67ca0176-d84b-4f62-9938-61b5f7f17a9f\")) {                    Plotly.newPlot(                        \"67ca0176-d84b-4f62-9938-61b5f7f17a9f\",                        [{\"colorscale\":[[0.0,\"#018571\"],[0.3333333333333333,\"#80cdc1\"],[0.6666666666666666,\"#dfc27d\"],[1.0,\"#a6611a\"]],\"showscale\":false,\"text\":[[\"0\",\"5\"],[\"0\",\"59\"]],\"x\":[\"0\",\"1\"],\"y\":[\"0\",\"1\"],\"z\":[[0,5],[0,59]],\"type\":\"heatmap\",\"xaxis\":\"x\",\"yaxis\":\"y\"},{\"cells\":{\"fill\":{\"color\":[\"#80cdc1\",\"#dfc27d\"]},\"line\":{\"color\":\"#a6611a\"},\"values\":[[\"accuray\",\"precision\",\"recall\",\"f1 score\",\"<b>area under the roc</b>\",\"<b>brier score loss</b>\"],[0.922,0.922,1.0,0.959,0.614,0.078]]},\"header\":{\"fill\":{\"color\":\"#018571\"},\"line\":{\"color\":\"#a6611a\"},\"values\":[\"Metric\",\"Score\"]},\"type\":\"table\",\"domain\":{\"x\":[0.5349999999999999,0.9999999999999999],\"y\":[0.6000000000000001,1.0]}},{\"fill\":\"tozeroy\",\"line\":{\"color\":\"#018571\"},\"mode\":\"lines\",\"name\":\"ROC curve\",\"showlegend\":false,\"text\":[0.8489999771118164,0.8709999918937683],\"x\":[0.0,0.4,1.0],\"y\":[0.0,0.627,1.0],\"type\":\"scatter\",\"xaxis\":\"x2\",\"yaxis\":\"y2\"},{\"line\":{\"color\":\"#a6611a\",\"dash\":\"dot\"},\"mode\":\"lines\",\"name\":\"Base line\",\"showlegend\":false,\"x\":[0.0,0.6271186440677966,1.0],\"y\":[0.0,0.6271186440677966,1.0],\"type\":\"scatter\",\"xaxis\":\"x2\",\"yaxis\":\"y2\"},{\"line\":{\"color\":\"#018571\"},\"mode\":\"lines\",\"name\":\"precision recall curve\",\"showlegend\":false,\"text\":[0.8489999771118164,0.8709999918937683],\"x\":[1.0,0.627,0.0],\"y\":[0.922,0.949,1.0],\"type\":\"scatter\",\"xaxis\":\"x3\",\"yaxis\":\"y3\"}],                        {\"template\":{\"data\":{\"histogram2dcontour\":[{\"type\":\"histogram2dcontour\",\"colorbar\":{\"outlinewidth\":0,\"ticks\":\"\"},\"colorscale\":[[0.0,\"#0d0887\"],[0.1111111111111111,\"#46039f\"],[0.2222222222222222,\"#7201a8\"],[0.3333333333333333,\"#9c179e\"],[0.4444444444444444,\"#bd3786\"],[0.5555555555555556,\"#d8576b\"],[0.6666666666666666,\"#ed7953\"],[0.7777777777777778,\"#fb9f3a\"],[0.8888888888888888,\"#fdca26\"],[1.0,\"#f0f921\"]]}],\"choropleth\":[{\"type\":\"choropleth\",\"colorbar\":{\"outlinewidth\":0,\"ticks\":\"\"}}],\"histogram2d\":[{\"type\":\"histogram2d\",\"colorbar\":{\"outlinewidth\":0,\"ticks\":\"\"},\"colorscale\":[[0.0,\"#0d0887\"],[0.1111111111111111,\"#46039f\"],[0.2222222222222222,\"#7201a8\"],[0.3333333333333333,\"#9c179e\"],[0.4444444444444444,\"#bd3786\"],[0.5555555555555556,\"#d8576b\"],[0.6666666666666666,\"#ed7953\"],[0.7777777777777778,\"#fb9f3a\"],[0.8888888888888888,\"#fdca26\"],[1.0,\"#f0f921\"]]}],\"heatmap\":[{\"type\":\"heatmap\",\"colorbar\":{\"outlinewidth\":0,\"ticks\":\"\"},\"colorscale\":[[0.0,\"#0d0887\"],[0.1111111111111111,\"#46039f\"],[0.2222222222222222,\"#7201a8\"],[0.3333333333333333,\"#9c179e\"],[0.4444444444444444,\"#bd3786\"],[0.5555555555555556,\"#d8576b\"],[0.6666666666666666,\"#ed7953\"],[0.7777777777777778,\"#fb9f3a\"],[0.8888888888888888,\"#fdca26\"],[1.0,\"#f0f921\"]]}],\"heatmapgl\":[{\"type\":\"heatmapgl\",\"colorbar\":{\"outlinewidth\":0,\"ticks\":\"\"},\"colorscale\":[[0.0,\"#0d0887\"],[0.1111111111111111,\"#46039f\"],[0.2222222222222222,\"#7201a8\"],[0.3333333333333333,\"#9c179e\"],[0.4444444444444444,\"#bd3786\"],[0.5555555555555556,\"#d8576b\"],[0.6666666666666666,\"#ed7953\"],[0.7777777777777778,\"#fb9f3a\"],[0.8888888888888888,\"#fdca26\"],[1.0,\"#f0f921\"]]}],\"contourcarpet\":[{\"type\":\"contourcarpet\",\"colorbar\":{\"outlinewidth\":0,\"ticks\":\"\"}}],\"contour\":[{\"type\":\"contour\",\"colorbar\":{\"outlinewidth\":0,\"ticks\":\"\"},\"colorscale\":[[0.0,\"#0d0887\"],[0.1111111111111111,\"#46039f\"],[0.2222222222222222,\"#7201a8\"],[0.3333333333333333,\"#9c179e\"],[0.4444444444444444,\"#bd3786\"],[0.5555555555555556,\"#d8576b\"],[0.6666666666666666,\"#ed7953\"],[0.7777777777777778,\"#fb9f3a\"],[0.8888888888888888,\"#fdca26\"],[1.0,\"#f0f921\"]]}],\"surface\":[{\"type\":\"surface\",\"colorbar\":{\"outlinewidth\":0,\"ticks\":\"\"},\"colorscale\":[[0.0,\"#0d0887\"],[0.1111111111111111,\"#46039f\"],[0.2222222222222222,\"#7201a8\"],[0.3333333333333333,\"#9c179e\"],[0.4444444444444444,\"#bd3786\"],[0.5555555555555556,\"#d8576b\"],[0.6666666666666666,\"#ed7953\"],[0.7777777777777778,\"#fb9f3a\"],[0.8888888888888888,\"#fdca26\"],[1.0,\"#f0f921\"]]}],\"mesh3d\":[{\"type\":\"mesh3d\",\"colorbar\":{\"outlinewidth\":0,\"ticks\":\"\"}}],\"scatter\":[{\"fillpattern\":{\"fillmode\":\"overlay\",\"size\":10,\"solidity\":0.2},\"type\":\"scatter\"}],\"parcoords\":[{\"type\":\"parcoords\",\"line\":{\"colorbar\":{\"outlinewidth\":0,\"ticks\":\"\"}}}],\"scatterpolargl\":[{\"type\":\"scatterpolargl\",\"marker\":{\"colorbar\":{\"outlinewidth\":0,\"ticks\":\"\"}}}],\"bar\":[{\"error_x\":{\"color\":\"#2a3f5f\"},\"error_y\":{\"color\":\"#2a3f5f\"},\"marker\":{\"line\":{\"color\":\"#E5ECF6\",\"width\":0.5},\"pattern\":{\"fillmode\":\"overlay\",\"size\":10,\"solidity\":0.2}},\"type\":\"bar\"}],\"scattergeo\":[{\"type\":\"scattergeo\",\"marker\":{\"colorbar\":{\"outlinewidth\":0,\"ticks\":\"\"}}}],\"scatterpolar\":[{\"type\":\"scatterpolar\",\"marker\":{\"colorbar\":{\"outlinewidth\":0,\"ticks\":\"\"}}}],\"histogram\":[{\"marker\":{\"pattern\":{\"fillmode\":\"overlay\",\"size\":10,\"solidity\":0.2}},\"type\":\"histogram\"}],\"scattergl\":[{\"type\":\"scattergl\",\"marker\":{\"colorbar\":{\"outlinewidth\":0,\"ticks\":\"\"}}}],\"scatter3d\":[{\"type\":\"scatter3d\",\"line\":{\"colorbar\":{\"outlinewidth\":0,\"ticks\":\"\"}},\"marker\":{\"colorbar\":{\"outlinewidth\":0,\"ticks\":\"\"}}}],\"scattermapbox\":[{\"type\":\"scattermapbox\",\"marker\":{\"colorbar\":{\"outlinewidth\":0,\"ticks\":\"\"}}}],\"scatterternary\":[{\"type\":\"scatterternary\",\"marker\":{\"colorbar\":{\"outlinewidth\":0,\"ticks\":\"\"}}}],\"scattercarpet\":[{\"type\":\"scattercarpet\",\"marker\":{\"colorbar\":{\"outlinewidth\":0,\"ticks\":\"\"}}}],\"carpet\":[{\"aaxis\":{\"endlinecolor\":\"#2a3f5f\",\"gridcolor\":\"white\",\"linecolor\":\"white\",\"minorgridcolor\":\"white\",\"startlinecolor\":\"#2a3f5f\"},\"baxis\":{\"endlinecolor\":\"#2a3f5f\",\"gridcolor\":\"white\",\"linecolor\":\"white\",\"minorgridcolor\":\"white\",\"startlinecolor\":\"#2a3f5f\"},\"type\":\"carpet\"}],\"table\":[{\"cells\":{\"fill\":{\"color\":\"#EBF0F8\"},\"line\":{\"color\":\"white\"}},\"header\":{\"fill\":{\"color\":\"#C8D4E3\"},\"line\":{\"color\":\"white\"}},\"type\":\"table\"}],\"barpolar\":[{\"marker\":{\"line\":{\"color\":\"#E5ECF6\",\"width\":0.5},\"pattern\":{\"fillmode\":\"overlay\",\"size\":10,\"solidity\":0.2}},\"type\":\"barpolar\"}],\"pie\":[{\"automargin\":true,\"type\":\"pie\"}]},\"layout\":{\"autotypenumbers\":\"strict\",\"colorway\":[\"#636efa\",\"#EF553B\",\"#00cc96\",\"#ab63fa\",\"#FFA15A\",\"#19d3f3\",\"#FF6692\",\"#B6E880\",\"#FF97FF\",\"#FECB52\"],\"font\":{\"color\":\"#2a3f5f\"},\"hovermode\":\"closest\",\"hoverlabel\":{\"align\":\"left\"},\"paper_bgcolor\":\"white\",\"plot_bgcolor\":\"#E5ECF6\",\"polar\":{\"bgcolor\":\"#E5ECF6\",\"angularaxis\":{\"gridcolor\":\"white\",\"linecolor\":\"white\",\"ticks\":\"\"},\"radialaxis\":{\"gridcolor\":\"white\",\"linecolor\":\"white\",\"ticks\":\"\"}},\"ternary\":{\"bgcolor\":\"#E5ECF6\",\"aaxis\":{\"gridcolor\":\"white\",\"linecolor\":\"white\",\"ticks\":\"\"},\"baxis\":{\"gridcolor\":\"white\",\"linecolor\":\"white\",\"ticks\":\"\"},\"caxis\":{\"gridcolor\":\"white\",\"linecolor\":\"white\",\"ticks\":\"\"}},\"coloraxis\":{\"colorbar\":{\"outlinewidth\":0,\"ticks\":\"\"}},\"colorscale\":{\"sequential\":[[0.0,\"#0d0887\"],[0.1111111111111111,\"#46039f\"],[0.2222222222222222,\"#7201a8\"],[0.3333333333333333,\"#9c179e\"],[0.4444444444444444,\"#bd3786\"],[0.5555555555555556,\"#d8576b\"],[0.6666666666666666,\"#ed7953\"],[0.7777777777777778,\"#fb9f3a\"],[0.8888888888888888,\"#fdca26\"],[1.0,\"#f0f921\"]],\"sequentialminus\":[[0.0,\"#0d0887\"],[0.1111111111111111,\"#46039f\"],[0.2222222222222222,\"#7201a8\"],[0.3333333333333333,\"#9c179e\"],[0.4444444444444444,\"#bd3786\"],[0.5555555555555556,\"#d8576b\"],[0.6666666666666666,\"#ed7953\"],[0.7777777777777778,\"#fb9f3a\"],[0.8888888888888888,\"#fdca26\"],[1.0,\"#f0f921\"]],\"diverging\":[[0,\"#8e0152\"],[0.1,\"#c51b7d\"],[0.2,\"#de77ae\"],[0.3,\"#f1b6da\"],[0.4,\"#fde0ef\"],[0.5,\"#f7f7f7\"],[0.6,\"#e6f5d0\"],[0.7,\"#b8e186\"],[0.8,\"#7fbc41\"],[0.9,\"#4d9221\"],[1,\"#276419\"]]},\"xaxis\":{\"gridcolor\":\"white\",\"linecolor\":\"white\",\"ticks\":\"\",\"title\":{\"standoff\":15},\"zerolinecolor\":\"white\",\"automargin\":true,\"zerolinewidth\":2},\"yaxis\":{\"gridcolor\":\"white\",\"linecolor\":\"white\",\"ticks\":\"\",\"title\":{\"standoff\":15},\"zerolinecolor\":\"white\",\"automargin\":true,\"zerolinewidth\":2},\"scene\":{\"xaxis\":{\"backgroundcolor\":\"#E5ECF6\",\"gridcolor\":\"white\",\"linecolor\":\"white\",\"showbackground\":true,\"ticks\":\"\",\"zerolinecolor\":\"white\",\"gridwidth\":2},\"yaxis\":{\"backgroundcolor\":\"#E5ECF6\",\"gridcolor\":\"white\",\"linecolor\":\"white\",\"showbackground\":true,\"ticks\":\"\",\"zerolinecolor\":\"white\",\"gridwidth\":2},\"zaxis\":{\"backgroundcolor\":\"#E5ECF6\",\"gridcolor\":\"white\",\"linecolor\":\"white\",\"showbackground\":true,\"ticks\":\"\",\"zerolinecolor\":\"white\",\"gridwidth\":2}},\"shapedefaults\":{\"line\":{\"color\":\"#2a3f5f\"}},\"annotationdefaults\":{\"arrowcolor\":\"#2a3f5f\",\"arrowhead\":0,\"arrowwidth\":1},\"geo\":{\"bgcolor\":\"white\",\"landcolor\":\"#E5ECF6\",\"subunitcolor\":\"white\",\"showland\":true,\"showlakes\":true,\"lakecolor\":\"white\"},\"title\":{\"x\":0.05},\"mapbox\":{\"style\":\"light\"}}},\"xaxis\":{\"anchor\":\"y\",\"domain\":[0.0,0.46499999999999997],\"title\":{\"text\":\"Predicted\"}},\"yaxis\":{\"anchor\":\"x\",\"domain\":[0.6000000000000001,1.0],\"title\":{\"text\":\"Real\"}},\"xaxis2\":{\"anchor\":\"y2\",\"domain\":[0.0,0.46499999999999997],\"title\":{\"text\":\"false positive rate\"}},\"yaxis2\":{\"anchor\":\"x2\",\"domain\":[0.0,0.4],\"title\":{\"text\":\"true positive rate\"}},\"xaxis3\":{\"anchor\":\"y3\",\"domain\":[0.5349999999999999,0.9999999999999999],\"title\":{\"text\":\"recall\"}},\"yaxis3\":{\"anchor\":\"x3\",\"domain\":[0.0,0.4],\"title\":{\"text\":\"precision\"}},\"annotations\":[{\"font\":{\"size\":16},\"showarrow\":false,\"text\":\"Confusion matix\",\"x\":0.23249999999999998,\"xanchor\":\"center\",\"xref\":\"paper\",\"y\":1.0,\"yanchor\":\"bottom\",\"yref\":\"paper\"},{\"font\":{\"size\":16},\"showarrow\":false,\"text\":\"Classification metrics\",\"x\":0.7674999999999998,\"xanchor\":\"center\",\"xref\":\"paper\",\"y\":1.0,\"yanchor\":\"bottom\",\"yref\":\"paper\"},{\"font\":{\"size\":16},\"showarrow\":false,\"text\":\"ROC curve (AUC=0.614)\",\"x\":0.23249999999999998,\"xanchor\":\"center\",\"xref\":\"paper\",\"y\":0.4,\"yanchor\":\"bottom\",\"yref\":\"paper\"},{\"font\":{\"size\":16},\"showarrow\":false,\"text\":\"Precision - Recall curve\",\"x\":0.7674999999999998,\"xanchor\":\"center\",\"xref\":\"paper\",\"y\":0.4,\"yanchor\":\"bottom\",\"yref\":\"paper\"},{\"showarrow\":false,\"text\":\"0\",\"x\":0,\"xref\":\"x\",\"y\":0,\"yref\":\"y\",\"yshift\":10},{\"showarrow\":false,\"text\":\"5\",\"x\":0,\"xref\":\"x\",\"y\":1,\"yref\":\"y\",\"yshift\":10},{\"showarrow\":false,\"text\":\"0\",\"x\":1,\"xref\":\"x\",\"y\":0,\"yref\":\"y\",\"yshift\":10},{\"showarrow\":false,\"text\":\"59\",\"x\":1,\"xref\":\"x\",\"y\":1,\"yref\":\"y\",\"yshift\":10}],\"title\":{\"text\":\"Global report for: XGBoost Classifier\"},\"height\":800},                        {\"responsive\": true}                    ).then(function(){\n",
       "                            \n",
       "var gd = document.getElementById('67ca0176-d84b-4f62-9938-61b5f7f17a9f');\n",
       "var x = new MutationObserver(function (mutations, observer) {{\n",
       "        var display = window.getComputedStyle(gd).display;\n",
       "        if (!display || display === 'none') {{\n",
       "            console.log([gd, 'removed!']);\n",
       "            Plotly.purge(gd);\n",
       "            observer.disconnect();\n",
       "        }}\n",
       "}});\n",
       "\n",
       "// Listen for the removal of the full notebook cells\n",
       "var notebookContainer = gd.closest('#notebook-container');\n",
       "if (notebookContainer) {{\n",
       "    x.observe(notebookContainer, {childList: true});\n",
       "}}\n",
       "\n",
       "// Listen for the clearing of the current output cell\n",
       "var outputEl = gd.closest('.output');\n",
       "if (outputEl) {{\n",
       "    x.observe(outputEl, {childList: true});\n",
       "}}\n",
       "\n",
       "                        })                };                            </script>        </div>\n",
       "</body>\n",
       "</html>"
      ]
     },
     "metadata": {},
     "output_type": "display_data"
    }
   ],
   "source": [
    "from xgboost import XGBClassifier\n",
    "\n",
    "start = time.time()\n",
    "\n",
    "XGB_model = XGBClassifier(random_state=101,  booster='gbtree', min_child_weight= 23, max_depth= 6)\n",
    "XGB_model.fit(data_train, target_train)\n",
    "elapsed_time_2 = time.time() - start\n",
    "\n",
    "print(\n",
    "    f\"The model {XGB_model.__class__.__name__} was trained in \"\n",
    "    f\"{elapsed_time_2:.3f} seconds\"\n",
    ")\n",
    "\n",
    "evaluate(XGB_model, data_train, target_train, cv=5)\n",
    "scores_xgb = generate_classification_report(XGB_model, data_test, target_test, \"XGBoost Classifier\")"
   ]
  },
  {
   "cell_type": "markdown",
   "metadata": {
    "id": "JjZTbqQVk_Kn"
   },
   "source": [
    "# LBGM_model"
   ]
  },
  {
   "cell_type": "code",
   "execution_count": 120,
   "metadata": {
    "colab": {
     "base_uri": "https://localhost:8080/",
     "height": 869
    },
    "id": "WlVB17FTlBJ4",
    "outputId": "108f38f2-b447-4105-ec01-17146e3e355e"
   },
   "outputs": [
    {
     "name": "stdout",
     "output_type": "stream",
     "text": [
      "The model LGBMClassifier was trained in 0.034 seconds\n",
      "Brier Loss Score :     0.124 +/- 0.011\n",
      "ROC_AUC Score : 0.737 +/- 0.055\n"
     ]
    },
    {
     "data": {
      "text/html": [
       "<html>\n",
       "<head><meta charset=\"utf-8\" /></head>\n",
       "<body>\n",
       "    <div>            <script src=\"https://cdnjs.cloudflare.com/ajax/libs/mathjax/2.7.5/MathJax.js?config=TeX-AMS-MML_SVG\"></script><script type=\"text/javascript\">if (window.MathJax && window.MathJax.Hub && window.MathJax.Hub.Config) {window.MathJax.Hub.Config({SVG: {font: \"STIX-Web\"}});}</script>                <script type=\"text/javascript\">window.PlotlyConfig = {MathJaxConfig: 'local'};</script>\n",
       "        <script src=\"https://cdn.plot.ly/plotly-2.18.2.min.js\"></script>                <div id=\"baa74c09-9ac8-4b9b-a5a9-5d93f250dfaf\" class=\"plotly-graph-div\" style=\"height:800px; width:100%;\"></div>            <script type=\"text/javascript\">                                    window.PLOTLYENV=window.PLOTLYENV || {};                                    if (document.getElementById(\"baa74c09-9ac8-4b9b-a5a9-5d93f250dfaf\")) {                    Plotly.newPlot(                        \"baa74c09-9ac8-4b9b-a5a9-5d93f250dfaf\",                        [{\"colorscale\":[[0.0,\"#018571\"],[0.3333333333333333,\"#80cdc1\"],[0.6666666666666666,\"#dfc27d\"],[1.0,\"#a6611a\"]],\"showscale\":false,\"text\":[[\"0\",\"5\"],[\"3\",\"56\"]],\"x\":[\"0\",\"1\"],\"y\":[\"0\",\"1\"],\"z\":[[0,5],[3,56]],\"type\":\"heatmap\",\"xaxis\":\"x\",\"yaxis\":\"y\"},{\"cells\":{\"fill\":{\"color\":[\"#80cdc1\",\"#dfc27d\"]},\"line\":{\"color\":\"#a6611a\"},\"values\":[[\"accuray\",\"precision\",\"recall\",\"f1 score\",\"<b>area under the roc</b>\",\"<b>brier score loss</b>\"],[0.875,0.918,0.949,0.933,0.803,0.125]]},\"header\":{\"fill\":{\"color\":\"#018571\"},\"line\":{\"color\":\"#a6611a\"},\"values\":[\"Metric\",\"Score\"]},\"type\":\"table\",\"domain\":{\"x\":[0.5349999999999999,0.9999999999999999],\"y\":[0.6000000000000001,1.0]}},{\"fill\":\"tozeroy\",\"line\":{\"color\":\"#018571\"},\"mode\":\"lines\",\"name\":\"ROC curve\",\"showlegend\":false,\"text\":[0.002,0.046,0.048,0.618,0.63,0.645,0.805,0.879,0.976,0.983,0.985,0.995,0.996,0.997,0.997,0.998,0.998,0.999,0.999,0.999,1.0,1.0,1.0,1.0,1.0,1.0,1.0,1.0,1.0,1.0,1.0,1.0,1.0,1.0,1.0,1.0,1.0,1.0,1.0,1.0,1.0,1.0,1.0,1.0,1.0,1.0,1.0,1.0,1.0,1.0,1.0,1.0,1.0,1.0,1.0,1.0,1.0,1.0,1.0,1.0,1.0,1.0,1.0,1.0],\"x\":[0.0,0.0,0.0,0.2,0.2,0.4,0.4,0.6,0.6,1.0,1.0],\"y\":[0.0,0.017,0.508,0.508,0.831,0.831,0.881,0.881,0.898,0.898,1.0],\"type\":\"scatter\",\"xaxis\":\"x2\",\"yaxis\":\"y2\"},{\"line\":{\"color\":\"#a6611a\",\"dash\":\"dot\"},\"mode\":\"lines\",\"name\":\"Base line\",\"showlegend\":false,\"x\":[0.0,0.01694915254237288,0.5084745762711864,0.5084745762711864,0.8305084745762712,0.8305084745762712,0.8813559322033898,0.8813559322033898,0.8983050847457628,0.8983050847457628,1.0],\"y\":[0.0,0.01694915254237288,0.5084745762711864,0.5084745762711864,0.8305084745762712,0.8305084745762712,0.8813559322033898,0.8813559322033898,0.8983050847457628,0.8983050847457628,1.0],\"type\":\"scatter\",\"xaxis\":\"x2\",\"yaxis\":\"y2\"},{\"line\":{\"color\":\"#018571\"},\"mode\":\"lines\",\"name\":\"precision recall curve\",\"showlegend\":false,\"text\":[0.002,0.046,0.048,0.618,0.63,0.645,0.805,0.879,0.976,0.983,0.985,0.995,0.996,0.997,0.997,0.998,0.998,0.999,0.999,0.999,1.0,1.0,1.0,1.0,1.0,1.0,1.0,1.0,1.0,1.0,1.0,1.0,1.0,1.0,1.0,1.0,1.0,1.0,1.0,1.0,1.0,1.0,1.0,1.0,1.0,1.0,1.0,1.0,1.0,1.0,1.0,1.0,1.0,1.0,1.0,1.0,1.0,1.0,1.0,1.0,1.0,1.0,1.0,1.0],\"x\":[1.0,0.983,0.966,0.949,0.932,0.915,0.898,0.898,0.898,0.881,0.881,0.864,0.847,0.831,0.831,0.814,0.797,0.78,0.763,0.746,0.729,0.712,0.695,0.678,0.661,0.644,0.627,0.61,0.593,0.576,0.559,0.542,0.525,0.508,0.508,0.492,0.475,0.458,0.441,0.424,0.407,0.39,0.373,0.356,0.339,0.322,0.305,0.288,0.271,0.254,0.237,0.22,0.203,0.186,0.169,0.153,0.136,0.119,0.102,0.085,0.068,0.051,0.034,0.017,0.0],\"y\":[0.922,0.921,0.919,0.918,0.917,0.915,0.914,0.93,0.946,0.945,0.963,0.962,0.962,0.961,0.98,0.98,0.979,0.979,0.978,0.978,0.977,0.977,0.976,0.976,0.975,0.974,0.974,0.973,0.972,0.971,0.971,0.97,0.969,0.968,1.0,1.0,1.0,1.0,1.0,1.0,1.0,1.0,1.0,1.0,1.0,1.0,1.0,1.0,1.0,1.0,1.0,1.0,1.0,1.0,1.0,1.0,1.0,1.0,1.0,1.0,1.0,1.0,1.0,1.0,1.0],\"type\":\"scatter\",\"xaxis\":\"x3\",\"yaxis\":\"y3\"}],                        {\"template\":{\"data\":{\"histogram2dcontour\":[{\"type\":\"histogram2dcontour\",\"colorbar\":{\"outlinewidth\":0,\"ticks\":\"\"},\"colorscale\":[[0.0,\"#0d0887\"],[0.1111111111111111,\"#46039f\"],[0.2222222222222222,\"#7201a8\"],[0.3333333333333333,\"#9c179e\"],[0.4444444444444444,\"#bd3786\"],[0.5555555555555556,\"#d8576b\"],[0.6666666666666666,\"#ed7953\"],[0.7777777777777778,\"#fb9f3a\"],[0.8888888888888888,\"#fdca26\"],[1.0,\"#f0f921\"]]}],\"choropleth\":[{\"type\":\"choropleth\",\"colorbar\":{\"outlinewidth\":0,\"ticks\":\"\"}}],\"histogram2d\":[{\"type\":\"histogram2d\",\"colorbar\":{\"outlinewidth\":0,\"ticks\":\"\"},\"colorscale\":[[0.0,\"#0d0887\"],[0.1111111111111111,\"#46039f\"],[0.2222222222222222,\"#7201a8\"],[0.3333333333333333,\"#9c179e\"],[0.4444444444444444,\"#bd3786\"],[0.5555555555555556,\"#d8576b\"],[0.6666666666666666,\"#ed7953\"],[0.7777777777777778,\"#fb9f3a\"],[0.8888888888888888,\"#fdca26\"],[1.0,\"#f0f921\"]]}],\"heatmap\":[{\"type\":\"heatmap\",\"colorbar\":{\"outlinewidth\":0,\"ticks\":\"\"},\"colorscale\":[[0.0,\"#0d0887\"],[0.1111111111111111,\"#46039f\"],[0.2222222222222222,\"#7201a8\"],[0.3333333333333333,\"#9c179e\"],[0.4444444444444444,\"#bd3786\"],[0.5555555555555556,\"#d8576b\"],[0.6666666666666666,\"#ed7953\"],[0.7777777777777778,\"#fb9f3a\"],[0.8888888888888888,\"#fdca26\"],[1.0,\"#f0f921\"]]}],\"heatmapgl\":[{\"type\":\"heatmapgl\",\"colorbar\":{\"outlinewidth\":0,\"ticks\":\"\"},\"colorscale\":[[0.0,\"#0d0887\"],[0.1111111111111111,\"#46039f\"],[0.2222222222222222,\"#7201a8\"],[0.3333333333333333,\"#9c179e\"],[0.4444444444444444,\"#bd3786\"],[0.5555555555555556,\"#d8576b\"],[0.6666666666666666,\"#ed7953\"],[0.7777777777777778,\"#fb9f3a\"],[0.8888888888888888,\"#fdca26\"],[1.0,\"#f0f921\"]]}],\"contourcarpet\":[{\"type\":\"contourcarpet\",\"colorbar\":{\"outlinewidth\":0,\"ticks\":\"\"}}],\"contour\":[{\"type\":\"contour\",\"colorbar\":{\"outlinewidth\":0,\"ticks\":\"\"},\"colorscale\":[[0.0,\"#0d0887\"],[0.1111111111111111,\"#46039f\"],[0.2222222222222222,\"#7201a8\"],[0.3333333333333333,\"#9c179e\"],[0.4444444444444444,\"#bd3786\"],[0.5555555555555556,\"#d8576b\"],[0.6666666666666666,\"#ed7953\"],[0.7777777777777778,\"#fb9f3a\"],[0.8888888888888888,\"#fdca26\"],[1.0,\"#f0f921\"]]}],\"surface\":[{\"type\":\"surface\",\"colorbar\":{\"outlinewidth\":0,\"ticks\":\"\"},\"colorscale\":[[0.0,\"#0d0887\"],[0.1111111111111111,\"#46039f\"],[0.2222222222222222,\"#7201a8\"],[0.3333333333333333,\"#9c179e\"],[0.4444444444444444,\"#bd3786\"],[0.5555555555555556,\"#d8576b\"],[0.6666666666666666,\"#ed7953\"],[0.7777777777777778,\"#fb9f3a\"],[0.8888888888888888,\"#fdca26\"],[1.0,\"#f0f921\"]]}],\"mesh3d\":[{\"type\":\"mesh3d\",\"colorbar\":{\"outlinewidth\":0,\"ticks\":\"\"}}],\"scatter\":[{\"fillpattern\":{\"fillmode\":\"overlay\",\"size\":10,\"solidity\":0.2},\"type\":\"scatter\"}],\"parcoords\":[{\"type\":\"parcoords\",\"line\":{\"colorbar\":{\"outlinewidth\":0,\"ticks\":\"\"}}}],\"scatterpolargl\":[{\"type\":\"scatterpolargl\",\"marker\":{\"colorbar\":{\"outlinewidth\":0,\"ticks\":\"\"}}}],\"bar\":[{\"error_x\":{\"color\":\"#2a3f5f\"},\"error_y\":{\"color\":\"#2a3f5f\"},\"marker\":{\"line\":{\"color\":\"#E5ECF6\",\"width\":0.5},\"pattern\":{\"fillmode\":\"overlay\",\"size\":10,\"solidity\":0.2}},\"type\":\"bar\"}],\"scattergeo\":[{\"type\":\"scattergeo\",\"marker\":{\"colorbar\":{\"outlinewidth\":0,\"ticks\":\"\"}}}],\"scatterpolar\":[{\"type\":\"scatterpolar\",\"marker\":{\"colorbar\":{\"outlinewidth\":0,\"ticks\":\"\"}}}],\"histogram\":[{\"marker\":{\"pattern\":{\"fillmode\":\"overlay\",\"size\":10,\"solidity\":0.2}},\"type\":\"histogram\"}],\"scattergl\":[{\"type\":\"scattergl\",\"marker\":{\"colorbar\":{\"outlinewidth\":0,\"ticks\":\"\"}}}],\"scatter3d\":[{\"type\":\"scatter3d\",\"line\":{\"colorbar\":{\"outlinewidth\":0,\"ticks\":\"\"}},\"marker\":{\"colorbar\":{\"outlinewidth\":0,\"ticks\":\"\"}}}],\"scattermapbox\":[{\"type\":\"scattermapbox\",\"marker\":{\"colorbar\":{\"outlinewidth\":0,\"ticks\":\"\"}}}],\"scatterternary\":[{\"type\":\"scatterternary\",\"marker\":{\"colorbar\":{\"outlinewidth\":0,\"ticks\":\"\"}}}],\"scattercarpet\":[{\"type\":\"scattercarpet\",\"marker\":{\"colorbar\":{\"outlinewidth\":0,\"ticks\":\"\"}}}],\"carpet\":[{\"aaxis\":{\"endlinecolor\":\"#2a3f5f\",\"gridcolor\":\"white\",\"linecolor\":\"white\",\"minorgridcolor\":\"white\",\"startlinecolor\":\"#2a3f5f\"},\"baxis\":{\"endlinecolor\":\"#2a3f5f\",\"gridcolor\":\"white\",\"linecolor\":\"white\",\"minorgridcolor\":\"white\",\"startlinecolor\":\"#2a3f5f\"},\"type\":\"carpet\"}],\"table\":[{\"cells\":{\"fill\":{\"color\":\"#EBF0F8\"},\"line\":{\"color\":\"white\"}},\"header\":{\"fill\":{\"color\":\"#C8D4E3\"},\"line\":{\"color\":\"white\"}},\"type\":\"table\"}],\"barpolar\":[{\"marker\":{\"line\":{\"color\":\"#E5ECF6\",\"width\":0.5},\"pattern\":{\"fillmode\":\"overlay\",\"size\":10,\"solidity\":0.2}},\"type\":\"barpolar\"}],\"pie\":[{\"automargin\":true,\"type\":\"pie\"}]},\"layout\":{\"autotypenumbers\":\"strict\",\"colorway\":[\"#636efa\",\"#EF553B\",\"#00cc96\",\"#ab63fa\",\"#FFA15A\",\"#19d3f3\",\"#FF6692\",\"#B6E880\",\"#FF97FF\",\"#FECB52\"],\"font\":{\"color\":\"#2a3f5f\"},\"hovermode\":\"closest\",\"hoverlabel\":{\"align\":\"left\"},\"paper_bgcolor\":\"white\",\"plot_bgcolor\":\"#E5ECF6\",\"polar\":{\"bgcolor\":\"#E5ECF6\",\"angularaxis\":{\"gridcolor\":\"white\",\"linecolor\":\"white\",\"ticks\":\"\"},\"radialaxis\":{\"gridcolor\":\"white\",\"linecolor\":\"white\",\"ticks\":\"\"}},\"ternary\":{\"bgcolor\":\"#E5ECF6\",\"aaxis\":{\"gridcolor\":\"white\",\"linecolor\":\"white\",\"ticks\":\"\"},\"baxis\":{\"gridcolor\":\"white\",\"linecolor\":\"white\",\"ticks\":\"\"},\"caxis\":{\"gridcolor\":\"white\",\"linecolor\":\"white\",\"ticks\":\"\"}},\"coloraxis\":{\"colorbar\":{\"outlinewidth\":0,\"ticks\":\"\"}},\"colorscale\":{\"sequential\":[[0.0,\"#0d0887\"],[0.1111111111111111,\"#46039f\"],[0.2222222222222222,\"#7201a8\"],[0.3333333333333333,\"#9c179e\"],[0.4444444444444444,\"#bd3786\"],[0.5555555555555556,\"#d8576b\"],[0.6666666666666666,\"#ed7953\"],[0.7777777777777778,\"#fb9f3a\"],[0.8888888888888888,\"#fdca26\"],[1.0,\"#f0f921\"]],\"sequentialminus\":[[0.0,\"#0d0887\"],[0.1111111111111111,\"#46039f\"],[0.2222222222222222,\"#7201a8\"],[0.3333333333333333,\"#9c179e\"],[0.4444444444444444,\"#bd3786\"],[0.5555555555555556,\"#d8576b\"],[0.6666666666666666,\"#ed7953\"],[0.7777777777777778,\"#fb9f3a\"],[0.8888888888888888,\"#fdca26\"],[1.0,\"#f0f921\"]],\"diverging\":[[0,\"#8e0152\"],[0.1,\"#c51b7d\"],[0.2,\"#de77ae\"],[0.3,\"#f1b6da\"],[0.4,\"#fde0ef\"],[0.5,\"#f7f7f7\"],[0.6,\"#e6f5d0\"],[0.7,\"#b8e186\"],[0.8,\"#7fbc41\"],[0.9,\"#4d9221\"],[1,\"#276419\"]]},\"xaxis\":{\"gridcolor\":\"white\",\"linecolor\":\"white\",\"ticks\":\"\",\"title\":{\"standoff\":15},\"zerolinecolor\":\"white\",\"automargin\":true,\"zerolinewidth\":2},\"yaxis\":{\"gridcolor\":\"white\",\"linecolor\":\"white\",\"ticks\":\"\",\"title\":{\"standoff\":15},\"zerolinecolor\":\"white\",\"automargin\":true,\"zerolinewidth\":2},\"scene\":{\"xaxis\":{\"backgroundcolor\":\"#E5ECF6\",\"gridcolor\":\"white\",\"linecolor\":\"white\",\"showbackground\":true,\"ticks\":\"\",\"zerolinecolor\":\"white\",\"gridwidth\":2},\"yaxis\":{\"backgroundcolor\":\"#E5ECF6\",\"gridcolor\":\"white\",\"linecolor\":\"white\",\"showbackground\":true,\"ticks\":\"\",\"zerolinecolor\":\"white\",\"gridwidth\":2},\"zaxis\":{\"backgroundcolor\":\"#E5ECF6\",\"gridcolor\":\"white\",\"linecolor\":\"white\",\"showbackground\":true,\"ticks\":\"\",\"zerolinecolor\":\"white\",\"gridwidth\":2}},\"shapedefaults\":{\"line\":{\"color\":\"#2a3f5f\"}},\"annotationdefaults\":{\"arrowcolor\":\"#2a3f5f\",\"arrowhead\":0,\"arrowwidth\":1},\"geo\":{\"bgcolor\":\"white\",\"landcolor\":\"#E5ECF6\",\"subunitcolor\":\"white\",\"showland\":true,\"showlakes\":true,\"lakecolor\":\"white\"},\"title\":{\"x\":0.05},\"mapbox\":{\"style\":\"light\"}}},\"xaxis\":{\"anchor\":\"y\",\"domain\":[0.0,0.46499999999999997],\"title\":{\"text\":\"Predicted\"}},\"yaxis\":{\"anchor\":\"x\",\"domain\":[0.6000000000000001,1.0],\"title\":{\"text\":\"Real\"}},\"xaxis2\":{\"anchor\":\"y2\",\"domain\":[0.0,0.46499999999999997],\"title\":{\"text\":\"false positive rate\"}},\"yaxis2\":{\"anchor\":\"x2\",\"domain\":[0.0,0.4],\"title\":{\"text\":\"true positive rate\"}},\"xaxis3\":{\"anchor\":\"y3\",\"domain\":[0.5349999999999999,0.9999999999999999],\"title\":{\"text\":\"recall\"}},\"yaxis3\":{\"anchor\":\"x3\",\"domain\":[0.0,0.4],\"title\":{\"text\":\"precision\"}},\"annotations\":[{\"font\":{\"size\":16},\"showarrow\":false,\"text\":\"Confusion matix\",\"x\":0.23249999999999998,\"xanchor\":\"center\",\"xref\":\"paper\",\"y\":1.0,\"yanchor\":\"bottom\",\"yref\":\"paper\"},{\"font\":{\"size\":16},\"showarrow\":false,\"text\":\"Classification metrics\",\"x\":0.7674999999999998,\"xanchor\":\"center\",\"xref\":\"paper\",\"y\":1.0,\"yanchor\":\"bottom\",\"yref\":\"paper\"},{\"font\":{\"size\":16},\"showarrow\":false,\"text\":\"ROC curve (AUC=0.803)\",\"x\":0.23249999999999998,\"xanchor\":\"center\",\"xref\":\"paper\",\"y\":0.4,\"yanchor\":\"bottom\",\"yref\":\"paper\"},{\"font\":{\"size\":16},\"showarrow\":false,\"text\":\"Precision - Recall curve\",\"x\":0.7674999999999998,\"xanchor\":\"center\",\"xref\":\"paper\",\"y\":0.4,\"yanchor\":\"bottom\",\"yref\":\"paper\"},{\"showarrow\":false,\"text\":\"0\",\"x\":0,\"xref\":\"x\",\"y\":0,\"yref\":\"y\",\"yshift\":10},{\"showarrow\":false,\"text\":\"5\",\"x\":0,\"xref\":\"x\",\"y\":1,\"yref\":\"y\",\"yshift\":10},{\"showarrow\":false,\"text\":\"3\",\"x\":1,\"xref\":\"x\",\"y\":0,\"yref\":\"y\",\"yshift\":10},{\"showarrow\":false,\"text\":\"56\",\"x\":1,\"xref\":\"x\",\"y\":1,\"yref\":\"y\",\"yshift\":10}],\"title\":{\"text\":\"Global report for: LGBM Classifier\"},\"height\":800},                        {\"responsive\": true}                    ).then(function(){\n",
       "                            \n",
       "var gd = document.getElementById('baa74c09-9ac8-4b9b-a5a9-5d93f250dfaf');\n",
       "var x = new MutationObserver(function (mutations, observer) {{\n",
       "        var display = window.getComputedStyle(gd).display;\n",
       "        if (!display || display === 'none') {{\n",
       "            console.log([gd, 'removed!']);\n",
       "            Plotly.purge(gd);\n",
       "            observer.disconnect();\n",
       "        }}\n",
       "}});\n",
       "\n",
       "// Listen for the removal of the full notebook cells\n",
       "var notebookContainer = gd.closest('#notebook-container');\n",
       "if (notebookContainer) {{\n",
       "    x.observe(notebookContainer, {childList: true});\n",
       "}}\n",
       "\n",
       "// Listen for the clearing of the current output cell\n",
       "var outputEl = gd.closest('.output');\n",
       "if (outputEl) {{\n",
       "    x.observe(outputEl, {childList: true});\n",
       "}}\n",
       "\n",
       "                        })                };                            </script>        </div>\n",
       "</body>\n",
       "</html>"
      ]
     },
     "metadata": {},
     "output_type": "display_data"
    }
   ],
   "source": [
    "from lightgbm import LGBMClassifier\n",
    "\n",
    "start = time.time()\n",
    "LBGM_model = LGBMClassifier(boosting_type='gbdt', n_estimators=100, learning_rate=0.288, num_leaves= 720, max_depth= 4)\n",
    "LBGM_model.fit(data_train, target_train)\n",
    "elapsed_time_2 = time.time() - start\n",
    "\n",
    "print(\n",
    "    f\"The model {LBGM_model.__class__.__name__} was trained in \"\n",
    "    f\"{elapsed_time_2:.3f} seconds\"\n",
    ")\n",
    "\n",
    "evaluate(LBGM_model, data_train, target_train, cv=5)\n",
    "scores_lgbm = generate_classification_report(LBGM_model, data_test , target_test, \"LGBM Classifier\")"
   ]
  },
  {
   "cell_type": "markdown",
   "metadata": {
    "id": "KZLKnNSFk2qj"
   },
   "source": [
    "# VotingClassifier :"
   ]
  },
  {
   "cell_type": "code",
   "execution_count": 121,
   "metadata": {
    "colab": {
     "base_uri": "https://localhost:8080/",
     "height": 869
    },
    "id": "rNAws0dKk3Zj",
    "outputId": "d5b7eacc-0fa9-499d-c8bf-4ddf253a2abb"
   },
   "outputs": [
    {
     "name": "stdout",
     "output_type": "stream",
     "text": [
      "The model VotingClassifier was trained in 0.335 seconds\n",
      "Brier Loss Score :     0.105 +/- 0.008\n",
      "ROC_AUC Score : 0.723 +/- 0.065\n"
     ]
    },
    {
     "data": {
      "text/html": [
       "<html>\n",
       "<head><meta charset=\"utf-8\" /></head>\n",
       "<body>\n",
       "    <div>            <script src=\"https://cdnjs.cloudflare.com/ajax/libs/mathjax/2.7.5/MathJax.js?config=TeX-AMS-MML_SVG\"></script><script type=\"text/javascript\">if (window.MathJax && window.MathJax.Hub && window.MathJax.Hub.Config) {window.MathJax.Hub.Config({SVG: {font: \"STIX-Web\"}});}</script>                <script type=\"text/javascript\">window.PlotlyConfig = {MathJaxConfig: 'local'};</script>\n",
       "        <script src=\"https://cdn.plot.ly/plotly-2.18.2.min.js\"></script>                <div id=\"67a1aa0d-d58d-4d11-8c91-f158d20be5fe\" class=\"plotly-graph-div\" style=\"height:800px; width:100%;\"></div>            <script type=\"text/javascript\">                                    window.PLOTLYENV=window.PLOTLYENV || {};                                    if (document.getElementById(\"67a1aa0d-d58d-4d11-8c91-f158d20be5fe\")) {                    Plotly.newPlot(                        \"67a1aa0d-d58d-4d11-8c91-f158d20be5fe\",                        [{\"colorscale\":[[0.0,\"#018571\"],[0.3333333333333333,\"#80cdc1\"],[0.6666666666666666,\"#dfc27d\"],[1.0,\"#a6611a\"]],\"showscale\":false,\"text\":[[\"0\",\"5\"],[\"0\",\"59\"]],\"x\":[\"0\",\"1\"],\"y\":[\"0\",\"1\"],\"z\":[[0,5],[0,59]],\"type\":\"heatmap\",\"xaxis\":\"x\",\"yaxis\":\"y\"},{\"cells\":{\"fill\":{\"color\":[\"#80cdc1\",\"#dfc27d\"]},\"line\":{\"color\":\"#a6611a\"},\"values\":[[\"accuray\",\"precision\",\"recall\",\"f1 score\",\"<b>area under the roc</b>\",\"<b>brier score loss</b>\"],[0.922,0.922,1.0,0.959,0.803,0.078]]},\"header\":{\"fill\":{\"color\":\"#018571\"},\"line\":{\"color\":\"#a6611a\"},\"values\":[\"Metric\",\"Score\"]},\"type\":\"table\",\"domain\":{\"x\":[0.5349999999999999,0.9999999999999999],\"y\":[0.6000000000000001,1.0]}},{\"fill\":\"tozeroy\",\"line\":{\"color\":\"#018571\"},\"mode\":\"lines\",\"name\":\"ROC curve\",\"showlegend\":false,\"text\":[0.506,0.541,0.571,0.737,0.745,0.755,0.776,0.789,0.822,0.831,0.833,0.84,0.849,0.851,0.857,0.859,0.861,0.865,0.865,0.87,0.871,0.872,0.875,0.876,0.878,0.881,0.881,0.881,0.883,0.883,0.884,0.887,0.888,0.89,0.89,0.892,0.894,0.896,0.899,0.901,0.901,0.904,0.904,0.905,0.909,0.91,0.911,0.911,0.917,0.917,0.917,0.918,0.919,0.925,0.929,0.93,0.93,0.931,0.933,0.935,0.938,0.938,0.939,0.943],\"x\":[0.0,0.0,0.0,0.2,0.2,0.4,0.4,0.8,0.8,1.0,1.0],\"y\":[0.0,0.017,0.593,0.593,0.695,0.695,0.898,0.898,0.932,0.932,1.0],\"type\":\"scatter\",\"xaxis\":\"x2\",\"yaxis\":\"y2\"},{\"line\":{\"color\":\"#a6611a\",\"dash\":\"dot\"},\"mode\":\"lines\",\"name\":\"Base line\",\"showlegend\":false,\"x\":[0.0,0.01694915254237288,0.5932203389830508,0.5932203389830508,0.6949152542372882,0.6949152542372882,0.8983050847457628,0.8983050847457628,0.9322033898305084,0.9322033898305084,1.0],\"y\":[0.0,0.01694915254237288,0.5932203389830508,0.5932203389830508,0.6949152542372882,0.6949152542372882,0.8983050847457628,0.8983050847457628,0.9322033898305084,0.9322033898305084,1.0],\"type\":\"scatter\",\"xaxis\":\"x2\",\"yaxis\":\"y2\"},{\"line\":{\"color\":\"#018571\"},\"mode\":\"lines\",\"name\":\"precision recall curve\",\"showlegend\":false,\"text\":[0.506,0.541,0.571,0.737,0.745,0.755,0.776,0.789,0.822,0.831,0.833,0.84,0.849,0.851,0.857,0.859,0.861,0.865,0.865,0.87,0.871,0.872,0.875,0.876,0.878,0.881,0.881,0.881,0.883,0.883,0.884,0.887,0.888,0.89,0.89,0.892,0.894,0.896,0.899,0.901,0.901,0.904,0.904,0.905,0.909,0.91,0.911,0.911,0.917,0.917,0.917,0.918,0.919,0.925,0.929,0.93,0.93,0.931,0.933,0.935,0.938,0.938,0.939,0.943],\"x\":[1.0,0.983,0.966,0.949,0.932,0.932,0.915,0.898,0.898,0.898,0.881,0.864,0.847,0.831,0.814,0.797,0.78,0.763,0.746,0.729,0.712,0.695,0.695,0.678,0.661,0.644,0.627,0.61,0.593,0.593,0.576,0.559,0.542,0.525,0.508,0.492,0.475,0.458,0.441,0.424,0.407,0.39,0.373,0.356,0.339,0.322,0.305,0.288,0.271,0.254,0.237,0.22,0.203,0.186,0.169,0.153,0.136,0.119,0.102,0.085,0.068,0.051,0.034,0.017,0.0],\"y\":[0.922,0.921,0.919,0.918,0.917,0.932,0.931,0.93,0.946,0.964,0.963,0.962,0.962,0.961,0.96,0.959,0.958,0.957,0.957,0.956,0.955,0.953,0.976,0.976,0.975,0.974,0.974,0.973,0.972,1.0,1.0,1.0,1.0,1.0,1.0,1.0,1.0,1.0,1.0,1.0,1.0,1.0,1.0,1.0,1.0,1.0,1.0,1.0,1.0,1.0,1.0,1.0,1.0,1.0,1.0,1.0,1.0,1.0,1.0,1.0,1.0,1.0,1.0,1.0,1.0],\"type\":\"scatter\",\"xaxis\":\"x3\",\"yaxis\":\"y3\"}],                        {\"template\":{\"data\":{\"histogram2dcontour\":[{\"type\":\"histogram2dcontour\",\"colorbar\":{\"outlinewidth\":0,\"ticks\":\"\"},\"colorscale\":[[0.0,\"#0d0887\"],[0.1111111111111111,\"#46039f\"],[0.2222222222222222,\"#7201a8\"],[0.3333333333333333,\"#9c179e\"],[0.4444444444444444,\"#bd3786\"],[0.5555555555555556,\"#d8576b\"],[0.6666666666666666,\"#ed7953\"],[0.7777777777777778,\"#fb9f3a\"],[0.8888888888888888,\"#fdca26\"],[1.0,\"#f0f921\"]]}],\"choropleth\":[{\"type\":\"choropleth\",\"colorbar\":{\"outlinewidth\":0,\"ticks\":\"\"}}],\"histogram2d\":[{\"type\":\"histogram2d\",\"colorbar\":{\"outlinewidth\":0,\"ticks\":\"\"},\"colorscale\":[[0.0,\"#0d0887\"],[0.1111111111111111,\"#46039f\"],[0.2222222222222222,\"#7201a8\"],[0.3333333333333333,\"#9c179e\"],[0.4444444444444444,\"#bd3786\"],[0.5555555555555556,\"#d8576b\"],[0.6666666666666666,\"#ed7953\"],[0.7777777777777778,\"#fb9f3a\"],[0.8888888888888888,\"#fdca26\"],[1.0,\"#f0f921\"]]}],\"heatmap\":[{\"type\":\"heatmap\",\"colorbar\":{\"outlinewidth\":0,\"ticks\":\"\"},\"colorscale\":[[0.0,\"#0d0887\"],[0.1111111111111111,\"#46039f\"],[0.2222222222222222,\"#7201a8\"],[0.3333333333333333,\"#9c179e\"],[0.4444444444444444,\"#bd3786\"],[0.5555555555555556,\"#d8576b\"],[0.6666666666666666,\"#ed7953\"],[0.7777777777777778,\"#fb9f3a\"],[0.8888888888888888,\"#fdca26\"],[1.0,\"#f0f921\"]]}],\"heatmapgl\":[{\"type\":\"heatmapgl\",\"colorbar\":{\"outlinewidth\":0,\"ticks\":\"\"},\"colorscale\":[[0.0,\"#0d0887\"],[0.1111111111111111,\"#46039f\"],[0.2222222222222222,\"#7201a8\"],[0.3333333333333333,\"#9c179e\"],[0.4444444444444444,\"#bd3786\"],[0.5555555555555556,\"#d8576b\"],[0.6666666666666666,\"#ed7953\"],[0.7777777777777778,\"#fb9f3a\"],[0.8888888888888888,\"#fdca26\"],[1.0,\"#f0f921\"]]}],\"contourcarpet\":[{\"type\":\"contourcarpet\",\"colorbar\":{\"outlinewidth\":0,\"ticks\":\"\"}}],\"contour\":[{\"type\":\"contour\",\"colorbar\":{\"outlinewidth\":0,\"ticks\":\"\"},\"colorscale\":[[0.0,\"#0d0887\"],[0.1111111111111111,\"#46039f\"],[0.2222222222222222,\"#7201a8\"],[0.3333333333333333,\"#9c179e\"],[0.4444444444444444,\"#bd3786\"],[0.5555555555555556,\"#d8576b\"],[0.6666666666666666,\"#ed7953\"],[0.7777777777777778,\"#fb9f3a\"],[0.8888888888888888,\"#fdca26\"],[1.0,\"#f0f921\"]]}],\"surface\":[{\"type\":\"surface\",\"colorbar\":{\"outlinewidth\":0,\"ticks\":\"\"},\"colorscale\":[[0.0,\"#0d0887\"],[0.1111111111111111,\"#46039f\"],[0.2222222222222222,\"#7201a8\"],[0.3333333333333333,\"#9c179e\"],[0.4444444444444444,\"#bd3786\"],[0.5555555555555556,\"#d8576b\"],[0.6666666666666666,\"#ed7953\"],[0.7777777777777778,\"#fb9f3a\"],[0.8888888888888888,\"#fdca26\"],[1.0,\"#f0f921\"]]}],\"mesh3d\":[{\"type\":\"mesh3d\",\"colorbar\":{\"outlinewidth\":0,\"ticks\":\"\"}}],\"scatter\":[{\"fillpattern\":{\"fillmode\":\"overlay\",\"size\":10,\"solidity\":0.2},\"type\":\"scatter\"}],\"parcoords\":[{\"type\":\"parcoords\",\"line\":{\"colorbar\":{\"outlinewidth\":0,\"ticks\":\"\"}}}],\"scatterpolargl\":[{\"type\":\"scatterpolargl\",\"marker\":{\"colorbar\":{\"outlinewidth\":0,\"ticks\":\"\"}}}],\"bar\":[{\"error_x\":{\"color\":\"#2a3f5f\"},\"error_y\":{\"color\":\"#2a3f5f\"},\"marker\":{\"line\":{\"color\":\"#E5ECF6\",\"width\":0.5},\"pattern\":{\"fillmode\":\"overlay\",\"size\":10,\"solidity\":0.2}},\"type\":\"bar\"}],\"scattergeo\":[{\"type\":\"scattergeo\",\"marker\":{\"colorbar\":{\"outlinewidth\":0,\"ticks\":\"\"}}}],\"scatterpolar\":[{\"type\":\"scatterpolar\",\"marker\":{\"colorbar\":{\"outlinewidth\":0,\"ticks\":\"\"}}}],\"histogram\":[{\"marker\":{\"pattern\":{\"fillmode\":\"overlay\",\"size\":10,\"solidity\":0.2}},\"type\":\"histogram\"}],\"scattergl\":[{\"type\":\"scattergl\",\"marker\":{\"colorbar\":{\"outlinewidth\":0,\"ticks\":\"\"}}}],\"scatter3d\":[{\"type\":\"scatter3d\",\"line\":{\"colorbar\":{\"outlinewidth\":0,\"ticks\":\"\"}},\"marker\":{\"colorbar\":{\"outlinewidth\":0,\"ticks\":\"\"}}}],\"scattermapbox\":[{\"type\":\"scattermapbox\",\"marker\":{\"colorbar\":{\"outlinewidth\":0,\"ticks\":\"\"}}}],\"scatterternary\":[{\"type\":\"scatterternary\",\"marker\":{\"colorbar\":{\"outlinewidth\":0,\"ticks\":\"\"}}}],\"scattercarpet\":[{\"type\":\"scattercarpet\",\"marker\":{\"colorbar\":{\"outlinewidth\":0,\"ticks\":\"\"}}}],\"carpet\":[{\"aaxis\":{\"endlinecolor\":\"#2a3f5f\",\"gridcolor\":\"white\",\"linecolor\":\"white\",\"minorgridcolor\":\"white\",\"startlinecolor\":\"#2a3f5f\"},\"baxis\":{\"endlinecolor\":\"#2a3f5f\",\"gridcolor\":\"white\",\"linecolor\":\"white\",\"minorgridcolor\":\"white\",\"startlinecolor\":\"#2a3f5f\"},\"type\":\"carpet\"}],\"table\":[{\"cells\":{\"fill\":{\"color\":\"#EBF0F8\"},\"line\":{\"color\":\"white\"}},\"header\":{\"fill\":{\"color\":\"#C8D4E3\"},\"line\":{\"color\":\"white\"}},\"type\":\"table\"}],\"barpolar\":[{\"marker\":{\"line\":{\"color\":\"#E5ECF6\",\"width\":0.5},\"pattern\":{\"fillmode\":\"overlay\",\"size\":10,\"solidity\":0.2}},\"type\":\"barpolar\"}],\"pie\":[{\"automargin\":true,\"type\":\"pie\"}]},\"layout\":{\"autotypenumbers\":\"strict\",\"colorway\":[\"#636efa\",\"#EF553B\",\"#00cc96\",\"#ab63fa\",\"#FFA15A\",\"#19d3f3\",\"#FF6692\",\"#B6E880\",\"#FF97FF\",\"#FECB52\"],\"font\":{\"color\":\"#2a3f5f\"},\"hovermode\":\"closest\",\"hoverlabel\":{\"align\":\"left\"},\"paper_bgcolor\":\"white\",\"plot_bgcolor\":\"#E5ECF6\",\"polar\":{\"bgcolor\":\"#E5ECF6\",\"angularaxis\":{\"gridcolor\":\"white\",\"linecolor\":\"white\",\"ticks\":\"\"},\"radialaxis\":{\"gridcolor\":\"white\",\"linecolor\":\"white\",\"ticks\":\"\"}},\"ternary\":{\"bgcolor\":\"#E5ECF6\",\"aaxis\":{\"gridcolor\":\"white\",\"linecolor\":\"white\",\"ticks\":\"\"},\"baxis\":{\"gridcolor\":\"white\",\"linecolor\":\"white\",\"ticks\":\"\"},\"caxis\":{\"gridcolor\":\"white\",\"linecolor\":\"white\",\"ticks\":\"\"}},\"coloraxis\":{\"colorbar\":{\"outlinewidth\":0,\"ticks\":\"\"}},\"colorscale\":{\"sequential\":[[0.0,\"#0d0887\"],[0.1111111111111111,\"#46039f\"],[0.2222222222222222,\"#7201a8\"],[0.3333333333333333,\"#9c179e\"],[0.4444444444444444,\"#bd3786\"],[0.5555555555555556,\"#d8576b\"],[0.6666666666666666,\"#ed7953\"],[0.7777777777777778,\"#fb9f3a\"],[0.8888888888888888,\"#fdca26\"],[1.0,\"#f0f921\"]],\"sequentialminus\":[[0.0,\"#0d0887\"],[0.1111111111111111,\"#46039f\"],[0.2222222222222222,\"#7201a8\"],[0.3333333333333333,\"#9c179e\"],[0.4444444444444444,\"#bd3786\"],[0.5555555555555556,\"#d8576b\"],[0.6666666666666666,\"#ed7953\"],[0.7777777777777778,\"#fb9f3a\"],[0.8888888888888888,\"#fdca26\"],[1.0,\"#f0f921\"]],\"diverging\":[[0,\"#8e0152\"],[0.1,\"#c51b7d\"],[0.2,\"#de77ae\"],[0.3,\"#f1b6da\"],[0.4,\"#fde0ef\"],[0.5,\"#f7f7f7\"],[0.6,\"#e6f5d0\"],[0.7,\"#b8e186\"],[0.8,\"#7fbc41\"],[0.9,\"#4d9221\"],[1,\"#276419\"]]},\"xaxis\":{\"gridcolor\":\"white\",\"linecolor\":\"white\",\"ticks\":\"\",\"title\":{\"standoff\":15},\"zerolinecolor\":\"white\",\"automargin\":true,\"zerolinewidth\":2},\"yaxis\":{\"gridcolor\":\"white\",\"linecolor\":\"white\",\"ticks\":\"\",\"title\":{\"standoff\":15},\"zerolinecolor\":\"white\",\"automargin\":true,\"zerolinewidth\":2},\"scene\":{\"xaxis\":{\"backgroundcolor\":\"#E5ECF6\",\"gridcolor\":\"white\",\"linecolor\":\"white\",\"showbackground\":true,\"ticks\":\"\",\"zerolinecolor\":\"white\",\"gridwidth\":2},\"yaxis\":{\"backgroundcolor\":\"#E5ECF6\",\"gridcolor\":\"white\",\"linecolor\":\"white\",\"showbackground\":true,\"ticks\":\"\",\"zerolinecolor\":\"white\",\"gridwidth\":2},\"zaxis\":{\"backgroundcolor\":\"#E5ECF6\",\"gridcolor\":\"white\",\"linecolor\":\"white\",\"showbackground\":true,\"ticks\":\"\",\"zerolinecolor\":\"white\",\"gridwidth\":2}},\"shapedefaults\":{\"line\":{\"color\":\"#2a3f5f\"}},\"annotationdefaults\":{\"arrowcolor\":\"#2a3f5f\",\"arrowhead\":0,\"arrowwidth\":1},\"geo\":{\"bgcolor\":\"white\",\"landcolor\":\"#E5ECF6\",\"subunitcolor\":\"white\",\"showland\":true,\"showlakes\":true,\"lakecolor\":\"white\"},\"title\":{\"x\":0.05},\"mapbox\":{\"style\":\"light\"}}},\"xaxis\":{\"anchor\":\"y\",\"domain\":[0.0,0.46499999999999997],\"title\":{\"text\":\"Predicted\"}},\"yaxis\":{\"anchor\":\"x\",\"domain\":[0.6000000000000001,1.0],\"title\":{\"text\":\"Real\"}},\"xaxis2\":{\"anchor\":\"y2\",\"domain\":[0.0,0.46499999999999997],\"title\":{\"text\":\"false positive rate\"}},\"yaxis2\":{\"anchor\":\"x2\",\"domain\":[0.0,0.4],\"title\":{\"text\":\"true positive rate\"}},\"xaxis3\":{\"anchor\":\"y3\",\"domain\":[0.5349999999999999,0.9999999999999999],\"title\":{\"text\":\"recall\"}},\"yaxis3\":{\"anchor\":\"x3\",\"domain\":[0.0,0.4],\"title\":{\"text\":\"precision\"}},\"annotations\":[{\"font\":{\"size\":16},\"showarrow\":false,\"text\":\"Confusion matix\",\"x\":0.23249999999999998,\"xanchor\":\"center\",\"xref\":\"paper\",\"y\":1.0,\"yanchor\":\"bottom\",\"yref\":\"paper\"},{\"font\":{\"size\":16},\"showarrow\":false,\"text\":\"Classification metrics\",\"x\":0.7674999999999998,\"xanchor\":\"center\",\"xref\":\"paper\",\"y\":1.0,\"yanchor\":\"bottom\",\"yref\":\"paper\"},{\"font\":{\"size\":16},\"showarrow\":false,\"text\":\"ROC curve (AUC=0.803)\",\"x\":0.23249999999999998,\"xanchor\":\"center\",\"xref\":\"paper\",\"y\":0.4,\"yanchor\":\"bottom\",\"yref\":\"paper\"},{\"font\":{\"size\":16},\"showarrow\":false,\"text\":\"Precision - Recall curve\",\"x\":0.7674999999999998,\"xanchor\":\"center\",\"xref\":\"paper\",\"y\":0.4,\"yanchor\":\"bottom\",\"yref\":\"paper\"},{\"showarrow\":false,\"text\":\"0\",\"x\":0,\"xref\":\"x\",\"y\":0,\"yref\":\"y\",\"yshift\":10},{\"showarrow\":false,\"text\":\"5\",\"x\":0,\"xref\":\"x\",\"y\":1,\"yref\":\"y\",\"yshift\":10},{\"showarrow\":false,\"text\":\"0\",\"x\":1,\"xref\":\"x\",\"y\":0,\"yref\":\"y\",\"yshift\":10},{\"showarrow\":false,\"text\":\"59\",\"x\":1,\"xref\":\"x\",\"y\":1,\"yref\":\"y\",\"yshift\":10}],\"title\":{\"text\":\"Global report for:  Voting Classifier\"},\"height\":800},                        {\"responsive\": true}                    ).then(function(){\n",
       "                            \n",
       "var gd = document.getElementById('67a1aa0d-d58d-4d11-8c91-f158d20be5fe');\n",
       "var x = new MutationObserver(function (mutations, observer) {{\n",
       "        var display = window.getComputedStyle(gd).display;\n",
       "        if (!display || display === 'none') {{\n",
       "            console.log([gd, 'removed!']);\n",
       "            Plotly.purge(gd);\n",
       "            observer.disconnect();\n",
       "        }}\n",
       "}});\n",
       "\n",
       "// Listen for the removal of the full notebook cells\n",
       "var notebookContainer = gd.closest('#notebook-container');\n",
       "if (notebookContainer) {{\n",
       "    x.observe(notebookContainer, {childList: true});\n",
       "}}\n",
       "\n",
       "// Listen for the clearing of the current output cell\n",
       "var outputEl = gd.closest('.output');\n",
       "if (outputEl) {{\n",
       "    x.observe(outputEl, {childList: true});\n",
       "}}\n",
       "\n",
       "                        })                };                            </script>        </div>\n",
       "</body>\n",
       "</html>"
      ]
     },
     "metadata": {},
     "output_type": "display_data"
    }
   ],
   "source": [
    "from sklearn.ensemble import  VotingClassifier\n",
    "start = time.time()\n",
    "vote_model=VotingClassifier(estimators=[('xgb',XGB_model),('lgbm',LBGM_model),('adab',ada_model),('rf',rf_model)],voting='soft')\n",
    "vote_model.fit(data_train, target_train)\n",
    "elapsed_time_2 = time.time() - start\n",
    "\n",
    "print(\n",
    "    f\"The model {vote_model.__class__.__name__} was trained in \"\n",
    "    f\"{elapsed_time_2:.3f} seconds\"\n",
    ")\n",
    "\n",
    "evaluate(vote_model, data_train, target_train, cv=5)\n",
    "scores_vote = generate_classification_report(vote_model, data_test , target_test, \" Voting Classifier\")"
   ]
  },
  {
   "cell_type": "markdown",
   "metadata": {
    "id": "jGqYa9H6lXNN"
   },
   "source": [
    "**`About Voting Classifier :`**\n",
    "- The motivation behidn using this ensemble learning model is to benefit from the good performances of the models above but also not be biased or overfitting.\n",
    "- the results still good."
   ]
  },
  {
   "cell_type": "markdown",
   "metadata": {
    "id": "KGr5AwQflan0"
   },
   "source": [
    "# Results :"
   ]
  },
  {
   "cell_type": "code",
   "execution_count": 122,
   "metadata": {
    "id": "Dqy4i2ZPlg3b"
   },
   "outputs": [],
   "source": [
    "scores_list = [scores_lr_bs, scores_tree, scores_rf, scores_bg, scores_ada, scores_xgb, scores_lgbm, scores_vote]\n",
    "model_list = [  'LogisticRegression',  'DecisionTreeClassifier',\n",
    "                'RandomForestClassifier', 'BaggingClassifier', 'AdaBoostClassifier',\n",
    "                'XGBClassifier', 'LGBMClassifier', 'VotingClassifier']"
   ]
  },
  {
   "cell_type": "code",
   "execution_count": 123,
   "metadata": {
    "id": "APFnJLfwl1uj"
   },
   "outputs": [],
   "source": [
    "df_results = pd.DataFrame(columns=['model', 'accuray', 'precision', 'recall', 'f1 score', '<b>area under the roc</b>', '<b>brier score loss</b>'])\n",
    "\n",
    "df_results['model'] =  model_list\n",
    "for c in df_results.columns :\n",
    "    if c != 'model':\n",
    "        df_results[c] = [ score[c] for score in scores_list]\n",
    "\n",
    "df_results = df_results.rename(columns={'accuray':'accuracy'})"
   ]
  },
  {
   "cell_type": "code",
   "execution_count": 124,
   "metadata": {
    "colab": {
     "base_uri": "https://localhost:8080/",
     "height": 337
    },
    "id": "A3kWcw48l3nr",
    "outputId": "99695eec-3e27-4cf4-c297-2aab53acd322"
   },
   "outputs": [
    {
     "data": {
      "text/html": [
       "<html>\n",
       "<head><meta charset=\"utf-8\" /></head>\n",
       "<body>\n",
       "    <div>            <script src=\"https://cdnjs.cloudflare.com/ajax/libs/mathjax/2.7.5/MathJax.js?config=TeX-AMS-MML_SVG\"></script><script type=\"text/javascript\">if (window.MathJax && window.MathJax.Hub && window.MathJax.Hub.Config) {window.MathJax.Hub.Config({SVG: {font: \"STIX-Web\"}});}</script>                <script type=\"text/javascript\">window.PlotlyConfig = {MathJaxConfig: 'local'};</script>\n",
       "        <script src=\"https://cdn.plot.ly/plotly-2.18.2.min.js\"></script>                <div id=\"03784d1e-6532-4219-92f2-7e72ff5f8381\" class=\"plotly-graph-div\" style=\"height:320px; width:100%;\"></div>            <script type=\"text/javascript\">                                    window.PLOTLYENV=window.PLOTLYENV || {};                                    if (document.getElementById(\"03784d1e-6532-4219-92f2-7e72ff5f8381\")) {                    Plotly.newPlot(                        \"03784d1e-6532-4219-92f2-7e72ff5f8381\",                        [{\"colorscale\":[[0,\"#018571\"],[0.5,\"#ffffff\"],[1,\"#ffffff\"]],\"hoverinfo\":\"none\",\"opacity\":0.75,\"showscale\":false,\"z\":[[0,0,0,0,0,0,0],[0.5,0.5,0.5,0.5,0.5,0.5,0.5],[1,1,1,1,1,1,1],[0.5,0.5,0.5,0.5,0.5,0.5,0.5],[1,1,1,1,1,1,1],[0.5,0.5,0.5,0.5,0.5,0.5,0.5],[1,1,1,1,1,1,1],[0.5,0.5,0.5,0.5,0.5,0.5,0.5],[1,1,1,1,1,1,1]],\"type\":\"heatmap\"}],                        {\"annotations\":[{\"align\":\"left\",\"font\":{\"color\":\"#ffffff\"},\"showarrow\":false,\"text\":\"<b>model</b>\",\"x\":-0.45,\"xanchor\":\"left\",\"xref\":\"x\",\"y\":0,\"yref\":\"y\"},{\"align\":\"left\",\"font\":{\"color\":\"#ffffff\"},\"showarrow\":false,\"text\":\"<b>accuracy</b>\",\"x\":0.55,\"xanchor\":\"left\",\"xref\":\"x\",\"y\":0,\"yref\":\"y\"},{\"align\":\"left\",\"font\":{\"color\":\"#ffffff\"},\"showarrow\":false,\"text\":\"<b>precision</b>\",\"x\":1.55,\"xanchor\":\"left\",\"xref\":\"x\",\"y\":0,\"yref\":\"y\"},{\"align\":\"left\",\"font\":{\"color\":\"#ffffff\"},\"showarrow\":false,\"text\":\"<b>recall</b>\",\"x\":2.55,\"xanchor\":\"left\",\"xref\":\"x\",\"y\":0,\"yref\":\"y\"},{\"align\":\"left\",\"font\":{\"color\":\"#ffffff\"},\"showarrow\":false,\"text\":\"<b>f1 score</b>\",\"x\":3.55,\"xanchor\":\"left\",\"xref\":\"x\",\"y\":0,\"yref\":\"y\"},{\"align\":\"left\",\"font\":{\"color\":\"#ffffff\"},\"showarrow\":false,\"text\":\"<b><b>area under the roc</b></b>\",\"x\":4.55,\"xanchor\":\"left\",\"xref\":\"x\",\"y\":0,\"yref\":\"y\"},{\"align\":\"left\",\"font\":{\"color\":\"#ffffff\"},\"showarrow\":false,\"text\":\"<b><b>brier score loss</b></b>\",\"x\":5.55,\"xanchor\":\"left\",\"xref\":\"x\",\"y\":0,\"yref\":\"y\"},{\"align\":\"left\",\"font\":{\"color\":\"#000000\"},\"showarrow\":false,\"text\":\"LogisticRegression\",\"x\":-0.45,\"xanchor\":\"left\",\"xref\":\"x\",\"y\":1,\"yref\":\"y\"},{\"align\":\"left\",\"font\":{\"color\":\"#000000\"},\"showarrow\":false,\"text\":\"0.922\",\"x\":0.55,\"xanchor\":\"left\",\"xref\":\"x\",\"y\":1,\"yref\":\"y\"},{\"align\":\"left\",\"font\":{\"color\":\"#000000\"},\"showarrow\":false,\"text\":\"0.922\",\"x\":1.55,\"xanchor\":\"left\",\"xref\":\"x\",\"y\":1,\"yref\":\"y\"},{\"align\":\"left\",\"font\":{\"color\":\"#000000\"},\"showarrow\":false,\"text\":\"1.0\",\"x\":2.55,\"xanchor\":\"left\",\"xref\":\"x\",\"y\":1,\"yref\":\"y\"},{\"align\":\"left\",\"font\":{\"color\":\"#000000\"},\"showarrow\":false,\"text\":\"0.959\",\"x\":3.55,\"xanchor\":\"left\",\"xref\":\"x\",\"y\":1,\"yref\":\"y\"},{\"align\":\"left\",\"font\":{\"color\":\"#000000\"},\"showarrow\":false,\"text\":\"0.715\",\"x\":4.55,\"xanchor\":\"left\",\"xref\":\"x\",\"y\":1,\"yref\":\"y\"},{\"align\":\"left\",\"font\":{\"color\":\"#000000\"},\"showarrow\":false,\"text\":\"0.078\",\"x\":5.55,\"xanchor\":\"left\",\"xref\":\"x\",\"y\":1,\"yref\":\"y\"},{\"align\":\"left\",\"font\":{\"color\":\"#000000\"},\"showarrow\":false,\"text\":\"DecisionTreeClassifier\",\"x\":-0.45,\"xanchor\":\"left\",\"xref\":\"x\",\"y\":2,\"yref\":\"y\"},{\"align\":\"left\",\"font\":{\"color\":\"#000000\"},\"showarrow\":false,\"text\":\"0.906\",\"x\":0.55,\"xanchor\":\"left\",\"xref\":\"x\",\"y\":2,\"yref\":\"y\"},{\"align\":\"left\",\"font\":{\"color\":\"#000000\"},\"showarrow\":false,\"text\":\"0.949\",\"x\":1.55,\"xanchor\":\"left\",\"xref\":\"x\",\"y\":2,\"yref\":\"y\"},{\"align\":\"left\",\"font\":{\"color\":\"#000000\"},\"showarrow\":false,\"text\":\"0.949\",\"x\":2.55,\"xanchor\":\"left\",\"xref\":\"x\",\"y\":2,\"yref\":\"y\"},{\"align\":\"left\",\"font\":{\"color\":\"#000000\"},\"showarrow\":false,\"text\":\"0.949\",\"x\":3.55,\"xanchor\":\"left\",\"xref\":\"x\",\"y\":2,\"yref\":\"y\"},{\"align\":\"left\",\"font\":{\"color\":\"#000000\"},\"showarrow\":false,\"text\":\"0.675\",\"x\":4.55,\"xanchor\":\"left\",\"xref\":\"x\",\"y\":2,\"yref\":\"y\"},{\"align\":\"left\",\"font\":{\"color\":\"#000000\"},\"showarrow\":false,\"text\":\"0.094\",\"x\":5.55,\"xanchor\":\"left\",\"xref\":\"x\",\"y\":2,\"yref\":\"y\"},{\"align\":\"left\",\"font\":{\"color\":\"#000000\"},\"showarrow\":false,\"text\":\"RandomForestClassifier\",\"x\":-0.45,\"xanchor\":\"left\",\"xref\":\"x\",\"y\":3,\"yref\":\"y\"},{\"align\":\"left\",\"font\":{\"color\":\"#000000\"},\"showarrow\":false,\"text\":\"0.922\",\"x\":0.55,\"xanchor\":\"left\",\"xref\":\"x\",\"y\":3,\"yref\":\"y\"},{\"align\":\"left\",\"font\":{\"color\":\"#000000\"},\"showarrow\":false,\"text\":\"0.922\",\"x\":1.55,\"xanchor\":\"left\",\"xref\":\"x\",\"y\":3,\"yref\":\"y\"},{\"align\":\"left\",\"font\":{\"color\":\"#000000\"},\"showarrow\":false,\"text\":\"1.0\",\"x\":2.55,\"xanchor\":\"left\",\"xref\":\"x\",\"y\":3,\"yref\":\"y\"},{\"align\":\"left\",\"font\":{\"color\":\"#000000\"},\"showarrow\":false,\"text\":\"0.959\",\"x\":3.55,\"xanchor\":\"left\",\"xref\":\"x\",\"y\":3,\"yref\":\"y\"},{\"align\":\"left\",\"font\":{\"color\":\"#000000\"},\"showarrow\":false,\"text\":\"0.776\",\"x\":4.55,\"xanchor\":\"left\",\"xref\":\"x\",\"y\":3,\"yref\":\"y\"},{\"align\":\"left\",\"font\":{\"color\":\"#000000\"},\"showarrow\":false,\"text\":\"0.078\",\"x\":5.55,\"xanchor\":\"left\",\"xref\":\"x\",\"y\":3,\"yref\":\"y\"},{\"align\":\"left\",\"font\":{\"color\":\"#000000\"},\"showarrow\":false,\"text\":\"BaggingClassifier\",\"x\":-0.45,\"xanchor\":\"left\",\"xref\":\"x\",\"y\":4,\"yref\":\"y\"},{\"align\":\"left\",\"font\":{\"color\":\"#000000\"},\"showarrow\":false,\"text\":\"0.922\",\"x\":0.55,\"xanchor\":\"left\",\"xref\":\"x\",\"y\":4,\"yref\":\"y\"},{\"align\":\"left\",\"font\":{\"color\":\"#000000\"},\"showarrow\":false,\"text\":\"0.922\",\"x\":1.55,\"xanchor\":\"left\",\"xref\":\"x\",\"y\":4,\"yref\":\"y\"},{\"align\":\"left\",\"font\":{\"color\":\"#000000\"},\"showarrow\":false,\"text\":\"1.0\",\"x\":2.55,\"xanchor\":\"left\",\"xref\":\"x\",\"y\":4,\"yref\":\"y\"},{\"align\":\"left\",\"font\":{\"color\":\"#000000\"},\"showarrow\":false,\"text\":\"0.959\",\"x\":3.55,\"xanchor\":\"left\",\"xref\":\"x\",\"y\":4,\"yref\":\"y\"},{\"align\":\"left\",\"font\":{\"color\":\"#000000\"},\"showarrow\":false,\"text\":\"0.407\",\"x\":4.55,\"xanchor\":\"left\",\"xref\":\"x\",\"y\":4,\"yref\":\"y\"},{\"align\":\"left\",\"font\":{\"color\":\"#000000\"},\"showarrow\":false,\"text\":\"0.078\",\"x\":5.55,\"xanchor\":\"left\",\"xref\":\"x\",\"y\":4,\"yref\":\"y\"},{\"align\":\"left\",\"font\":{\"color\":\"#000000\"},\"showarrow\":false,\"text\":\"AdaBoostClassifier\",\"x\":-0.45,\"xanchor\":\"left\",\"xref\":\"x\",\"y\":5,\"yref\":\"y\"},{\"align\":\"left\",\"font\":{\"color\":\"#000000\"},\"showarrow\":false,\"text\":\"0.906\",\"x\":0.55,\"xanchor\":\"left\",\"xref\":\"x\",\"y\":5,\"yref\":\"y\"},{\"align\":\"left\",\"font\":{\"color\":\"#000000\"},\"showarrow\":false,\"text\":\"0.921\",\"x\":1.55,\"xanchor\":\"left\",\"xref\":\"x\",\"y\":5,\"yref\":\"y\"},{\"align\":\"left\",\"font\":{\"color\":\"#000000\"},\"showarrow\":false,\"text\":\"0.983\",\"x\":2.55,\"xanchor\":\"left\",\"xref\":\"x\",\"y\":5,\"yref\":\"y\"},{\"align\":\"left\",\"font\":{\"color\":\"#000000\"},\"showarrow\":false,\"text\":\"0.951\",\"x\":3.55,\"xanchor\":\"left\",\"xref\":\"x\",\"y\":5,\"yref\":\"y\"},{\"align\":\"left\",\"font\":{\"color\":\"#000000\"},\"showarrow\":false,\"text\":\"0.814\",\"x\":4.55,\"xanchor\":\"left\",\"xref\":\"x\",\"y\":5,\"yref\":\"y\"},{\"align\":\"left\",\"font\":{\"color\":\"#000000\"},\"showarrow\":false,\"text\":\"0.094\",\"x\":5.55,\"xanchor\":\"left\",\"xref\":\"x\",\"y\":5,\"yref\":\"y\"},{\"align\":\"left\",\"font\":{\"color\":\"#000000\"},\"showarrow\":false,\"text\":\"XGBClassifier\",\"x\":-0.45,\"xanchor\":\"left\",\"xref\":\"x\",\"y\":6,\"yref\":\"y\"},{\"align\":\"left\",\"font\":{\"color\":\"#000000\"},\"showarrow\":false,\"text\":\"0.922\",\"x\":0.55,\"xanchor\":\"left\",\"xref\":\"x\",\"y\":6,\"yref\":\"y\"},{\"align\":\"left\",\"font\":{\"color\":\"#000000\"},\"showarrow\":false,\"text\":\"0.922\",\"x\":1.55,\"xanchor\":\"left\",\"xref\":\"x\",\"y\":6,\"yref\":\"y\"},{\"align\":\"left\",\"font\":{\"color\":\"#000000\"},\"showarrow\":false,\"text\":\"1.0\",\"x\":2.55,\"xanchor\":\"left\",\"xref\":\"x\",\"y\":6,\"yref\":\"y\"},{\"align\":\"left\",\"font\":{\"color\":\"#000000\"},\"showarrow\":false,\"text\":\"0.959\",\"x\":3.55,\"xanchor\":\"left\",\"xref\":\"x\",\"y\":6,\"yref\":\"y\"},{\"align\":\"left\",\"font\":{\"color\":\"#000000\"},\"showarrow\":false,\"text\":\"0.614\",\"x\":4.55,\"xanchor\":\"left\",\"xref\":\"x\",\"y\":6,\"yref\":\"y\"},{\"align\":\"left\",\"font\":{\"color\":\"#000000\"},\"showarrow\":false,\"text\":\"0.078\",\"x\":5.55,\"xanchor\":\"left\",\"xref\":\"x\",\"y\":6,\"yref\":\"y\"},{\"align\":\"left\",\"font\":{\"color\":\"#000000\"},\"showarrow\":false,\"text\":\"LGBMClassifier\",\"x\":-0.45,\"xanchor\":\"left\",\"xref\":\"x\",\"y\":7,\"yref\":\"y\"},{\"align\":\"left\",\"font\":{\"color\":\"#000000\"},\"showarrow\":false,\"text\":\"0.875\",\"x\":0.55,\"xanchor\":\"left\",\"xref\":\"x\",\"y\":7,\"yref\":\"y\"},{\"align\":\"left\",\"font\":{\"color\":\"#000000\"},\"showarrow\":false,\"text\":\"0.918\",\"x\":1.55,\"xanchor\":\"left\",\"xref\":\"x\",\"y\":7,\"yref\":\"y\"},{\"align\":\"left\",\"font\":{\"color\":\"#000000\"},\"showarrow\":false,\"text\":\"0.949\",\"x\":2.55,\"xanchor\":\"left\",\"xref\":\"x\",\"y\":7,\"yref\":\"y\"},{\"align\":\"left\",\"font\":{\"color\":\"#000000\"},\"showarrow\":false,\"text\":\"0.933\",\"x\":3.55,\"xanchor\":\"left\",\"xref\":\"x\",\"y\":7,\"yref\":\"y\"},{\"align\":\"left\",\"font\":{\"color\":\"#000000\"},\"showarrow\":false,\"text\":\"0.803\",\"x\":4.55,\"xanchor\":\"left\",\"xref\":\"x\",\"y\":7,\"yref\":\"y\"},{\"align\":\"left\",\"font\":{\"color\":\"#000000\"},\"showarrow\":false,\"text\":\"0.125\",\"x\":5.55,\"xanchor\":\"left\",\"xref\":\"x\",\"y\":7,\"yref\":\"y\"},{\"align\":\"left\",\"font\":{\"color\":\"#000000\"},\"showarrow\":false,\"text\":\"VotingClassifier\",\"x\":-0.45,\"xanchor\":\"left\",\"xref\":\"x\",\"y\":8,\"yref\":\"y\"},{\"align\":\"left\",\"font\":{\"color\":\"#000000\"},\"showarrow\":false,\"text\":\"0.922\",\"x\":0.55,\"xanchor\":\"left\",\"xref\":\"x\",\"y\":8,\"yref\":\"y\"},{\"align\":\"left\",\"font\":{\"color\":\"#000000\"},\"showarrow\":false,\"text\":\"0.922\",\"x\":1.55,\"xanchor\":\"left\",\"xref\":\"x\",\"y\":8,\"yref\":\"y\"},{\"align\":\"left\",\"font\":{\"color\":\"#000000\"},\"showarrow\":false,\"text\":\"1.0\",\"x\":2.55,\"xanchor\":\"left\",\"xref\":\"x\",\"y\":8,\"yref\":\"y\"},{\"align\":\"left\",\"font\":{\"color\":\"#000000\"},\"showarrow\":false,\"text\":\"0.959\",\"x\":3.55,\"xanchor\":\"left\",\"xref\":\"x\",\"y\":8,\"yref\":\"y\"},{\"align\":\"left\",\"font\":{\"color\":\"#000000\"},\"showarrow\":false,\"text\":\"0.803\",\"x\":4.55,\"xanchor\":\"left\",\"xref\":\"x\",\"y\":8,\"yref\":\"y\"},{\"align\":\"left\",\"font\":{\"color\":\"#000000\"},\"showarrow\":false,\"text\":\"0.078\",\"x\":5.55,\"xanchor\":\"left\",\"xref\":\"x\",\"y\":8,\"yref\":\"y\"}],\"height\":320,\"margin\":{\"b\":0,\"l\":0,\"r\":0,\"t\":0},\"template\":{\"data\":{\"barpolar\":[{\"marker\":{\"line\":{\"color\":\"#E5ECF6\",\"width\":0.5},\"pattern\":{\"fillmode\":\"overlay\",\"size\":10,\"solidity\":0.2}},\"type\":\"barpolar\"}],\"bar\":[{\"error_x\":{\"color\":\"#2a3f5f\"},\"error_y\":{\"color\":\"#2a3f5f\"},\"marker\":{\"line\":{\"color\":\"#E5ECF6\",\"width\":0.5},\"pattern\":{\"fillmode\":\"overlay\",\"size\":10,\"solidity\":0.2}},\"type\":\"bar\"}],\"carpet\":[{\"aaxis\":{\"endlinecolor\":\"#2a3f5f\",\"gridcolor\":\"white\",\"linecolor\":\"white\",\"minorgridcolor\":\"white\",\"startlinecolor\":\"#2a3f5f\"},\"baxis\":{\"endlinecolor\":\"#2a3f5f\",\"gridcolor\":\"white\",\"linecolor\":\"white\",\"minorgridcolor\":\"white\",\"startlinecolor\":\"#2a3f5f\"},\"type\":\"carpet\"}],\"choropleth\":[{\"colorbar\":{\"outlinewidth\":0,\"ticks\":\"\"},\"type\":\"choropleth\"}],\"contourcarpet\":[{\"colorbar\":{\"outlinewidth\":0,\"ticks\":\"\"},\"type\":\"contourcarpet\"}],\"contour\":[{\"colorbar\":{\"outlinewidth\":0,\"ticks\":\"\"},\"colorscale\":[[0.0,\"#0d0887\"],[0.1111111111111111,\"#46039f\"],[0.2222222222222222,\"#7201a8\"],[0.3333333333333333,\"#9c179e\"],[0.4444444444444444,\"#bd3786\"],[0.5555555555555556,\"#d8576b\"],[0.6666666666666666,\"#ed7953\"],[0.7777777777777778,\"#fb9f3a\"],[0.8888888888888888,\"#fdca26\"],[1.0,\"#f0f921\"]],\"type\":\"contour\"}],\"heatmapgl\":[{\"colorbar\":{\"outlinewidth\":0,\"ticks\":\"\"},\"colorscale\":[[0.0,\"#0d0887\"],[0.1111111111111111,\"#46039f\"],[0.2222222222222222,\"#7201a8\"],[0.3333333333333333,\"#9c179e\"],[0.4444444444444444,\"#bd3786\"],[0.5555555555555556,\"#d8576b\"],[0.6666666666666666,\"#ed7953\"],[0.7777777777777778,\"#fb9f3a\"],[0.8888888888888888,\"#fdca26\"],[1.0,\"#f0f921\"]],\"type\":\"heatmapgl\"}],\"heatmap\":[{\"colorbar\":{\"outlinewidth\":0,\"ticks\":\"\"},\"colorscale\":[[0.0,\"#0d0887\"],[0.1111111111111111,\"#46039f\"],[0.2222222222222222,\"#7201a8\"],[0.3333333333333333,\"#9c179e\"],[0.4444444444444444,\"#bd3786\"],[0.5555555555555556,\"#d8576b\"],[0.6666666666666666,\"#ed7953\"],[0.7777777777777778,\"#fb9f3a\"],[0.8888888888888888,\"#fdca26\"],[1.0,\"#f0f921\"]],\"type\":\"heatmap\"}],\"histogram2dcontour\":[{\"colorbar\":{\"outlinewidth\":0,\"ticks\":\"\"},\"colorscale\":[[0.0,\"#0d0887\"],[0.1111111111111111,\"#46039f\"],[0.2222222222222222,\"#7201a8\"],[0.3333333333333333,\"#9c179e\"],[0.4444444444444444,\"#bd3786\"],[0.5555555555555556,\"#d8576b\"],[0.6666666666666666,\"#ed7953\"],[0.7777777777777778,\"#fb9f3a\"],[0.8888888888888888,\"#fdca26\"],[1.0,\"#f0f921\"]],\"type\":\"histogram2dcontour\"}],\"histogram2d\":[{\"colorbar\":{\"outlinewidth\":0,\"ticks\":\"\"},\"colorscale\":[[0.0,\"#0d0887\"],[0.1111111111111111,\"#46039f\"],[0.2222222222222222,\"#7201a8\"],[0.3333333333333333,\"#9c179e\"],[0.4444444444444444,\"#bd3786\"],[0.5555555555555556,\"#d8576b\"],[0.6666666666666666,\"#ed7953\"],[0.7777777777777778,\"#fb9f3a\"],[0.8888888888888888,\"#fdca26\"],[1.0,\"#f0f921\"]],\"type\":\"histogram2d\"}],\"histogram\":[{\"marker\":{\"pattern\":{\"fillmode\":\"overlay\",\"size\":10,\"solidity\":0.2}},\"type\":\"histogram\"}],\"mesh3d\":[{\"colorbar\":{\"outlinewidth\":0,\"ticks\":\"\"},\"type\":\"mesh3d\"}],\"parcoords\":[{\"line\":{\"colorbar\":{\"outlinewidth\":0,\"ticks\":\"\"}},\"type\":\"parcoords\"}],\"pie\":[{\"automargin\":true,\"type\":\"pie\"}],\"scatter3d\":[{\"line\":{\"colorbar\":{\"outlinewidth\":0,\"ticks\":\"\"}},\"marker\":{\"colorbar\":{\"outlinewidth\":0,\"ticks\":\"\"}},\"type\":\"scatter3d\"}],\"scattercarpet\":[{\"marker\":{\"colorbar\":{\"outlinewidth\":0,\"ticks\":\"\"}},\"type\":\"scattercarpet\"}],\"scattergeo\":[{\"marker\":{\"colorbar\":{\"outlinewidth\":0,\"ticks\":\"\"}},\"type\":\"scattergeo\"}],\"scattergl\":[{\"marker\":{\"colorbar\":{\"outlinewidth\":0,\"ticks\":\"\"}},\"type\":\"scattergl\"}],\"scattermapbox\":[{\"marker\":{\"colorbar\":{\"outlinewidth\":0,\"ticks\":\"\"}},\"type\":\"scattermapbox\"}],\"scatterpolargl\":[{\"marker\":{\"colorbar\":{\"outlinewidth\":0,\"ticks\":\"\"}},\"type\":\"scatterpolargl\"}],\"scatterpolar\":[{\"marker\":{\"colorbar\":{\"outlinewidth\":0,\"ticks\":\"\"}},\"type\":\"scatterpolar\"}],\"scatter\":[{\"fillpattern\":{\"fillmode\":\"overlay\",\"size\":10,\"solidity\":0.2},\"type\":\"scatter\"}],\"scatterternary\":[{\"marker\":{\"colorbar\":{\"outlinewidth\":0,\"ticks\":\"\"}},\"type\":\"scatterternary\"}],\"surface\":[{\"colorbar\":{\"outlinewidth\":0,\"ticks\":\"\"},\"colorscale\":[[0.0,\"#0d0887\"],[0.1111111111111111,\"#46039f\"],[0.2222222222222222,\"#7201a8\"],[0.3333333333333333,\"#9c179e\"],[0.4444444444444444,\"#bd3786\"],[0.5555555555555556,\"#d8576b\"],[0.6666666666666666,\"#ed7953\"],[0.7777777777777778,\"#fb9f3a\"],[0.8888888888888888,\"#fdca26\"],[1.0,\"#f0f921\"]],\"type\":\"surface\"}],\"table\":[{\"cells\":{\"fill\":{\"color\":\"#EBF0F8\"},\"line\":{\"color\":\"white\"}},\"header\":{\"fill\":{\"color\":\"#C8D4E3\"},\"line\":{\"color\":\"white\"}},\"type\":\"table\"}]},\"layout\":{\"annotationdefaults\":{\"arrowcolor\":\"#2a3f5f\",\"arrowhead\":0,\"arrowwidth\":1},\"autotypenumbers\":\"strict\",\"coloraxis\":{\"colorbar\":{\"outlinewidth\":0,\"ticks\":\"\"}},\"colorscale\":{\"diverging\":[[0,\"#8e0152\"],[0.1,\"#c51b7d\"],[0.2,\"#de77ae\"],[0.3,\"#f1b6da\"],[0.4,\"#fde0ef\"],[0.5,\"#f7f7f7\"],[0.6,\"#e6f5d0\"],[0.7,\"#b8e186\"],[0.8,\"#7fbc41\"],[0.9,\"#4d9221\"],[1,\"#276419\"]],\"sequential\":[[0.0,\"#0d0887\"],[0.1111111111111111,\"#46039f\"],[0.2222222222222222,\"#7201a8\"],[0.3333333333333333,\"#9c179e\"],[0.4444444444444444,\"#bd3786\"],[0.5555555555555556,\"#d8576b\"],[0.6666666666666666,\"#ed7953\"],[0.7777777777777778,\"#fb9f3a\"],[0.8888888888888888,\"#fdca26\"],[1.0,\"#f0f921\"]],\"sequentialminus\":[[0.0,\"#0d0887\"],[0.1111111111111111,\"#46039f\"],[0.2222222222222222,\"#7201a8\"],[0.3333333333333333,\"#9c179e\"],[0.4444444444444444,\"#bd3786\"],[0.5555555555555556,\"#d8576b\"],[0.6666666666666666,\"#ed7953\"],[0.7777777777777778,\"#fb9f3a\"],[0.8888888888888888,\"#fdca26\"],[1.0,\"#f0f921\"]]},\"colorway\":[\"#636efa\",\"#EF553B\",\"#00cc96\",\"#ab63fa\",\"#FFA15A\",\"#19d3f3\",\"#FF6692\",\"#B6E880\",\"#FF97FF\",\"#FECB52\"],\"font\":{\"color\":\"#2a3f5f\"},\"geo\":{\"bgcolor\":\"white\",\"lakecolor\":\"white\",\"landcolor\":\"#E5ECF6\",\"showlakes\":true,\"showland\":true,\"subunitcolor\":\"white\"},\"hoverlabel\":{\"align\":\"left\"},\"hovermode\":\"closest\",\"mapbox\":{\"style\":\"light\"},\"paper_bgcolor\":\"white\",\"plot_bgcolor\":\"#E5ECF6\",\"polar\":{\"angularaxis\":{\"gridcolor\":\"white\",\"linecolor\":\"white\",\"ticks\":\"\"},\"bgcolor\":\"#E5ECF6\",\"radialaxis\":{\"gridcolor\":\"white\",\"linecolor\":\"white\",\"ticks\":\"\"}},\"scene\":{\"xaxis\":{\"backgroundcolor\":\"#E5ECF6\",\"gridcolor\":\"white\",\"gridwidth\":2,\"linecolor\":\"white\",\"showbackground\":true,\"ticks\":\"\",\"zerolinecolor\":\"white\"},\"yaxis\":{\"backgroundcolor\":\"#E5ECF6\",\"gridcolor\":\"white\",\"gridwidth\":2,\"linecolor\":\"white\",\"showbackground\":true,\"ticks\":\"\",\"zerolinecolor\":\"white\"},\"zaxis\":{\"backgroundcolor\":\"#E5ECF6\",\"gridcolor\":\"white\",\"gridwidth\":2,\"linecolor\":\"white\",\"showbackground\":true,\"ticks\":\"\",\"zerolinecolor\":\"white\"}},\"shapedefaults\":{\"line\":{\"color\":\"#2a3f5f\"}},\"ternary\":{\"aaxis\":{\"gridcolor\":\"white\",\"linecolor\":\"white\",\"ticks\":\"\"},\"baxis\":{\"gridcolor\":\"white\",\"linecolor\":\"white\",\"ticks\":\"\"},\"bgcolor\":\"#E5ECF6\",\"caxis\":{\"gridcolor\":\"white\",\"linecolor\":\"white\",\"ticks\":\"\"}},\"title\":{\"x\":0.05},\"xaxis\":{\"automargin\":true,\"gridcolor\":\"white\",\"linecolor\":\"white\",\"ticks\":\"\",\"title\":{\"standoff\":15},\"zerolinecolor\":\"white\",\"zerolinewidth\":2},\"yaxis\":{\"automargin\":true,\"gridcolor\":\"white\",\"linecolor\":\"white\",\"ticks\":\"\",\"title\":{\"standoff\":15},\"zerolinecolor\":\"white\",\"zerolinewidth\":2}}},\"xaxis\":{\"dtick\":1,\"gridwidth\":2,\"showticklabels\":false,\"tick0\":-0.5,\"ticks\":\"\",\"zeroline\":false},\"yaxis\":{\"autorange\":\"reversed\",\"dtick\":1,\"gridwidth\":2,\"showticklabels\":false,\"tick0\":0.5,\"ticks\":\"\",\"zeroline\":false}},                        {\"responsive\": true}                    ).then(function(){\n",
       "                            \n",
       "var gd = document.getElementById('03784d1e-6532-4219-92f2-7e72ff5f8381');\n",
       "var x = new MutationObserver(function (mutations, observer) {{\n",
       "        var display = window.getComputedStyle(gd).display;\n",
       "        if (!display || display === 'none') {{\n",
       "            console.log([gd, 'removed!']);\n",
       "            Plotly.purge(gd);\n",
       "            observer.disconnect();\n",
       "        }}\n",
       "}});\n",
       "\n",
       "// Listen for the removal of the full notebook cells\n",
       "var notebookContainer = gd.closest('#notebook-container');\n",
       "if (notebookContainer) {{\n",
       "    x.observe(notebookContainer, {childList: true});\n",
       "}}\n",
       "\n",
       "// Listen for the clearing of the current output cell\n",
       "var outputEl = gd.closest('.output');\n",
       "if (outputEl) {{\n",
       "    x.observe(outputEl, {childList: true});\n",
       "}}\n",
       "\n",
       "                        })                };                            </script>        </div>\n",
       "</body>\n",
       "</html>"
      ]
     },
     "metadata": {},
     "output_type": "display_data"
    }
   ],
   "source": [
    "import plotly.figure_factory as ff\n",
    "import plotly.offline as py\n",
    "\n",
    "\n",
    "table  = ff.create_table(np.round(df_results,4),colorscale=[[0, '#018571'],[.5, '#ffffff'],[1, '#ffffff']],\n",
    "                        font_colors=['#ffffff', '#000000', '#000000'])\n",
    "\n",
    "py.iplot(table)"
   ]
  },
  {
   "cell_type": "markdown",
   "metadata": {
    "id": "oY0xopeQmWRB"
   },
   "source": [
    "Based on the provided results, it appears that several models have achieved similar accuracy, precision, recall, and F1 score values. However, when considering the additional metrics of area under the ROC curve and Brier score loss, the Random Forest Classifier stands out as the most favorable choice.\n",
    "\n",
    "The Random Forest Classifier achieves an accuracy of 0.922, which is on par with the other models in the list. It also demonstrates high precision and recall scores of 0.922 and 1.000, respectively, indicating that it can effectively identify positive instances without many false positives. The F1 score, which combines precision and recall, is 0.959, highlighting a balanced performance between precision and recall.\n",
    "\n",
    "What sets the Random Forest Classifier apart is its superior area under the ROC curve of 0.776. The ROC curve represents the trade-off between true positive rate and false positive rate, and a higher area under the curve suggests a better ability to distinguish between positive and negative instances.\n",
    "\n",
    "Additionally, the Brier score loss of 0.078 for the Random Forest Classifier is the lowest among the listed models. The Brier score measures the accuracy of probabilistic predictions, with lower values indicating better calibration and accuracy."
   ]
  },
  {
   "cell_type": "markdown",
   "metadata": {
    "id": "mcMWWwtctZYh"
   },
   "source": [
    "# Feature Importance"
   ]
  },
  {
   "cell_type": "markdown",
   "metadata": {
    "id": "y6XkicDInm3i"
   },
   "source": [
    "#### pip install shap"
   ]
  },
  {
   "cell_type": "code",
   "execution_count": 125,
   "metadata": {
    "colab": {
     "base_uri": "https://localhost:8080/",
     "height": 797
    },
    "id": "7rA0JRmMnkfS",
    "outputId": "343a81ef-abcc-4e13-a5c9-be6693fd867a"
   },
   "outputs": [
    {
     "data": {
      "image/png": "[encoded data removed]",
      "text/plain": [
       "<Figure size 800x790 with 1 Axes>"
      ]
     },
     "metadata": {},
     "output_type": "display_data"
    }
   ],
   "source": [
    "import shap\n",
    "column_names = data_train.columns\n",
    "X_train_array = data_train.values\n",
    "model = RandomForestClassifier(max_depth=3, n_estimators=24, random_state=0)\n",
    "model.fit(X_train_array, target_train)\n",
    "\n",
    "# Calculate SHAP values for all features\n",
    "explainer = shap.TreeExplainer(model)\n",
    "shap_values = explainer.shap_values(X_train_array)\n",
    "\n",
    "# Create a summary plot\n",
    "shap.summary_plot(shap_values, X_train_array, feature_names=column_names, plot_type='bar', show=False)\n",
    "\n",
    "# Display the plot\n",
    "plt.show()"
   ]
  },
  {
   "cell_type": "markdown",
   "metadata": {
    "id": "u2GvRoropBxA"
   },
   "source": [
    "The feature importance plot based on SHAP values for the Random Forest Classifier provides valuable insights into the relative importance of different features in predicting the target variable. The plot displays a bar chart where each vertical bar corresponds to a specific feature. The length and color of the bars represent the magnitude and direction of the feature's impact on the model's output. By examining the plot, we can identify the most influential features in our model. Features with longer bars indicate a higher importance, as they have a stronger impact on the predictions. Conversely, features with shorter bars have relatively less influence."
   ]
  },
  {
   "cell_type": "markdown",
   "metadata": {
    "id": "2kc69xAcpCjw"
   },
   "source": [
    "In our case we can observe that certain features have a significant influence and impact on the model predictions. Notably, the features 'Pasteurellaceae', 'PCDAI', 'Erysipelotrichaceae', and 'Clostridiales' exhibit longer bars, indicating their high importance in the model's decision-making process. These features contribute significantly to the accuracy and predictive power of the model. On the other hand, features such as 'race', 'Micrococcaceae', and 'Neisseriaceae' display relatively shorter bars, suggesting their limited impact on the model's predictions."
   ]
  },
  {
   "cell_type": "markdown",
   "metadata": {
    "id": "9gCxhWJxp6k2"
   },
   "source": [
    "# Random Forest after applying feature selection"
   ]
  },
  {
   "cell_type": "code",
   "execution_count": 126,
   "metadata": {
    "id": "zlIPmsbbqX4N"
   },
   "outputs": [],
   "source": [
    "selected_columns = ['Pasteurellaceae', 'PCDAI', 'Erysipelotrichaceae', 'Clostridiales' , 'Coriobacteriaceae','Bacteroidales', 'Enterobacteriaceae','Verrucomicrobiaceae','Bifidobacteriaceae']\n"
   ]
  },
  {
   "cell_type": "code",
   "execution_count": 127,
   "metadata": {
    "colab": {
     "base_uri": "https://localhost:8080/",
     "height": 869
    },
    "id": "e-zr_WN_p_GE",
    "outputId": "c4e2adf2-b264-4340-a808-08b92ac908b4"
   },
   "outputs": [
    {
     "name": "stdout",
     "output_type": "stream",
     "text": [
      "The model RandomForestClassifier was trained in 0.053 seconds\n",
      "Brier Loss Score :     0.112 +/- 0.007\n",
      "ROC_AUC Score : 0.692 +/- 0.107\n"
     ]
    },
    {
     "data": {
      "text/html": [
       "<html>\n",
       "<head><meta charset=\"utf-8\" /></head>\n",
       "<body>\n",
       "    <div>            <script src=\"https://cdnjs.cloudflare.com/ajax/libs/mathjax/2.7.5/MathJax.js?config=TeX-AMS-MML_SVG\"></script><script type=\"text/javascript\">if (window.MathJax && window.MathJax.Hub && window.MathJax.Hub.Config) {window.MathJax.Hub.Config({SVG: {font: \"STIX-Web\"}});}</script>                <script type=\"text/javascript\">window.PlotlyConfig = {MathJaxConfig: 'local'};</script>\n",
       "        <script src=\"https://cdn.plot.ly/plotly-2.18.2.min.js\"></script>                <div id=\"2c5620fe-3f57-49c9-baf5-0e9a131a2394\" class=\"plotly-graph-div\" style=\"height:800px; width:100%;\"></div>            <script type=\"text/javascript\">                                    window.PLOTLYENV=window.PLOTLYENV || {};                                    if (document.getElementById(\"2c5620fe-3f57-49c9-baf5-0e9a131a2394\")) {                    Plotly.newPlot(                        \"2c5620fe-3f57-49c9-baf5-0e9a131a2394\",                        [{\"colorscale\":[[0.0,\"#018571\"],[0.3333333333333333,\"#80cdc1\"],[0.6666666666666666,\"#dfc27d\"],[1.0,\"#a6611a\"]],\"showscale\":false,\"text\":[[\"0\",\"5\"],[\"0\",\"59\"]],\"x\":[\"0\",\"1\"],\"y\":[\"0\",\"1\"],\"z\":[[0,5],[0,59]],\"type\":\"heatmap\",\"xaxis\":\"x\",\"yaxis\":\"y\"},{\"cells\":{\"fill\":{\"color\":[\"#80cdc1\",\"#dfc27d\"]},\"line\":{\"color\":\"#a6611a\"},\"values\":[[\"accuray\",\"precision\",\"recall\",\"f1 score\",\"<b>area under the roc</b>\",\"<b>brier score loss</b>\"],[0.922,0.922,1.0,0.959,0.773,0.078]]},\"header\":{\"fill\":{\"color\":\"#018571\"},\"line\":{\"color\":\"#a6611a\"},\"values\":[\"Metric\",\"Score\"]},\"type\":\"table\",\"domain\":{\"x\":[0.5349999999999999,0.9999999999999999],\"y\":[0.6000000000000001,1.0]}},{\"fill\":\"tozeroy\",\"line\":{\"color\":\"#018571\"},\"mode\":\"lines\",\"name\":\"ROC curve\",\"showlegend\":false,\"text\":[0.621,0.628,0.709,0.734,0.762,0.77,0.781,0.784,0.791,0.803,0.81,0.828,0.83,0.835,0.838,0.84,0.855,0.861,0.863,0.863,0.865,0.868,0.869,0.883,0.887,0.888,0.889,0.894,0.894,0.895,0.897,0.897,0.9,0.901,0.902,0.905,0.907,0.913,0.916,0.917,0.918,0.92,0.923,0.928,0.928,0.938,0.94,0.948,0.954,0.954,0.955,0.957,0.959,0.96,0.961,0.962,0.963,0.963,0.964,0.965,0.967,0.969,0.975,0.988],\"x\":[0.0,0.0,0.0,0.2,0.2,0.4,0.4,0.8,0.8,1.0,1.0],\"y\":[0.0,0.017,0.508,0.508,0.576,0.576,0.915,0.915,0.949,0.949,1.0],\"type\":\"scatter\",\"xaxis\":\"x2\",\"yaxis\":\"y2\"},{\"line\":{\"color\":\"#a6611a\",\"dash\":\"dot\"},\"mode\":\"lines\",\"name\":\"Base line\",\"showlegend\":false,\"x\":[0.0,0.01694915254237288,0.5084745762711864,0.5084745762711864,0.576271186440678,0.576271186440678,0.9152542372881356,0.9152542372881356,0.9491525423728814,0.9491525423728814,1.0],\"y\":[0.0,0.01694915254237288,0.5084745762711864,0.5084745762711864,0.576271186440678,0.576271186440678,0.9152542372881356,0.9152542372881356,0.9491525423728814,0.9491525423728814,1.0],\"type\":\"scatter\",\"xaxis\":\"x2\",\"yaxis\":\"y2\"},{\"line\":{\"color\":\"#018571\"},\"mode\":\"lines\",\"name\":\"precision recall curve\",\"showlegend\":false,\"text\":[0.621,0.628,0.709,0.734,0.762,0.77,0.781,0.784,0.791,0.803,0.81,0.828,0.83,0.835,0.838,0.84,0.855,0.861,0.863,0.863,0.865,0.868,0.869,0.883,0.887,0.888,0.889,0.894,0.894,0.895,0.897,0.897,0.9,0.901,0.902,0.905,0.907,0.913,0.916,0.917,0.918,0.92,0.923,0.928,0.928,0.938,0.94,0.948,0.954,0.954,0.955,0.957,0.959,0.96,0.961,0.962,0.963,0.963,0.964,0.965,0.967,0.969,0.975,0.988],\"x\":[1.0,0.983,0.966,0.949,0.949,0.932,0.915,0.915,0.915,0.898,0.881,0.864,0.847,0.831,0.814,0.797,0.78,0.763,0.746,0.729,0.712,0.695,0.678,0.661,0.644,0.627,0.61,0.593,0.576,0.576,0.559,0.542,0.525,0.508,0.508,0.492,0.475,0.458,0.441,0.424,0.407,0.39,0.373,0.356,0.339,0.322,0.305,0.288,0.271,0.254,0.237,0.22,0.203,0.186,0.169,0.153,0.136,0.119,0.102,0.085,0.068,0.051,0.034,0.017,0.0],\"y\":[0.922,0.921,0.919,0.918,0.933,0.932,0.931,0.947,0.964,0.964,0.963,0.962,0.962,0.961,0.96,0.959,0.958,0.957,0.957,0.956,0.955,0.953,0.952,0.951,0.95,0.949,0.947,0.946,0.944,0.971,0.971,0.97,0.969,0.968,1.0,1.0,1.0,1.0,1.0,1.0,1.0,1.0,1.0,1.0,1.0,1.0,1.0,1.0,1.0,1.0,1.0,1.0,1.0,1.0,1.0,1.0,1.0,1.0,1.0,1.0,1.0,1.0,1.0,1.0,1.0],\"type\":\"scatter\",\"xaxis\":\"x3\",\"yaxis\":\"y3\"}],                        {\"template\":{\"data\":{\"histogram2dcontour\":[{\"type\":\"histogram2dcontour\",\"colorbar\":{\"outlinewidth\":0,\"ticks\":\"\"},\"colorscale\":[[0.0,\"#0d0887\"],[0.1111111111111111,\"#46039f\"],[0.2222222222222222,\"#7201a8\"],[0.3333333333333333,\"#9c179e\"],[0.4444444444444444,\"#bd3786\"],[0.5555555555555556,\"#d8576b\"],[0.6666666666666666,\"#ed7953\"],[0.7777777777777778,\"#fb9f3a\"],[0.8888888888888888,\"#fdca26\"],[1.0,\"#f0f921\"]]}],\"choropleth\":[{\"type\":\"choropleth\",\"colorbar\":{\"outlinewidth\":0,\"ticks\":\"\"}}],\"histogram2d\":[{\"type\":\"histogram2d\",\"colorbar\":{\"outlinewidth\":0,\"ticks\":\"\"},\"colorscale\":[[0.0,\"#0d0887\"],[0.1111111111111111,\"#46039f\"],[0.2222222222222222,\"#7201a8\"],[0.3333333333333333,\"#9c179e\"],[0.4444444444444444,\"#bd3786\"],[0.5555555555555556,\"#d8576b\"],[0.6666666666666666,\"#ed7953\"],[0.7777777777777778,\"#fb9f3a\"],[0.8888888888888888,\"#fdca26\"],[1.0,\"#f0f921\"]]}],\"heatmap\":[{\"type\":\"heatmap\",\"colorbar\":{\"outlinewidth\":0,\"ticks\":\"\"},\"colorscale\":[[0.0,\"#0d0887\"],[0.1111111111111111,\"#46039f\"],[0.2222222222222222,\"#7201a8\"],[0.3333333333333333,\"#9c179e\"],[0.4444444444444444,\"#bd3786\"],[0.5555555555555556,\"#d8576b\"],[0.6666666666666666,\"#ed7953\"],[0.7777777777777778,\"#fb9f3a\"],[0.8888888888888888,\"#fdca26\"],[1.0,\"#f0f921\"]]}],\"heatmapgl\":[{\"type\":\"heatmapgl\",\"colorbar\":{\"outlinewidth\":0,\"ticks\":\"\"},\"colorscale\":[[0.0,\"#0d0887\"],[0.1111111111111111,\"#46039f\"],[0.2222222222222222,\"#7201a8\"],[0.3333333333333333,\"#9c179e\"],[0.4444444444444444,\"#bd3786\"],[0.5555555555555556,\"#d8576b\"],[0.6666666666666666,\"#ed7953\"],[0.7777777777777778,\"#fb9f3a\"],[0.8888888888888888,\"#fdca26\"],[1.0,\"#f0f921\"]]}],\"contourcarpet\":[{\"type\":\"contourcarpet\",\"colorbar\":{\"outlinewidth\":0,\"ticks\":\"\"}}],\"contour\":[{\"type\":\"contour\",\"colorbar\":{\"outlinewidth\":0,\"ticks\":\"\"},\"colorscale\":[[0.0,\"#0d0887\"],[0.1111111111111111,\"#46039f\"],[0.2222222222222222,\"#7201a8\"],[0.3333333333333333,\"#9c179e\"],[0.4444444444444444,\"#bd3786\"],[0.5555555555555556,\"#d8576b\"],[0.6666666666666666,\"#ed7953\"],[0.7777777777777778,\"#fb9f3a\"],[0.8888888888888888,\"#fdca26\"],[1.0,\"#f0f921\"]]}],\"surface\":[{\"type\":\"surface\",\"colorbar\":{\"outlinewidth\":0,\"ticks\":\"\"},\"colorscale\":[[0.0,\"#0d0887\"],[0.1111111111111111,\"#46039f\"],[0.2222222222222222,\"#7201a8\"],[0.3333333333333333,\"#9c179e\"],[0.4444444444444444,\"#bd3786\"],[0.5555555555555556,\"#d8576b\"],[0.6666666666666666,\"#ed7953\"],[0.7777777777777778,\"#fb9f3a\"],[0.8888888888888888,\"#fdca26\"],[1.0,\"#f0f921\"]]}],\"mesh3d\":[{\"type\":\"mesh3d\",\"colorbar\":{\"outlinewidth\":0,\"ticks\":\"\"}}],\"scatter\":[{\"fillpattern\":{\"fillmode\":\"overlay\",\"size\":10,\"solidity\":0.2},\"type\":\"scatter\"}],\"parcoords\":[{\"type\":\"parcoords\",\"line\":{\"colorbar\":{\"outlinewidth\":0,\"ticks\":\"\"}}}],\"scatterpolargl\":[{\"type\":\"scatterpolargl\",\"marker\":{\"colorbar\":{\"outlinewidth\":0,\"ticks\":\"\"}}}],\"bar\":[{\"error_x\":{\"color\":\"#2a3f5f\"},\"error_y\":{\"color\":\"#2a3f5f\"},\"marker\":{\"line\":{\"color\":\"#E5ECF6\",\"width\":0.5},\"pattern\":{\"fillmode\":\"overlay\",\"size\":10,\"solidity\":0.2}},\"type\":\"bar\"}],\"scattergeo\":[{\"type\":\"scattergeo\",\"marker\":{\"colorbar\":{\"outlinewidth\":0,\"ticks\":\"\"}}}],\"scatterpolar\":[{\"type\":\"scatterpolar\",\"marker\":{\"colorbar\":{\"outlinewidth\":0,\"ticks\":\"\"}}}],\"histogram\":[{\"marker\":{\"pattern\":{\"fillmode\":\"overlay\",\"size\":10,\"solidity\":0.2}},\"type\":\"histogram\"}],\"scattergl\":[{\"type\":\"scattergl\",\"marker\":{\"colorbar\":{\"outlinewidth\":0,\"ticks\":\"\"}}}],\"scatter3d\":[{\"type\":\"scatter3d\",\"line\":{\"colorbar\":{\"outlinewidth\":0,\"ticks\":\"\"}},\"marker\":{\"colorbar\":{\"outlinewidth\":0,\"ticks\":\"\"}}}],\"scattermapbox\":[{\"type\":\"scattermapbox\",\"marker\":{\"colorbar\":{\"outlinewidth\":0,\"ticks\":\"\"}}}],\"scatterternary\":[{\"type\":\"scatterternary\",\"marker\":{\"colorbar\":{\"outlinewidth\":0,\"ticks\":\"\"}}}],\"scattercarpet\":[{\"type\":\"scattercarpet\",\"marker\":{\"colorbar\":{\"outlinewidth\":0,\"ticks\":\"\"}}}],\"carpet\":[{\"aaxis\":{\"endlinecolor\":\"#2a3f5f\",\"gridcolor\":\"white\",\"linecolor\":\"white\",\"minorgridcolor\":\"white\",\"startlinecolor\":\"#2a3f5f\"},\"baxis\":{\"endlinecolor\":\"#2a3f5f\",\"gridcolor\":\"white\",\"linecolor\":\"white\",\"minorgridcolor\":\"white\",\"startlinecolor\":\"#2a3f5f\"},\"type\":\"carpet\"}],\"table\":[{\"cells\":{\"fill\":{\"color\":\"#EBF0F8\"},\"line\":{\"color\":\"white\"}},\"header\":{\"fill\":{\"color\":\"#C8D4E3\"},\"line\":{\"color\":\"white\"}},\"type\":\"table\"}],\"barpolar\":[{\"marker\":{\"line\":{\"color\":\"#E5ECF6\",\"width\":0.5},\"pattern\":{\"fillmode\":\"overlay\",\"size\":10,\"solidity\":0.2}},\"type\":\"barpolar\"}],\"pie\":[{\"automargin\":true,\"type\":\"pie\"}]},\"layout\":{\"autotypenumbers\":\"strict\",\"colorway\":[\"#636efa\",\"#EF553B\",\"#00cc96\",\"#ab63fa\",\"#FFA15A\",\"#19d3f3\",\"#FF6692\",\"#B6E880\",\"#FF97FF\",\"#FECB52\"],\"font\":{\"color\":\"#2a3f5f\"},\"hovermode\":\"closest\",\"hoverlabel\":{\"align\":\"left\"},\"paper_bgcolor\":\"white\",\"plot_bgcolor\":\"#E5ECF6\",\"polar\":{\"bgcolor\":\"#E5ECF6\",\"angularaxis\":{\"gridcolor\":\"white\",\"linecolor\":\"white\",\"ticks\":\"\"},\"radialaxis\":{\"gridcolor\":\"white\",\"linecolor\":\"white\",\"ticks\":\"\"}},\"ternary\":{\"bgcolor\":\"#E5ECF6\",\"aaxis\":{\"gridcolor\":\"white\",\"linecolor\":\"white\",\"ticks\":\"\"},\"baxis\":{\"gridcolor\":\"white\",\"linecolor\":\"white\",\"ticks\":\"\"},\"caxis\":{\"gridcolor\":\"white\",\"linecolor\":\"white\",\"ticks\":\"\"}},\"coloraxis\":{\"colorbar\":{\"outlinewidth\":0,\"ticks\":\"\"}},\"colorscale\":{\"sequential\":[[0.0,\"#0d0887\"],[0.1111111111111111,\"#46039f\"],[0.2222222222222222,\"#7201a8\"],[0.3333333333333333,\"#9c179e\"],[0.4444444444444444,\"#bd3786\"],[0.5555555555555556,\"#d8576b\"],[0.6666666666666666,\"#ed7953\"],[0.7777777777777778,\"#fb9f3a\"],[0.8888888888888888,\"#fdca26\"],[1.0,\"#f0f921\"]],\"sequentialminus\":[[0.0,\"#0d0887\"],[0.1111111111111111,\"#46039f\"],[0.2222222222222222,\"#7201a8\"],[0.3333333333333333,\"#9c179e\"],[0.4444444444444444,\"#bd3786\"],[0.5555555555555556,\"#d8576b\"],[0.6666666666666666,\"#ed7953\"],[0.7777777777777778,\"#fb9f3a\"],[0.8888888888888888,\"#fdca26\"],[1.0,\"#f0f921\"]],\"diverging\":[[0,\"#8e0152\"],[0.1,\"#c51b7d\"],[0.2,\"#de77ae\"],[0.3,\"#f1b6da\"],[0.4,\"#fde0ef\"],[0.5,\"#f7f7f7\"],[0.6,\"#e6f5d0\"],[0.7,\"#b8e186\"],[0.8,\"#7fbc41\"],[0.9,\"#4d9221\"],[1,\"#276419\"]]},\"xaxis\":{\"gridcolor\":\"white\",\"linecolor\":\"white\",\"ticks\":\"\",\"title\":{\"standoff\":15},\"zerolinecolor\":\"white\",\"automargin\":true,\"zerolinewidth\":2},\"yaxis\":{\"gridcolor\":\"white\",\"linecolor\":\"white\",\"ticks\":\"\",\"title\":{\"standoff\":15},\"zerolinecolor\":\"white\",\"automargin\":true,\"zerolinewidth\":2},\"scene\":{\"xaxis\":{\"backgroundcolor\":\"#E5ECF6\",\"gridcolor\":\"white\",\"linecolor\":\"white\",\"showbackground\":true,\"ticks\":\"\",\"zerolinecolor\":\"white\",\"gridwidth\":2},\"yaxis\":{\"backgroundcolor\":\"#E5ECF6\",\"gridcolor\":\"white\",\"linecolor\":\"white\",\"showbackground\":true,\"ticks\":\"\",\"zerolinecolor\":\"white\",\"gridwidth\":2},\"zaxis\":{\"backgroundcolor\":\"#E5ECF6\",\"gridcolor\":\"white\",\"linecolor\":\"white\",\"showbackground\":true,\"ticks\":\"\",\"zerolinecolor\":\"white\",\"gridwidth\":2}},\"shapedefaults\":{\"line\":{\"color\":\"#2a3f5f\"}},\"annotationdefaults\":{\"arrowcolor\":\"#2a3f5f\",\"arrowhead\":0,\"arrowwidth\":1},\"geo\":{\"bgcolor\":\"white\",\"landcolor\":\"#E5ECF6\",\"subunitcolor\":\"white\",\"showland\":true,\"showlakes\":true,\"lakecolor\":\"white\"},\"title\":{\"x\":0.05},\"mapbox\":{\"style\":\"light\"}}},\"xaxis\":{\"anchor\":\"y\",\"domain\":[0.0,0.46499999999999997],\"title\":{\"text\":\"Predicted\"}},\"yaxis\":{\"anchor\":\"x\",\"domain\":[0.6000000000000001,1.0],\"title\":{\"text\":\"Real\"}},\"xaxis2\":{\"anchor\":\"y2\",\"domain\":[0.0,0.46499999999999997],\"title\":{\"text\":\"false positive rate\"}},\"yaxis2\":{\"anchor\":\"x2\",\"domain\":[0.0,0.4],\"title\":{\"text\":\"true positive rate\"}},\"xaxis3\":{\"anchor\":\"y3\",\"domain\":[0.5349999999999999,0.9999999999999999],\"title\":{\"text\":\"recall\"}},\"yaxis3\":{\"anchor\":\"x3\",\"domain\":[0.0,0.4],\"title\":{\"text\":\"precision\"}},\"annotations\":[{\"font\":{\"size\":16},\"showarrow\":false,\"text\":\"Confusion matix\",\"x\":0.23249999999999998,\"xanchor\":\"center\",\"xref\":\"paper\",\"y\":1.0,\"yanchor\":\"bottom\",\"yref\":\"paper\"},{\"font\":{\"size\":16},\"showarrow\":false,\"text\":\"Classification metrics\",\"x\":0.7674999999999998,\"xanchor\":\"center\",\"xref\":\"paper\",\"y\":1.0,\"yanchor\":\"bottom\",\"yref\":\"paper\"},{\"font\":{\"size\":16},\"showarrow\":false,\"text\":\"ROC curve (AUC=0.773)\",\"x\":0.23249999999999998,\"xanchor\":\"center\",\"xref\":\"paper\",\"y\":0.4,\"yanchor\":\"bottom\",\"yref\":\"paper\"},{\"font\":{\"size\":16},\"showarrow\":false,\"text\":\"Precision - Recall curve\",\"x\":0.7674999999999998,\"xanchor\":\"center\",\"xref\":\"paper\",\"y\":0.4,\"yanchor\":\"bottom\",\"yref\":\"paper\"},{\"showarrow\":false,\"text\":\"0\",\"x\":0,\"xref\":\"x\",\"y\":0,\"yref\":\"y\",\"yshift\":10},{\"showarrow\":false,\"text\":\"5\",\"x\":0,\"xref\":\"x\",\"y\":1,\"yref\":\"y\",\"yshift\":10},{\"showarrow\":false,\"text\":\"0\",\"x\":1,\"xref\":\"x\",\"y\":0,\"yref\":\"y\",\"yshift\":10},{\"showarrow\":false,\"text\":\"59\",\"x\":1,\"xref\":\"x\",\"y\":1,\"yref\":\"y\",\"yshift\":10}],\"title\":{\"text\":\"Global report for: RandomForest\"},\"height\":800},                        {\"responsive\": true}                    ).then(function(){\n",
       "                            \n",
       "var gd = document.getElementById('2c5620fe-3f57-49c9-baf5-0e9a131a2394');\n",
       "var x = new MutationObserver(function (mutations, observer) {{\n",
       "        var display = window.getComputedStyle(gd).display;\n",
       "        if (!display || display === 'none') {{\n",
       "            console.log([gd, 'removed!']);\n",
       "            Plotly.purge(gd);\n",
       "            observer.disconnect();\n",
       "        }}\n",
       "}});\n",
       "\n",
       "// Listen for the removal of the full notebook cells\n",
       "var notebookContainer = gd.closest('#notebook-container');\n",
       "if (notebookContainer) {{\n",
       "    x.observe(notebookContainer, {childList: true});\n",
       "}}\n",
       "\n",
       "// Listen for the clearing of the current output cell\n",
       "var outputEl = gd.closest('.output');\n",
       "if (outputEl) {{\n",
       "    x.observe(outputEl, {childList: true});\n",
       "}}\n",
       "\n",
       "                        })                };                            </script>        </div>\n",
       "</body>\n",
       "</html>"
      ]
     },
     "metadata": {},
     "output_type": "display_data"
    }
   ],
   "source": [
    "start = time.time()\n",
    "rf_model = sh.best_estimator_\n",
    "rf_model.fit(data_train[selected_columns], target_train)\n",
    "elapsed_time_2 = time.time() - start\n",
    "\n",
    "print(\n",
    "    f\"The model {rf_model.__class__.__name__} was trained in \"\n",
    "    f\"{elapsed_time_2:.3f} seconds\"\n",
    ")\n",
    "\n",
    "evaluate(rf_model, data_train, target_train, cv=5)\n",
    "scores_rfa = generate_classification_report(rf_model, data_test[selected_columns], target_test, \"RandomForest\")"
   ]
  },
  {
   "cell_type": "markdown",
   "metadata": {
    "id": "LIsGqwPQtD2X"
   },
   "source": [
    "# Comparison of Random Forest Model Before and After Feature Selection"
   ]
  },
  {
   "cell_type": "markdown",
   "metadata": {
    "id": "xhpqeusithrp"
   },
   "source": [
    "In this analysis, we will compare the performance of the Random Forest model before and after performing feature selection. The Random Forest model is initially trained using all available features. Then, feature selection techniques are applied to identify the most important features.\n",
    "\n",
    "Before feature selection, the Random Forest model is trained on the entire set of features. This allows the model to consider the collective information from all available predictors. However, it can lead to potential issues such as overfitting or including irrelevant features that may not contribute significantly to the model's performance.\n",
    "\n",
    "Then we apply Shap values to select the most important features. This process will help to reduce the dimensionality of the feature space, focusing only on the most informative predictors. By eliminating irrelevant or redundant features, we aim to improve the model's performance and interpretability."
   ]
  },
  {
   "cell_type": "code",
   "execution_count": 131,
   "metadata": {
    "id": "HxUHRdSkMJ17"
   },
   "outputs": [],
   "source": [
    "scores_list = [ scores_rf, scores_rfa ]\n",
    "model_list = [  'RF before FS', 'RF after FS' ]"
   ]
  },
  {
   "cell_type": "code",
   "execution_count": 132,
   "metadata": {
    "id": "QBDVVUZKsaTY"
   },
   "outputs": [],
   "source": [
    "df_results = pd.DataFrame(columns=['model', 'accuray', 'precision', 'recall', 'f1 score', '<b>area under the roc</b>', '<b>brier score loss</b>'])\n",
    "\n",
    "df_results['model'] =  model_list\n",
    "for c in df_results.columns :\n",
    "    if c != 'model':\n",
    "        df_results[c] = [ score[c] for score in scores_list]\n",
    "\n",
    "df_results = df_results.rename(columns={'accuray':'accuracy'})"
   ]
  },
  {
   "cell_type": "code",
   "execution_count": 133,
   "metadata": {
    "colab": {
     "base_uri": "https://localhost:8080/",
     "height": 157
    },
    "id": "YXmsIf_Lsasu",
    "outputId": "d9c0bf6b-d21d-4a62-9eb9-9eb4ec9eafde"
   },
   "outputs": [
    {
     "data": {
      "text/html": [
       "<html>\n",
       "<head><meta charset=\"utf-8\" /></head>\n",
       "<body>\n",
       "    <div>            <script src=\"https://cdnjs.cloudflare.com/ajax/libs/mathjax/2.7.5/MathJax.js?config=TeX-AMS-MML_SVG\"></script><script type=\"text/javascript\">if (window.MathJax && window.MathJax.Hub && window.MathJax.Hub.Config) {window.MathJax.Hub.Config({SVG: {font: \"STIX-Web\"}});}</script>                <script type=\"text/javascript\">window.PlotlyConfig = {MathJaxConfig: 'local'};</script>\n",
       "        <script src=\"https://cdn.plot.ly/plotly-2.18.2.min.js\"></script>                <div id=\"4cdd1dfe-f901-4952-b285-1d53f3fe5a57\" class=\"plotly-graph-div\" style=\"height:140px; width:100%;\"></div>            <script type=\"text/javascript\">                                    window.PLOTLYENV=window.PLOTLYENV || {};                                    if (document.getElementById(\"4cdd1dfe-f901-4952-b285-1d53f3fe5a57\")) {                    Plotly.newPlot(                        \"4cdd1dfe-f901-4952-b285-1d53f3fe5a57\",                        [{\"colorscale\":[[0,\"#018571\"],[0.5,\"#ffffff\"],[1,\"#ffffff\"]],\"hoverinfo\":\"none\",\"opacity\":0.75,\"showscale\":false,\"z\":[[0,0,0,0,0,0,0],[0.5,0.5,0.5,0.5,0.5,0.5,0.5],[1,1,1,1,1,1,1]],\"type\":\"heatmap\"}],                        {\"annotations\":[{\"align\":\"left\",\"font\":{\"color\":\"#ffffff\"},\"showarrow\":false,\"text\":\"<b>model</b>\",\"x\":-0.45,\"xanchor\":\"left\",\"xref\":\"x\",\"y\":0,\"yref\":\"y\"},{\"align\":\"left\",\"font\":{\"color\":\"#ffffff\"},\"showarrow\":false,\"text\":\"<b>accuracy</b>\",\"x\":0.55,\"xanchor\":\"left\",\"xref\":\"x\",\"y\":0,\"yref\":\"y\"},{\"align\":\"left\",\"font\":{\"color\":\"#ffffff\"},\"showarrow\":false,\"text\":\"<b>precision</b>\",\"x\":1.55,\"xanchor\":\"left\",\"xref\":\"x\",\"y\":0,\"yref\":\"y\"},{\"align\":\"left\",\"font\":{\"color\":\"#ffffff\"},\"showarrow\":false,\"text\":\"<b>recall</b>\",\"x\":2.55,\"xanchor\":\"left\",\"xref\":\"x\",\"y\":0,\"yref\":\"y\"},{\"align\":\"left\",\"font\":{\"color\":\"#ffffff\"},\"showarrow\":false,\"text\":\"<b>f1 score</b>\",\"x\":3.55,\"xanchor\":\"left\",\"xref\":\"x\",\"y\":0,\"yref\":\"y\"},{\"align\":\"left\",\"font\":{\"color\":\"#ffffff\"},\"showarrow\":false,\"text\":\"<b><b>area under the roc</b></b>\",\"x\":4.55,\"xanchor\":\"left\",\"xref\":\"x\",\"y\":0,\"yref\":\"y\"},{\"align\":\"left\",\"font\":{\"color\":\"#ffffff\"},\"showarrow\":false,\"text\":\"<b><b>brier score loss</b></b>\",\"x\":5.55,\"xanchor\":\"left\",\"xref\":\"x\",\"y\":0,\"yref\":\"y\"},{\"align\":\"left\",\"font\":{\"color\":\"#000000\"},\"showarrow\":false,\"text\":\"RF before FS\",\"x\":-0.45,\"xanchor\":\"left\",\"xref\":\"x\",\"y\":1,\"yref\":\"y\"},{\"align\":\"left\",\"font\":{\"color\":\"#000000\"},\"showarrow\":false,\"text\":\"0.922\",\"x\":0.55,\"xanchor\":\"left\",\"xref\":\"x\",\"y\":1,\"yref\":\"y\"},{\"align\":\"left\",\"font\":{\"color\":\"#000000\"},\"showarrow\":false,\"text\":\"0.922\",\"x\":1.55,\"xanchor\":\"left\",\"xref\":\"x\",\"y\":1,\"yref\":\"y\"},{\"align\":\"left\",\"font\":{\"color\":\"#000000\"},\"showarrow\":false,\"text\":\"1.0\",\"x\":2.55,\"xanchor\":\"left\",\"xref\":\"x\",\"y\":1,\"yref\":\"y\"},{\"align\":\"left\",\"font\":{\"color\":\"#000000\"},\"showarrow\":false,\"text\":\"0.959\",\"x\":3.55,\"xanchor\":\"left\",\"xref\":\"x\",\"y\":1,\"yref\":\"y\"},{\"align\":\"left\",\"font\":{\"color\":\"#000000\"},\"showarrow\":false,\"text\":\"0.776\",\"x\":4.55,\"xanchor\":\"left\",\"xref\":\"x\",\"y\":1,\"yref\":\"y\"},{\"align\":\"left\",\"font\":{\"color\":\"#000000\"},\"showarrow\":false,\"text\":\"0.078\",\"x\":5.55,\"xanchor\":\"left\",\"xref\":\"x\",\"y\":1,\"yref\":\"y\"},{\"align\":\"left\",\"font\":{\"color\":\"#000000\"},\"showarrow\":false,\"text\":\"RF after FS\",\"x\":-0.45,\"xanchor\":\"left\",\"xref\":\"x\",\"y\":2,\"yref\":\"y\"},{\"align\":\"left\",\"font\":{\"color\":\"#000000\"},\"showarrow\":false,\"text\":\"0.922\",\"x\":0.55,\"xanchor\":\"left\",\"xref\":\"x\",\"y\":2,\"yref\":\"y\"},{\"align\":\"left\",\"font\":{\"color\":\"#000000\"},\"showarrow\":false,\"text\":\"0.922\",\"x\":1.55,\"xanchor\":\"left\",\"xref\":\"x\",\"y\":2,\"yref\":\"y\"},{\"align\":\"left\",\"font\":{\"color\":\"#000000\"},\"showarrow\":false,\"text\":\"1.0\",\"x\":2.55,\"xanchor\":\"left\",\"xref\":\"x\",\"y\":2,\"yref\":\"y\"},{\"align\":\"left\",\"font\":{\"color\":\"#000000\"},\"showarrow\":false,\"text\":\"0.959\",\"x\":3.55,\"xanchor\":\"left\",\"xref\":\"x\",\"y\":2,\"yref\":\"y\"},{\"align\":\"left\",\"font\":{\"color\":\"#000000\"},\"showarrow\":false,\"text\":\"0.773\",\"x\":4.55,\"xanchor\":\"left\",\"xref\":\"x\",\"y\":2,\"yref\":\"y\"},{\"align\":\"left\",\"font\":{\"color\":\"#000000\"},\"showarrow\":false,\"text\":\"0.078\",\"x\":5.55,\"xanchor\":\"left\",\"xref\":\"x\",\"y\":2,\"yref\":\"y\"}],\"height\":140,\"margin\":{\"b\":0,\"l\":0,\"r\":0,\"t\":0},\"template\":{\"data\":{\"barpolar\":[{\"marker\":{\"line\":{\"color\":\"#E5ECF6\",\"width\":0.5},\"pattern\":{\"fillmode\":\"overlay\",\"size\":10,\"solidity\":0.2}},\"type\":\"barpolar\"}],\"bar\":[{\"error_x\":{\"color\":\"#2a3f5f\"},\"error_y\":{\"color\":\"#2a3f5f\"},\"marker\":{\"line\":{\"color\":\"#E5ECF6\",\"width\":0.5},\"pattern\":{\"fillmode\":\"overlay\",\"size\":10,\"solidity\":0.2}},\"type\":\"bar\"}],\"carpet\":[{\"aaxis\":{\"endlinecolor\":\"#2a3f5f\",\"gridcolor\":\"white\",\"linecolor\":\"white\",\"minorgridcolor\":\"white\",\"startlinecolor\":\"#2a3f5f\"},\"baxis\":{\"endlinecolor\":\"#2a3f5f\",\"gridcolor\":\"white\",\"linecolor\":\"white\",\"minorgridcolor\":\"white\",\"startlinecolor\":\"#2a3f5f\"},\"type\":\"carpet\"}],\"choropleth\":[{\"colorbar\":{\"outlinewidth\":0,\"ticks\":\"\"},\"type\":\"choropleth\"}],\"contourcarpet\":[{\"colorbar\":{\"outlinewidth\":0,\"ticks\":\"\"},\"type\":\"contourcarpet\"}],\"contour\":[{\"colorbar\":{\"outlinewidth\":0,\"ticks\":\"\"},\"colorscale\":[[0.0,\"#0d0887\"],[0.1111111111111111,\"#46039f\"],[0.2222222222222222,\"#7201a8\"],[0.3333333333333333,\"#9c179e\"],[0.4444444444444444,\"#bd3786\"],[0.5555555555555556,\"#d8576b\"],[0.6666666666666666,\"#ed7953\"],[0.7777777777777778,\"#fb9f3a\"],[0.8888888888888888,\"#fdca26\"],[1.0,\"#f0f921\"]],\"type\":\"contour\"}],\"heatmapgl\":[{\"colorbar\":{\"outlinewidth\":0,\"ticks\":\"\"},\"colorscale\":[[0.0,\"#0d0887\"],[0.1111111111111111,\"#46039f\"],[0.2222222222222222,\"#7201a8\"],[0.3333333333333333,\"#9c179e\"],[0.4444444444444444,\"#bd3786\"],[0.5555555555555556,\"#d8576b\"],[0.6666666666666666,\"#ed7953\"],[0.7777777777777778,\"#fb9f3a\"],[0.8888888888888888,\"#fdca26\"],[1.0,\"#f0f921\"]],\"type\":\"heatmapgl\"}],\"heatmap\":[{\"colorbar\":{\"outlinewidth\":0,\"ticks\":\"\"},\"colorscale\":[[0.0,\"#0d0887\"],[0.1111111111111111,\"#46039f\"],[0.2222222222222222,\"#7201a8\"],[0.3333333333333333,\"#9c179e\"],[0.4444444444444444,\"#bd3786\"],[0.5555555555555556,\"#d8576b\"],[0.6666666666666666,\"#ed7953\"],[0.7777777777777778,\"#fb9f3a\"],[0.8888888888888888,\"#fdca26\"],[1.0,\"#f0f921\"]],\"type\":\"heatmap\"}],\"histogram2dcontour\":[{\"colorbar\":{\"outlinewidth\":0,\"ticks\":\"\"},\"colorscale\":[[0.0,\"#0d0887\"],[0.1111111111111111,\"#46039f\"],[0.2222222222222222,\"#7201a8\"],[0.3333333333333333,\"#9c179e\"],[0.4444444444444444,\"#bd3786\"],[0.5555555555555556,\"#d8576b\"],[0.6666666666666666,\"#ed7953\"],[0.7777777777777778,\"#fb9f3a\"],[0.8888888888888888,\"#fdca26\"],[1.0,\"#f0f921\"]],\"type\":\"histogram2dcontour\"}],\"histogram2d\":[{\"colorbar\":{\"outlinewidth\":0,\"ticks\":\"\"},\"colorscale\":[[0.0,\"#0d0887\"],[0.1111111111111111,\"#46039f\"],[0.2222222222222222,\"#7201a8\"],[0.3333333333333333,\"#9c179e\"],[0.4444444444444444,\"#bd3786\"],[0.5555555555555556,\"#d8576b\"],[0.6666666666666666,\"#ed7953\"],[0.7777777777777778,\"#fb9f3a\"],[0.8888888888888888,\"#fdca26\"],[1.0,\"#f0f921\"]],\"type\":\"histogram2d\"}],\"histogram\":[{\"marker\":{\"pattern\":{\"fillmode\":\"overlay\",\"size\":10,\"solidity\":0.2}},\"type\":\"histogram\"}],\"mesh3d\":[{\"colorbar\":{\"outlinewidth\":0,\"ticks\":\"\"},\"type\":\"mesh3d\"}],\"parcoords\":[{\"line\":{\"colorbar\":{\"outlinewidth\":0,\"ticks\":\"\"}},\"type\":\"parcoords\"}],\"pie\":[{\"automargin\":true,\"type\":\"pie\"}],\"scatter3d\":[{\"line\":{\"colorbar\":{\"outlinewidth\":0,\"ticks\":\"\"}},\"marker\":{\"colorbar\":{\"outlinewidth\":0,\"ticks\":\"\"}},\"type\":\"scatter3d\"}],\"scattercarpet\":[{\"marker\":{\"colorbar\":{\"outlinewidth\":0,\"ticks\":\"\"}},\"type\":\"scattercarpet\"}],\"scattergeo\":[{\"marker\":{\"colorbar\":{\"outlinewidth\":0,\"ticks\":\"\"}},\"type\":\"scattergeo\"}],\"scattergl\":[{\"marker\":{\"colorbar\":{\"outlinewidth\":0,\"ticks\":\"\"}},\"type\":\"scattergl\"}],\"scattermapbox\":[{\"marker\":{\"colorbar\":{\"outlinewidth\":0,\"ticks\":\"\"}},\"type\":\"scattermapbox\"}],\"scatterpolargl\":[{\"marker\":{\"colorbar\":{\"outlinewidth\":0,\"ticks\":\"\"}},\"type\":\"scatterpolargl\"}],\"scatterpolar\":[{\"marker\":{\"colorbar\":{\"outlinewidth\":0,\"ticks\":\"\"}},\"type\":\"scatterpolar\"}],\"scatter\":[{\"fillpattern\":{\"fillmode\":\"overlay\",\"size\":10,\"solidity\":0.2},\"type\":\"scatter\"}],\"scatterternary\":[{\"marker\":{\"colorbar\":{\"outlinewidth\":0,\"ticks\":\"\"}},\"type\":\"scatterternary\"}],\"surface\":[{\"colorbar\":{\"outlinewidth\":0,\"ticks\":\"\"},\"colorscale\":[[0.0,\"#0d0887\"],[0.1111111111111111,\"#46039f\"],[0.2222222222222222,\"#7201a8\"],[0.3333333333333333,\"#9c179e\"],[0.4444444444444444,\"#bd3786\"],[0.5555555555555556,\"#d8576b\"],[0.6666666666666666,\"#ed7953\"],[0.7777777777777778,\"#fb9f3a\"],[0.8888888888888888,\"#fdca26\"],[1.0,\"#f0f921\"]],\"type\":\"surface\"}],\"table\":[{\"cells\":{\"fill\":{\"color\":\"#EBF0F8\"},\"line\":{\"color\":\"white\"}},\"header\":{\"fill\":{\"color\":\"#C8D4E3\"},\"line\":{\"color\":\"white\"}},\"type\":\"table\"}]},\"layout\":{\"annotationdefaults\":{\"arrowcolor\":\"#2a3f5f\",\"arrowhead\":0,\"arrowwidth\":1},\"autotypenumbers\":\"strict\",\"coloraxis\":{\"colorbar\":{\"outlinewidth\":0,\"ticks\":\"\"}},\"colorscale\":{\"diverging\":[[0,\"#8e0152\"],[0.1,\"#c51b7d\"],[0.2,\"#de77ae\"],[0.3,\"#f1b6da\"],[0.4,\"#fde0ef\"],[0.5,\"#f7f7f7\"],[0.6,\"#e6f5d0\"],[0.7,\"#b8e186\"],[0.8,\"#7fbc41\"],[0.9,\"#4d9221\"],[1,\"#276419\"]],\"sequential\":[[0.0,\"#0d0887\"],[0.1111111111111111,\"#46039f\"],[0.2222222222222222,\"#7201a8\"],[0.3333333333333333,\"#9c179e\"],[0.4444444444444444,\"#bd3786\"],[0.5555555555555556,\"#d8576b\"],[0.6666666666666666,\"#ed7953\"],[0.7777777777777778,\"#fb9f3a\"],[0.8888888888888888,\"#fdca26\"],[1.0,\"#f0f921\"]],\"sequentialminus\":[[0.0,\"#0d0887\"],[0.1111111111111111,\"#46039f\"],[0.2222222222222222,\"#7201a8\"],[0.3333333333333333,\"#9c179e\"],[0.4444444444444444,\"#bd3786\"],[0.5555555555555556,\"#d8576b\"],[0.6666666666666666,\"#ed7953\"],[0.7777777777777778,\"#fb9f3a\"],[0.8888888888888888,\"#fdca26\"],[1.0,\"#f0f921\"]]},\"colorway\":[\"#636efa\",\"#EF553B\",\"#00cc96\",\"#ab63fa\",\"#FFA15A\",\"#19d3f3\",\"#FF6692\",\"#B6E880\",\"#FF97FF\",\"#FECB52\"],\"font\":{\"color\":\"#2a3f5f\"},\"geo\":{\"bgcolor\":\"white\",\"lakecolor\":\"white\",\"landcolor\":\"#E5ECF6\",\"showlakes\":true,\"showland\":true,\"subunitcolor\":\"white\"},\"hoverlabel\":{\"align\":\"left\"},\"hovermode\":\"closest\",\"mapbox\":{\"style\":\"light\"},\"paper_bgcolor\":\"white\",\"plot_bgcolor\":\"#E5ECF6\",\"polar\":{\"angularaxis\":{\"gridcolor\":\"white\",\"linecolor\":\"white\",\"ticks\":\"\"},\"bgcolor\":\"#E5ECF6\",\"radialaxis\":{\"gridcolor\":\"white\",\"linecolor\":\"white\",\"ticks\":\"\"}},\"scene\":{\"xaxis\":{\"backgroundcolor\":\"#E5ECF6\",\"gridcolor\":\"white\",\"gridwidth\":2,\"linecolor\":\"white\",\"showbackground\":true,\"ticks\":\"\",\"zerolinecolor\":\"white\"},\"yaxis\":{\"backgroundcolor\":\"#E5ECF6\",\"gridcolor\":\"white\",\"gridwidth\":2,\"linecolor\":\"white\",\"showbackground\":true,\"ticks\":\"\",\"zerolinecolor\":\"white\"},\"zaxis\":{\"backgroundcolor\":\"#E5ECF6\",\"gridcolor\":\"white\",\"gridwidth\":2,\"linecolor\":\"white\",\"showbackground\":true,\"ticks\":\"\",\"zerolinecolor\":\"white\"}},\"shapedefaults\":{\"line\":{\"color\":\"#2a3f5f\"}},\"ternary\":{\"aaxis\":{\"gridcolor\":\"white\",\"linecolor\":\"white\",\"ticks\":\"\"},\"baxis\":{\"gridcolor\":\"white\",\"linecolor\":\"white\",\"ticks\":\"\"},\"bgcolor\":\"#E5ECF6\",\"caxis\":{\"gridcolor\":\"white\",\"linecolor\":\"white\",\"ticks\":\"\"}},\"title\":{\"x\":0.05},\"xaxis\":{\"automargin\":true,\"gridcolor\":\"white\",\"linecolor\":\"white\",\"ticks\":\"\",\"title\":{\"standoff\":15},\"zerolinecolor\":\"white\",\"zerolinewidth\":2},\"yaxis\":{\"automargin\":true,\"gridcolor\":\"white\",\"linecolor\":\"white\",\"ticks\":\"\",\"title\":{\"standoff\":15},\"zerolinecolor\":\"white\",\"zerolinewidth\":2}}},\"xaxis\":{\"dtick\":1,\"gridwidth\":2,\"showticklabels\":false,\"tick0\":-0.5,\"ticks\":\"\",\"zeroline\":false},\"yaxis\":{\"autorange\":\"reversed\",\"dtick\":1,\"gridwidth\":2,\"showticklabels\":false,\"tick0\":0.5,\"ticks\":\"\",\"zeroline\":false}},                        {\"responsive\": true}                    ).then(function(){\n",
       "                            \n",
       "var gd = document.getElementById('4cdd1dfe-f901-4952-b285-1d53f3fe5a57');\n",
       "var x = new MutationObserver(function (mutations, observer) {{\n",
       "        var display = window.getComputedStyle(gd).display;\n",
       "        if (!display || display === 'none') {{\n",
       "            console.log([gd, 'removed!']);\n",
       "            Plotly.purge(gd);\n",
       "            observer.disconnect();\n",
       "        }}\n",
       "}});\n",
       "\n",
       "// Listen for the removal of the full notebook cells\n",
       "var notebookContainer = gd.closest('#notebook-container');\n",
       "if (notebookContainer) {{\n",
       "    x.observe(notebookContainer, {childList: true});\n",
       "}}\n",
       "\n",
       "// Listen for the clearing of the current output cell\n",
       "var outputEl = gd.closest('.output');\n",
       "if (outputEl) {{\n",
       "    x.observe(outputEl, {childList: true});\n",
       "}}\n",
       "\n",
       "                        })                };                            </script>        </div>\n",
       "</body>\n",
       "</html>"
      ]
     },
     "metadata": {},
     "output_type": "display_data"
    }
   ],
   "source": [
    "import plotly.figure_factory as ff\n",
    "import plotly.offline as py\n",
    "\n",
    "\n",
    "table  = ff.create_table(np.round(df_results,4),colorscale=[[0, '#018571'],[.5, '#ffffff'],[1, '#ffffff']],\n",
    "                        font_colors=['#ffffff', '#000000', '#000000'])\n",
    "\n",
    "py.iplot(table)"
   ]
  },
  {
   "cell_type": "markdown",
   "metadata": {
    "id": "51OiYtAGuAyw"
   },
   "source": [
    "#C/c:\n",
    "After comparing the Random Forest model before and after feature selection, we found minimal changes in accuracy, precision, recall, and F1 score. The area under the ROC curve slightly decreased after feature selection, while the Brier score loss remained unchanged. Feature selection had limited impact on model performance, indicating that the initial model with all features performed comparably to the selected subset of features.\n",
    "\n",
    "However if we are working on large data and have found the same result like this random forest after feature selection would be preferable. This is because feature selection helps reduce computational time and dimensionality, making the model more efficient and manageable without significantly impacting its performance."
   ]
  }
 ],
 "metadata": {
  "colab": {
   "provenance": []
  },
  "kernelspec": {
   "display_name": "Python 3 (ipykernel)",
   "language": "python",
   "name": "python3"
  },
  "language_info": {
   "codemirror_mode": {
    "name": "ipython",
    "version": 3
   },
   "file_extension": ".py",
   "mimetype": "text/x-python",
   "name": "python",
   "nbconvert_exporter": "python",
   "pygments_lexer": "ipython3",
   "version": "3.9.6"
  }
 },
 "nbformat": 4,
 "nbformat_minor": 1
}
